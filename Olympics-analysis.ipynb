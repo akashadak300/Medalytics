{
 "cells": [
  {
   "cell_type": "code",
   "execution_count": null,
   "id": "c64c8d98",
   "metadata": {},
   "outputs": [],
   "source": [
    "import numpy as np\n",
    "import pandas as pd\n"
   ]
  },
  {
   "cell_type": "code",
   "execution_count": 104,
   "id": "ce8546da",
   "metadata": {},
   "outputs": [],
   "source": [
    "df=pd.read_csv('athlete_events.csv')\n",
    "region_df=pd.read_csv('noc_regions.csv')"
   ]
  },
  {
   "cell_type": "code",
   "execution_count": 105,
   "id": "c45a7f0e",
   "metadata": {},
   "outputs": [
    {
     "data": {
      "application/vnd.microsoft.datawrangler.viewer.v0+json": {
       "columns": [
        {
         "name": "index",
         "rawType": "int64",
         "type": "integer"
        },
        {
         "name": "ID",
         "rawType": "int64",
         "type": "integer"
        },
        {
         "name": "Name",
         "rawType": "object",
         "type": "string"
        },
        {
         "name": "Sex",
         "rawType": "object",
         "type": "string"
        },
        {
         "name": "Age",
         "rawType": "float64",
         "type": "float"
        },
        {
         "name": "Height",
         "rawType": "float64",
         "type": "float"
        },
        {
         "name": "Weight",
         "rawType": "float64",
         "type": "float"
        },
        {
         "name": "Team",
         "rawType": "object",
         "type": "string"
        },
        {
         "name": "NOC",
         "rawType": "object",
         "type": "string"
        },
        {
         "name": "Games",
         "rawType": "object",
         "type": "string"
        },
        {
         "name": "Year",
         "rawType": "int64",
         "type": "integer"
        },
        {
         "name": "Season",
         "rawType": "object",
         "type": "string"
        },
        {
         "name": "City",
         "rawType": "object",
         "type": "string"
        },
        {
         "name": "Sport",
         "rawType": "object",
         "type": "string"
        },
        {
         "name": "Event",
         "rawType": "object",
         "type": "string"
        },
        {
         "name": "Medal",
         "rawType": "object",
         "type": "unknown"
        }
       ],
       "ref": "dbd3b32f-ba04-4eeb-85f5-adad9a57e6ac",
       "rows": [
        [
         "0",
         "1",
         "A Dijiang",
         "M",
         "24.0",
         "180.0",
         "80.0",
         "China",
         "CHN",
         "1992 Summer",
         "1992",
         "Summer",
         "Barcelona",
         "Basketball",
         "Basketball Men's Basketball",
         null
        ],
        [
         "1",
         "2",
         "A Lamusi",
         "M",
         "23.0",
         "170.0",
         "60.0",
         "China",
         "CHN",
         "2012 Summer",
         "2012",
         "Summer",
         "London",
         "Judo",
         "Judo Men's Extra-Lightweight",
         null
        ],
        [
         "2",
         "3",
         "Gunnar Nielsen Aaby",
         "M",
         "24.0",
         null,
         null,
         "Denmark",
         "DEN",
         "1920 Summer",
         "1920",
         "Summer",
         "Antwerpen",
         "Football",
         "Football Men's Football",
         null
        ],
        [
         "3",
         "4",
         "Edgar Lindenau Aabye",
         "M",
         "34.0",
         null,
         null,
         "Denmark/Sweden",
         "DEN",
         "1900 Summer",
         "1900",
         "Summer",
         "Paris",
         "Tug-Of-War",
         "Tug-Of-War Men's Tug-Of-War",
         "Gold"
        ],
        [
         "4",
         "5",
         "Christine Jacoba Aaftink",
         "F",
         "21.0",
         "185.0",
         "82.0",
         "Netherlands",
         "NED",
         "1988 Winter",
         "1988",
         "Winter",
         "Calgary",
         "Speed Skating",
         "Speed Skating Women's 500 metres",
         null
        ]
       ],
       "shape": {
        "columns": 15,
        "rows": 5
       }
      },
      "text/html": [
       "<div>\n",
       "<style scoped>\n",
       "    .dataframe tbody tr th:only-of-type {\n",
       "        vertical-align: middle;\n",
       "    }\n",
       "\n",
       "    .dataframe tbody tr th {\n",
       "        vertical-align: top;\n",
       "    }\n",
       "\n",
       "    .dataframe thead th {\n",
       "        text-align: right;\n",
       "    }\n",
       "</style>\n",
       "<table border=\"1\" class=\"dataframe\">\n",
       "  <thead>\n",
       "    <tr style=\"text-align: right;\">\n",
       "      <th></th>\n",
       "      <th>ID</th>\n",
       "      <th>Name</th>\n",
       "      <th>Sex</th>\n",
       "      <th>Age</th>\n",
       "      <th>Height</th>\n",
       "      <th>Weight</th>\n",
       "      <th>Team</th>\n",
       "      <th>NOC</th>\n",
       "      <th>Games</th>\n",
       "      <th>Year</th>\n",
       "      <th>Season</th>\n",
       "      <th>City</th>\n",
       "      <th>Sport</th>\n",
       "      <th>Event</th>\n",
       "      <th>Medal</th>\n",
       "    </tr>\n",
       "  </thead>\n",
       "  <tbody>\n",
       "    <tr>\n",
       "      <th>0</th>\n",
       "      <td>1</td>\n",
       "      <td>A Dijiang</td>\n",
       "      <td>M</td>\n",
       "      <td>24.0</td>\n",
       "      <td>180.0</td>\n",
       "      <td>80.0</td>\n",
       "      <td>China</td>\n",
       "      <td>CHN</td>\n",
       "      <td>1992 Summer</td>\n",
       "      <td>1992</td>\n",
       "      <td>Summer</td>\n",
       "      <td>Barcelona</td>\n",
       "      <td>Basketball</td>\n",
       "      <td>Basketball Men's Basketball</td>\n",
       "      <td>NaN</td>\n",
       "    </tr>\n",
       "    <tr>\n",
       "      <th>1</th>\n",
       "      <td>2</td>\n",
       "      <td>A Lamusi</td>\n",
       "      <td>M</td>\n",
       "      <td>23.0</td>\n",
       "      <td>170.0</td>\n",
       "      <td>60.0</td>\n",
       "      <td>China</td>\n",
       "      <td>CHN</td>\n",
       "      <td>2012 Summer</td>\n",
       "      <td>2012</td>\n",
       "      <td>Summer</td>\n",
       "      <td>London</td>\n",
       "      <td>Judo</td>\n",
       "      <td>Judo Men's Extra-Lightweight</td>\n",
       "      <td>NaN</td>\n",
       "    </tr>\n",
       "    <tr>\n",
       "      <th>2</th>\n",
       "      <td>3</td>\n",
       "      <td>Gunnar Nielsen Aaby</td>\n",
       "      <td>M</td>\n",
       "      <td>24.0</td>\n",
       "      <td>NaN</td>\n",
       "      <td>NaN</td>\n",
       "      <td>Denmark</td>\n",
       "      <td>DEN</td>\n",
       "      <td>1920 Summer</td>\n",
       "      <td>1920</td>\n",
       "      <td>Summer</td>\n",
       "      <td>Antwerpen</td>\n",
       "      <td>Football</td>\n",
       "      <td>Football Men's Football</td>\n",
       "      <td>NaN</td>\n",
       "    </tr>\n",
       "    <tr>\n",
       "      <th>3</th>\n",
       "      <td>4</td>\n",
       "      <td>Edgar Lindenau Aabye</td>\n",
       "      <td>M</td>\n",
       "      <td>34.0</td>\n",
       "      <td>NaN</td>\n",
       "      <td>NaN</td>\n",
       "      <td>Denmark/Sweden</td>\n",
       "      <td>DEN</td>\n",
       "      <td>1900 Summer</td>\n",
       "      <td>1900</td>\n",
       "      <td>Summer</td>\n",
       "      <td>Paris</td>\n",
       "      <td>Tug-Of-War</td>\n",
       "      <td>Tug-Of-War Men's Tug-Of-War</td>\n",
       "      <td>Gold</td>\n",
       "    </tr>\n",
       "    <tr>\n",
       "      <th>4</th>\n",
       "      <td>5</td>\n",
       "      <td>Christine Jacoba Aaftink</td>\n",
       "      <td>F</td>\n",
       "      <td>21.0</td>\n",
       "      <td>185.0</td>\n",
       "      <td>82.0</td>\n",
       "      <td>Netherlands</td>\n",
       "      <td>NED</td>\n",
       "      <td>1988 Winter</td>\n",
       "      <td>1988</td>\n",
       "      <td>Winter</td>\n",
       "      <td>Calgary</td>\n",
       "      <td>Speed Skating</td>\n",
       "      <td>Speed Skating Women's 500 metres</td>\n",
       "      <td>NaN</td>\n",
       "    </tr>\n",
       "  </tbody>\n",
       "</table>\n",
       "</div>"
      ],
      "text/plain": [
       "   ID                      Name Sex   Age  Height  Weight            Team  \\\n",
       "0   1                 A Dijiang   M  24.0   180.0    80.0           China   \n",
       "1   2                  A Lamusi   M  23.0   170.0    60.0           China   \n",
       "2   3       Gunnar Nielsen Aaby   M  24.0     NaN     NaN         Denmark   \n",
       "3   4      Edgar Lindenau Aabye   M  34.0     NaN     NaN  Denmark/Sweden   \n",
       "4   5  Christine Jacoba Aaftink   F  21.0   185.0    82.0     Netherlands   \n",
       "\n",
       "   NOC        Games  Year  Season       City          Sport  \\\n",
       "0  CHN  1992 Summer  1992  Summer  Barcelona     Basketball   \n",
       "1  CHN  2012 Summer  2012  Summer     London           Judo   \n",
       "2  DEN  1920 Summer  1920  Summer  Antwerpen       Football   \n",
       "3  DEN  1900 Summer  1900  Summer      Paris     Tug-Of-War   \n",
       "4  NED  1988 Winter  1988  Winter    Calgary  Speed Skating   \n",
       "\n",
       "                              Event Medal  \n",
       "0       Basketball Men's Basketball   NaN  \n",
       "1      Judo Men's Extra-Lightweight   NaN  \n",
       "2           Football Men's Football   NaN  \n",
       "3       Tug-Of-War Men's Tug-Of-War  Gold  \n",
       "4  Speed Skating Women's 500 metres   NaN  "
      ]
     },
     "execution_count": 105,
     "metadata": {},
     "output_type": "execute_result"
    }
   ],
   "source": [
    "df.head()\n",
    "# region_df.head()"
   ]
  },
  {
   "cell_type": "code",
   "execution_count": 106,
   "id": "6397f8d8",
   "metadata": {},
   "outputs": [],
   "source": [
    "df=df[df['Season']=='Summer']"
   ]
  },
  {
   "cell_type": "code",
   "execution_count": 107,
   "id": "673d3a39",
   "metadata": {},
   "outputs": [
    {
     "data": {
      "text/plain": [
       "(222552, 15)"
      ]
     },
     "execution_count": 107,
     "metadata": {},
     "output_type": "execute_result"
    }
   ],
   "source": [
    "df.shape"
   ]
  },
  {
   "cell_type": "code",
   "execution_count": 108,
   "id": "460d57fb",
   "metadata": {},
   "outputs": [],
   "source": [
    "df=df.merge(region_df,on='NOC',how='left')"
   ]
  },
  {
   "cell_type": "code",
   "execution_count": 109,
   "id": "4178d91b",
   "metadata": {},
   "outputs": [
    {
     "data": {
      "application/vnd.microsoft.datawrangler.viewer.v0+json": {
       "columns": [
        {
         "name": "index",
         "rawType": "object",
         "type": "string"
        },
        {
         "name": "0",
         "rawType": "int64",
         "type": "integer"
        }
       ],
       "ref": "a2f46b11-bf8c-42b2-94fa-fa455534a121",
       "rows": [
        [
         "ID",
         "0"
        ],
        [
         "Name",
         "0"
        ],
        [
         "Sex",
         "0"
        ],
        [
         "Age",
         "9189"
        ],
        [
         "Height",
         "51857"
        ],
        [
         "Weight",
         "53854"
        ],
        [
         "Team",
         "0"
        ],
        [
         "NOC",
         "0"
        ],
        [
         "Games",
         "0"
        ],
        [
         "Year",
         "0"
        ],
        [
         "Season",
         "0"
        ],
        [
         "City",
         "0"
        ],
        [
         "Sport",
         "0"
        ],
        [
         "Event",
         "0"
        ],
        [
         "Medal",
         "188464"
        ],
        [
         "region",
         "370"
        ],
        [
         "notes",
         "218151"
        ]
       ],
       "shape": {
        "columns": 1,
        "rows": 17
       }
      },
      "text/plain": [
       "ID             0\n",
       "Name           0\n",
       "Sex            0\n",
       "Age         9189\n",
       "Height     51857\n",
       "Weight     53854\n",
       "Team           0\n",
       "NOC            0\n",
       "Games          0\n",
       "Year           0\n",
       "Season         0\n",
       "City           0\n",
       "Sport          0\n",
       "Event          0\n",
       "Medal     188464\n",
       "region       370\n",
       "notes     218151\n",
       "dtype: int64"
      ]
     },
     "execution_count": 109,
     "metadata": {},
     "output_type": "execute_result"
    }
   ],
   "source": [
    "df.isnull().sum()"
   ]
  },
  {
   "cell_type": "code",
   "execution_count": 110,
   "id": "0d2cc70e",
   "metadata": {},
   "outputs": [
    {
     "data": {
      "text/plain": [
       "np.int64(1385)"
      ]
     },
     "execution_count": 110,
     "metadata": {},
     "output_type": "execute_result"
    }
   ],
   "source": [
    "df.duplicated().sum()"
   ]
  },
  {
   "cell_type": "code",
   "execution_count": 111,
   "id": "cca9d183",
   "metadata": {},
   "outputs": [],
   "source": [
    "df.drop_duplicates(inplace=True)"
   ]
  },
  {
   "cell_type": "code",
   "execution_count": 112,
   "id": "22594355",
   "metadata": {},
   "outputs": [
    {
     "data": {
      "application/vnd.microsoft.datawrangler.viewer.v0+json": {
       "columns": [
        {
         "name": "Medal",
         "rawType": "object",
         "type": "string"
        },
        {
         "name": "count",
         "rawType": "int64",
         "type": "integer"
        }
       ],
       "ref": "f92f5ef1-6b23-4e88-8a1c-6cb71ea7fb08",
       "rows": [
        [
         "Gold",
         "11456"
        ],
        [
         "Bronze",
         "11409"
        ],
        [
         "Silver",
         "11212"
        ]
       ],
       "shape": {
        "columns": 1,
        "rows": 3
       }
      },
      "text/plain": [
       "Medal\n",
       "Gold      11456\n",
       "Bronze    11409\n",
       "Silver    11212\n",
       "Name: count, dtype: int64"
      ]
     },
     "execution_count": 112,
     "metadata": {},
     "output_type": "execute_result"
    }
   ],
   "source": [
    "df['Medal'].value_counts()"
   ]
  },
  {
   "cell_type": "code",
   "execution_count": 113,
   "id": "c2bb7c65",
   "metadata": {},
   "outputs": [],
   "source": [
    "df = pd.concat([df,pd.get_dummies(df['Medal'])],axis=1)"
   ]
  },
  {
   "cell_type": "code",
   "execution_count": 114,
   "id": "523e274e",
   "metadata": {},
   "outputs": [
    {
     "data": {
      "application/vnd.microsoft.datawrangler.viewer.v0+json": {
       "columns": [
        {
         "name": "index",
         "rawType": "int64",
         "type": "integer"
        },
        {
         "name": "NOC",
         "rawType": "object",
         "type": "string"
        },
        {
         "name": "Gold",
         "rawType": "int64",
         "type": "integer"
        },
        {
         "name": "Silver",
         "rawType": "int64",
         "type": "integer"
        },
        {
         "name": "Bronze",
         "rawType": "int64",
         "type": "integer"
        }
       ],
       "ref": "54eefb88-faaf-45c3-898b-77195cbb1598",
       "rows": [
        [
         "0",
         "USA",
         "2472",
         "1333",
         "1197"
        ],
        [
         "1",
         "URS",
         "832",
         "635",
         "596"
        ],
        [
         "2",
         "GBR",
         "635",
         "729",
         "620"
        ],
        [
         "3",
         "GER",
         "592",
         "538",
         "649"
        ],
        [
         "4",
         "ITA",
         "518",
         "474",
         "454"
        ],
        [
         "5",
         "FRA",
         "463",
         "567",
         "587"
        ],
        [
         "6",
         "HUN",
         "432",
         "328",
         "363"
        ],
        [
         "7",
         "SWE",
         "354",
         "396",
         "358"
        ],
        [
         "8",
         "AUS",
         "342",
         "452",
         "510"
        ],
        [
         "9",
         "GDR",
         "339",
         "277",
         "227"
        ],
        [
         "10",
         "CHN",
         "334",
         "317",
         "258"
        ],
        [
         "11",
         "RUS",
         "296",
         "278",
         "331"
        ],
        [
         "12",
         "NED",
         "245",
         "302",
         "371"
        ],
        [
         "13",
         "JPN",
         "230",
         "287",
         "333"
        ],
        [
         "14",
         "NOR",
         "227",
         "196",
         "167"
        ],
        [
         "15",
         "DEN",
         "179",
         "236",
         "177"
        ],
        [
         "16",
         "KOR",
         "171",
         "206",
         "175"
        ],
        [
         "17",
         "CUB",
         "164",
         "129",
         "116"
        ],
        [
         "18",
         "ROU",
         "161",
         "200",
         "290"
        ],
        [
         "19",
         "CAN",
         "158",
         "239",
         "344"
        ],
        [
         "20",
         "FRG",
         "144",
         "172",
         "188"
        ],
        [
         "21",
         "FIN",
         "132",
         "125",
         "217"
        ],
        [
         "22",
         "IND",
         "131",
         "19",
         "40"
        ],
        [
         "23",
         "YUG",
         "130",
         "161",
         "92"
        ],
        [
         "24",
         "POL",
         "111",
         "185",
         "242"
        ],
        [
         "25",
         "BRA",
         "109",
         "175",
         "191"
        ],
        [
         "26",
         "ESP",
         "109",
         "243",
         "135"
        ],
        [
         "27",
         "SUI",
         "99",
         "178",
         "139"
        ],
        [
         "28",
         "BEL",
         "96",
         "193",
         "166"
        ],
        [
         "29",
         "EUN",
         "92",
         "61",
         "67"
        ],
        [
         "30",
         "ARG",
         "91",
         "92",
         "91"
        ],
        [
         "31",
         "NZL",
         "90",
         "55",
         "82"
        ],
        [
         "32",
         "TCH",
         "79",
         "144",
         "107"
        ],
        [
         "33",
         "GRE",
         "62",
         "109",
         "84"
        ],
        [
         "34",
         "CRO",
         "54",
         "48",
         "36"
        ],
        [
         "35",
         "BUL",
         "53",
         "142",
         "141"
        ],
        [
         "36",
         "UKR",
         "42",
         "51",
         "95"
        ],
        [
         "37",
         "PAK",
         "42",
         "45",
         "34"
        ],
        [
         "38",
         "TUR",
         "40",
         "27",
         "28"
        ],
        [
         "39",
         "JAM",
         "38",
         "75",
         "44"
        ],
        [
         "40",
         "KEN",
         "34",
         "41",
         "31"
        ],
        [
         "41",
         "RSA",
         "32",
         "47",
         "52"
        ],
        [
         "42",
         "URU",
         "31",
         "2",
         "30"
        ],
        [
         "43",
         "MEX",
         "30",
         "26",
         "54"
        ],
        [
         "44",
         "AUT",
         "29",
         "88",
         "53"
        ],
        [
         "45",
         "NGR",
         "23",
         "30",
         "46"
        ],
        [
         "46",
         "ETH",
         "22",
         "9",
         "22"
        ],
        [
         "47",
         "CMR",
         "20",
         "1",
         "1"
        ],
        [
         "48",
         "ANZ",
         "20",
         "4",
         "5"
        ],
        [
         "49",
         "KAZ",
         "19",
         "22",
         "29"
        ]
       ],
       "shape": {
        "columns": 4,
        "rows": 230
       }
      },
      "text/html": [
       "<div>\n",
       "<style scoped>\n",
       "    .dataframe tbody tr th:only-of-type {\n",
       "        vertical-align: middle;\n",
       "    }\n",
       "\n",
       "    .dataframe tbody tr th {\n",
       "        vertical-align: top;\n",
       "    }\n",
       "\n",
       "    .dataframe thead th {\n",
       "        text-align: right;\n",
       "    }\n",
       "</style>\n",
       "<table border=\"1\" class=\"dataframe\">\n",
       "  <thead>\n",
       "    <tr style=\"text-align: right;\">\n",
       "      <th></th>\n",
       "      <th>NOC</th>\n",
       "      <th>Gold</th>\n",
       "      <th>Silver</th>\n",
       "      <th>Bronze</th>\n",
       "    </tr>\n",
       "  </thead>\n",
       "  <tbody>\n",
       "    <tr>\n",
       "      <th>0</th>\n",
       "      <td>USA</td>\n",
       "      <td>2472</td>\n",
       "      <td>1333</td>\n",
       "      <td>1197</td>\n",
       "    </tr>\n",
       "    <tr>\n",
       "      <th>1</th>\n",
       "      <td>URS</td>\n",
       "      <td>832</td>\n",
       "      <td>635</td>\n",
       "      <td>596</td>\n",
       "    </tr>\n",
       "    <tr>\n",
       "      <th>2</th>\n",
       "      <td>GBR</td>\n",
       "      <td>635</td>\n",
       "      <td>729</td>\n",
       "      <td>620</td>\n",
       "    </tr>\n",
       "    <tr>\n",
       "      <th>3</th>\n",
       "      <td>GER</td>\n",
       "      <td>592</td>\n",
       "      <td>538</td>\n",
       "      <td>649</td>\n",
       "    </tr>\n",
       "    <tr>\n",
       "      <th>4</th>\n",
       "      <td>ITA</td>\n",
       "      <td>518</td>\n",
       "      <td>474</td>\n",
       "      <td>454</td>\n",
       "    </tr>\n",
       "    <tr>\n",
       "      <th>...</th>\n",
       "      <td>...</td>\n",
       "      <td>...</td>\n",
       "      <td>...</td>\n",
       "      <td>...</td>\n",
       "    </tr>\n",
       "    <tr>\n",
       "      <th>225</th>\n",
       "      <td>WIF</td>\n",
       "      <td>0</td>\n",
       "      <td>0</td>\n",
       "      <td>5</td>\n",
       "    </tr>\n",
       "    <tr>\n",
       "      <th>226</th>\n",
       "      <td>YEM</td>\n",
       "      <td>0</td>\n",
       "      <td>0</td>\n",
       "      <td>0</td>\n",
       "    </tr>\n",
       "    <tr>\n",
       "      <th>227</th>\n",
       "      <td>YAR</td>\n",
       "      <td>0</td>\n",
       "      <td>0</td>\n",
       "      <td>0</td>\n",
       "    </tr>\n",
       "    <tr>\n",
       "      <th>228</th>\n",
       "      <td>YMD</td>\n",
       "      <td>0</td>\n",
       "      <td>0</td>\n",
       "      <td>0</td>\n",
       "    </tr>\n",
       "    <tr>\n",
       "      <th>229</th>\n",
       "      <td>ZAM</td>\n",
       "      <td>0</td>\n",
       "      <td>1</td>\n",
       "      <td>1</td>\n",
       "    </tr>\n",
       "  </tbody>\n",
       "</table>\n",
       "<p>230 rows × 4 columns</p>\n",
       "</div>"
      ],
      "text/plain": [
       "     NOC  Gold  Silver  Bronze\n",
       "0    USA  2472    1333    1197\n",
       "1    URS   832     635     596\n",
       "2    GBR   635     729     620\n",
       "3    GER   592     538     649\n",
       "4    ITA   518     474     454\n",
       "..   ...   ...     ...     ...\n",
       "225  WIF     0       0       5\n",
       "226  YEM     0       0       0\n",
       "227  YAR     0       0       0\n",
       "228  YMD     0       0       0\n",
       "229  ZAM     0       1       1\n",
       "\n",
       "[230 rows x 4 columns]"
      ]
     },
     "execution_count": 114,
     "metadata": {},
     "output_type": "execute_result"
    }
   ],
   "source": [
    "# a miscalculation\n",
    "df.groupby('NOC').sum()[['Gold','Silver','Bronze']].sort_values('Gold',ascending=False).reset_index()"
   ]
  },
  {
   "cell_type": "code",
   "execution_count": 115,
   "id": "08442ee3",
   "metadata": {},
   "outputs": [
    {
     "data": {
      "application/vnd.microsoft.datawrangler.viewer.v0+json": {
       "columns": [
        {
         "name": "index",
         "rawType": "int64",
         "type": "integer"
        },
        {
         "name": "ID",
         "rawType": "int64",
         "type": "integer"
        },
        {
         "name": "Name",
         "rawType": "object",
         "type": "string"
        },
        {
         "name": "Sex",
         "rawType": "object",
         "type": "string"
        },
        {
         "name": "Age",
         "rawType": "float64",
         "type": "float"
        },
        {
         "name": "Height",
         "rawType": "float64",
         "type": "float"
        },
        {
         "name": "Weight",
         "rawType": "float64",
         "type": "float"
        },
        {
         "name": "Team",
         "rawType": "object",
         "type": "string"
        },
        {
         "name": "NOC",
         "rawType": "object",
         "type": "string"
        },
        {
         "name": "Games",
         "rawType": "object",
         "type": "string"
        },
        {
         "name": "Year",
         "rawType": "int64",
         "type": "integer"
        },
        {
         "name": "Season",
         "rawType": "object",
         "type": "string"
        },
        {
         "name": "City",
         "rawType": "object",
         "type": "string"
        },
        {
         "name": "Sport",
         "rawType": "object",
         "type": "string"
        },
        {
         "name": "Event",
         "rawType": "object",
         "type": "string"
        },
        {
         "name": "Medal",
         "rawType": "object",
         "type": "string"
        },
        {
         "name": "region",
         "rawType": "object",
         "type": "string"
        },
        {
         "name": "notes",
         "rawType": "object",
         "type": "unknown"
        },
        {
         "name": "Bronze",
         "rawType": "bool",
         "type": "boolean"
        },
        {
         "name": "Gold",
         "rawType": "bool",
         "type": "boolean"
        },
        {
         "name": "Silver",
         "rawType": "bool",
         "type": "boolean"
        }
       ],
       "ref": "fa5361da-26e0-477d-b663-88aed726ad90",
       "rows": [
        [
         "4186",
         "2699",
         "Shaukat Ali",
         "M",
         "30.0",
         null,
         null,
         "India",
         "IND",
         "1928 Summer",
         "1928",
         "Summer",
         "Amsterdam",
         "Hockey",
         "Hockey Men's Hockey",
         "Gold",
         "India",
         null,
         "False",
         "True",
         "False"
        ],
        [
         "4190",
         "2703",
         "Syed Mushtaq Ali",
         "M",
         "22.0",
         "165.0",
         "61.0",
         "India",
         "IND",
         "1964 Summer",
         "1964",
         "Summer",
         "Tokyo",
         "Hockey",
         "Hockey Men's Hockey",
         "Gold",
         "India",
         null,
         "False",
         "True",
         "False"
        ],
        [
         "4460",
         "2864",
         "Richard James Allen",
         "M",
         "25.0",
         "172.0",
         null,
         "India",
         "IND",
         "1928 Summer",
         "1928",
         "Summer",
         "Amsterdam",
         "Hockey",
         "Hockey Men's Hockey",
         "Gold",
         "India",
         null,
         "False",
         "True",
         "False"
        ],
        [
         "4461",
         "2864",
         "Richard James Allen",
         "M",
         "30.0",
         "172.0",
         null,
         "India",
         "IND",
         "1932 Summer",
         "1932",
         "Summer",
         "Los Angeles",
         "Hockey",
         "Hockey Men's Hockey",
         "Gold",
         "India",
         null,
         "False",
         "True",
         "False"
        ],
        [
         "4462",
         "2864",
         "Richard James Allen",
         "M",
         "34.0",
         "172.0",
         null,
         "India",
         "IND",
         "1936 Summer",
         "1936",
         "Summer",
         "Berlin",
         "Hockey",
         "Hockey Men's Hockey",
         "Gold",
         "India",
         null,
         "False",
         "True",
         "False"
        ],
        [
         "8794",
         "5618",
         "Sardar Mohammad Aslam",
         "M",
         null,
         null,
         null,
         "India",
         "IND",
         "1932 Summer",
         "1932",
         "Summer",
         "Los Angeles",
         "Hockey",
         "Hockey Men's Hockey",
         "Gold",
         "India",
         null,
         "False",
         "True",
         "False"
        ],
        [
         "17790",
         "11197",
         "Vasudevan Bhaskaran",
         "M",
         "29.0",
         "174.0",
         "68.0",
         "India",
         "IND",
         "1980 Summer",
         "1980",
         "Summer",
         "Moskva",
         "Hockey",
         "Hockey Men's Hockey",
         "Gold",
         "India",
         null,
         "False",
         "True",
         "False"
        ],
        [
         "18444",
         "11601",
         "Abhinav Bindra",
         "M",
         "25.0",
         "173.0",
         "70.0",
         "India",
         "IND",
         "2008 Summer",
         "2008",
         "Summer",
         "Beijing",
         "Shooting",
         "Shooting Men's Air Rifle, 10 metres",
         "Gold",
         "India",
         null,
         "False",
         "True",
         "False"
        ],
        [
         "20526",
         "12911",
         "Lal Shah S. Bokhari",
         "M",
         "23.0",
         "173.0",
         null,
         "India",
         "IND",
         "1932 Summer",
         "1932",
         "Summer",
         "Los Angeles",
         "Hockey",
         "Hockey Men's Hockey",
         "Gold",
         "India",
         null,
         "False",
         "True",
         "False"
        ],
        [
         "24192",
         "15011",
         "Frank Gerald Singlehurst Brewin",
         "M",
         "22.0",
         null,
         null,
         "India",
         "IND",
         "1932 Summer",
         "1932",
         "Summer",
         "Los Angeles",
         "Hockey",
         "Hockey Men's Hockey",
         "Gold",
         "India",
         null,
         "False",
         "True",
         "False"
        ],
        [
         "30009",
         "18475",
         "Richard John \"Dickie\" Carr",
         "M",
         "21.0",
         "180.0",
         null,
         "India",
         "IND",
         "1932 Summer",
         "1932",
         "Summer",
         "Los Angeles",
         "Hockey",
         "Hockey Men's Hockey",
         "Gold",
         "India",
         null,
         "False",
         "True",
         "False"
        ],
        [
         "32103",
         "19716",
         "Dhyan Chand Bais",
         "M",
         "22.0",
         "169.0",
         null,
         "India",
         "IND",
         "1928 Summer",
         "1928",
         "Summer",
         "Amsterdam",
         "Hockey",
         "Hockey Men's Hockey",
         "Gold",
         "India",
         null,
         "False",
         "True",
         "False"
        ],
        [
         "32104",
         "19716",
         "Dhyan Chand Bais",
         "M",
         "26.0",
         "169.0",
         null,
         "India",
         "IND",
         "1932 Summer",
         "1932",
         "Summer",
         "Los Angeles",
         "Hockey",
         "Hockey Men's Hockey",
         "Gold",
         "India",
         null,
         "False",
         "True",
         "False"
        ],
        [
         "32105",
         "19716",
         "Dhyan Chand Bais",
         "M",
         "30.0",
         "169.0",
         null,
         "India",
         "IND",
         "1936 Summer",
         "1936",
         "Summer",
         "Berlin",
         "Hockey",
         "Hockey Men's Hockey",
         "Gold",
         "India",
         null,
         "False",
         "True",
         "False"
        ],
        [
         "33472",
         "20565",
         "Bir Bahadur Chettri",
         "M",
         "24.0",
         "165.0",
         "68.0",
         "India",
         "IND",
         "1980 Summer",
         "1980",
         "Summer",
         "Moskva",
         "Hockey",
         "Hockey Men's Hockey",
         "Gold",
         "India",
         null,
         "False",
         "True",
         "False"
        ],
        [
         "35545",
         "21912",
         "Leslie Walter Claudius",
         "M",
         "21.0",
         "162.0",
         "53.0",
         "India",
         "IND",
         "1948 Summer",
         "1948",
         "Summer",
         "London",
         "Hockey",
         "Hockey Men's Hockey",
         "Gold",
         "India",
         null,
         "False",
         "True",
         "False"
        ],
        [
         "35546",
         "21912",
         "Leslie Walter Claudius",
         "M",
         "25.0",
         "162.0",
         "53.0",
         "India",
         "IND",
         "1952 Summer",
         "1952",
         "Summer",
         "Helsinki",
         "Hockey",
         "Hockey Men's Hockey",
         "Gold",
         "India",
         null,
         "False",
         "True",
         "False"
        ],
        [
         "35547",
         "21912",
         "Leslie Walter Claudius",
         "M",
         "29.0",
         "162.0",
         "53.0",
         "India",
         "IND",
         "1956 Summer",
         "1956",
         "Summer",
         "Melbourne",
         "Hockey",
         "Hockey Men's Hockey",
         "Gold",
         "India",
         null,
         "False",
         "True",
         "False"
        ],
        [
         "40829",
         "25047",
         "Meldric St. Clair daLuz Vieira",
         "M",
         "31.0",
         null,
         null,
         "India",
         "IND",
         "1952 Summer",
         "1952",
         "Summer",
         "Helsinki",
         "Hockey",
         "Hockey Men's Hockey",
         "Gold",
         "India",
         null,
         "False",
         "True",
         "False"
        ],
        [
         "41306",
         "25339",
         "Ali Iqtidar Shah Dara",
         "M",
         "21.0",
         null,
         null,
         "India",
         "IND",
         "1936 Summer",
         "1936",
         "Summer",
         "Berlin",
         "Hockey",
         "Hockey Men's Hockey",
         "Gold",
         "India",
         null,
         "False",
         "True",
         "False"
        ],
        [
         "43663",
         "26677",
         "Walter Louis Joseph de Sousa",
         "M",
         "27.0",
         null,
         null,
         "India",
         "IND",
         "1948 Summer",
         "1948",
         "Summer",
         "London",
         "Hockey",
         "Hockey Men's Hockey",
         "Gold",
         "India",
         null,
         "False",
         "True",
         "False"
        ],
        [
         "45505",
         "27792",
         "Chinadorai Deshmutu",
         "M",
         "19.0",
         null,
         null,
         "India",
         "IND",
         "1952 Summer",
         "1952",
         "Summer",
         "Helsinki",
         "Hockey",
         "Hockey Men's Hockey",
         "Gold",
         "India",
         null,
         "False",
         "True",
         "False"
        ],
        [
         "50695",
         "30911",
         "Keshav Chandra Dutt",
         "M",
         "22.0",
         null,
         null,
         "India",
         "IND",
         "1948 Summer",
         "1948",
         "Summer",
         "London",
         "Hockey",
         "Hockey Men's Hockey",
         "Gold",
         "India",
         null,
         "False",
         "True",
         "False"
        ],
        [
         "50696",
         "30911",
         "Keshav Chandra Dutt",
         "M",
         "26.0",
         null,
         null,
         "India",
         "IND",
         "1952 Summer",
         "1952",
         "Summer",
         "Helsinki",
         "Hockey",
         "Hockey Men's Hockey",
         "Gold",
         "India",
         null,
         "False",
         "True",
         "False"
        ],
        [
         "53184",
         "32514",
         "Lionel Charles Renwick Emmett",
         "M",
         "23.0",
         null,
         null,
         "India",
         "IND",
         "1936 Summer",
         "1936",
         "Summer",
         "Berlin",
         "Hockey",
         "Hockey Men's Hockey",
         "Gold",
         "India",
         null,
         "False",
         "True",
         "False"
        ],
        [
         "56914",
         "34759",
         "Lawrence \"Lawrie\" Fernandes",
         "M",
         null,
         null,
         null,
         "India",
         "IND",
         "1948 Summer",
         "1948",
         "Summer",
         "London",
         "Hockey",
         "Hockey Men's Hockey",
         "Gold",
         "India",
         null,
         "False",
         "True",
         "False"
        ],
        [
         "56923",
         "34764",
         "Peter Paul Fernandes",
         "M",
         "19.0",
         null,
         null,
         "India",
         "IND",
         "1936 Summer",
         "1936",
         "Summer",
         "Berlin",
         "Hockey",
         "Hockey Men's Hockey",
         "Gold",
         "India",
         null,
         "False",
         "True",
         "False"
        ],
        [
         "57165",
         "34901",
         "Merwyn Fernandis",
         "M",
         "21.0",
         "159.0",
         "62.0",
         "India",
         "IND",
         "1980 Summer",
         "1980",
         "Summer",
         "Moskva",
         "Hockey",
         "Hockey Men's Hockey",
         "Gold",
         "India",
         null,
         "False",
         "True",
         "False"
        ],
        [
         "60165",
         "36678",
         "Ranganathan Francis",
         "M",
         "28.0",
         null,
         null,
         "India",
         "IND",
         "1948 Summer",
         "1948",
         "Summer",
         "London",
         "Hockey",
         "Hockey Men's Hockey",
         "Gold",
         "India",
         null,
         "False",
         "True",
         "False"
        ],
        [
         "60166",
         "36678",
         "Ranganathan Francis",
         "M",
         "32.0",
         null,
         null,
         "India",
         "IND",
         "1952 Summer",
         "1952",
         "Summer",
         "Helsinki",
         "Hockey",
         "Hockey Men's Hockey",
         "Gold",
         "India",
         null,
         "False",
         "True",
         "False"
        ],
        [
         "60167",
         "36678",
         "Ranganathan Francis",
         "M",
         "36.0",
         null,
         null,
         "India",
         "IND",
         "1956 Summer",
         "1956",
         "Summer",
         "Melbourne",
         "Hockey",
         "Hockey Men's Hockey",
         "Gold",
         "India",
         null,
         "False",
         "True",
         "False"
        ],
        [
         "62555",
         "38046",
         "Joseph Deville Thomas \"Joe\" Galibardy",
         "M",
         "21.0",
         null,
         null,
         "India",
         "IND",
         "1936 Summer",
         "1936",
         "Summer",
         "Berlin",
         "Hockey",
         "Hockey Men's Hockey",
         "Gold",
         "India",
         null,
         "False",
         "True",
         "False"
        ],
        [
         "64140",
         "39020",
         "Michael Anthony Gateley",
         "M",
         "23.0",
         null,
         null,
         "India",
         "IND",
         "1928 Summer",
         "1928",
         "Summer",
         "Amsterdam",
         "Hockey",
         "Hockey Men's Hockey",
         "Gold",
         "India",
         null,
         "False",
         "True",
         "False"
        ],
        [
         "66777",
         "40664",
         "Gerald Rudolph \"Gerry\" Glackan",
         "M",
         null,
         null,
         null,
         "India",
         "IND",
         "1948 Summer",
         "1948",
         "Summer",
         "London",
         "Hockey",
         "Hockey Men's Hockey",
         "Gold",
         "India",
         null,
         "False",
         "True",
         "False"
        ],
        [
         "68521",
         "41709",
         "Ernest John \"Ernie\" Goodsir-Cullen",
         "M",
         "24.0",
         null,
         null,
         "India",
         "IND",
         "1936 Summer",
         "1936",
         "Summer",
         "Berlin",
         "Hockey",
         "Hockey Men's Hockey",
         "Gold",
         "India",
         null,
         "False",
         "True",
         "False"
        ],
        [
         "68522",
         "41710",
         "William James \"Willie\" Goodsir-Cullen",
         "M",
         "21.0",
         null,
         null,
         "India",
         "IND",
         "1928 Summer",
         "1928",
         "Summer",
         "Amsterdam",
         "Hockey",
         "Hockey Men's Hockey",
         "Gold",
         "India",
         null,
         "False",
         "True",
         "False"
        ],
        [
         "74395",
         "45360",
         "Leslie Charles Hammond",
         "M",
         "23.0",
         "184.0",
         null,
         "India",
         "IND",
         "1928 Summer",
         "1928",
         "Summer",
         "Amsterdam",
         "Hockey",
         "Hockey Men's Hockey",
         "Gold",
         "India",
         null,
         "False",
         "True",
         "False"
        ],
        [
         "74396",
         "45360",
         "Leslie Charles Hammond",
         "M",
         "27.0",
         "184.0",
         null,
         "India",
         "IND",
         "1932 Summer",
         "1932",
         "Summer",
         "Los Angeles",
         "Hockey",
         "Hockey Men's Hockey",
         "Gold",
         "India",
         null,
         "False",
         "True",
         "False"
        ],
        [
         "79698",
         "48666",
         "Arthur Charles Hind",
         "M",
         "27.0",
         "173.0",
         null,
         "India",
         "IND",
         "1932 Summer",
         "1932",
         "Summer",
         "Los Angeles",
         "Hockey",
         "Hockey Men's Hockey",
         "Gold",
         "India",
         null,
         "False",
         "True",
         "False"
        ],
        [
         "83785",
         "51212",
         "Akhtar Hussain",
         "M",
         "21.0",
         null,
         null,
         "India",
         "IND",
         "1948 Summer",
         "1948",
         "Summer",
         "London",
         "Hockey",
         "Hockey Men's Hockey",
         "Gold",
         "India",
         null,
         "False",
         "True",
         "False"
        ],
        [
         "83809",
         "51229",
         "Sayed Muhammad Hussain",
         "M",
         "24.0",
         null,
         null,
         "India",
         "IND",
         "1936 Summer",
         "1936",
         "Summer",
         "Berlin",
         "Hockey",
         "Hockey Men's Hockey",
         "Gold",
         "India",
         null,
         "False",
         "True",
         "False"
        ],
        [
         "85529",
         "52326",
         "Zafar Iqbal",
         "M",
         "24.0",
         "172.0",
         "65.0",
         "India",
         "IND",
         "1980 Summer",
         "1980",
         "Summer",
         "Moskva",
         "Hockey",
         "Hockey Men's Hockey",
         "Gold",
         "India",
         null,
         "False",
         "True",
         "False"
        ],
        [
         "87054",
         "53290",
         "Sayed Muhammad Jaffar",
         "M",
         null,
         "173.0",
         null,
         "India",
         "IND",
         "1932 Summer",
         "1932",
         "Summer",
         "Los Angeles",
         "Hockey",
         "Hockey Men's Hockey",
         "Gold",
         "India",
         null,
         "False",
         "True",
         "False"
        ],
        [
         "87055",
         "53290",
         "Sayed Muhammad Jaffar",
         "M",
         null,
         "173.0",
         null,
         "India",
         "IND",
         "1936 Summer",
         "1936",
         "Summer",
         "Berlin",
         "Hockey",
         "Hockey Men's Hockey",
         "Gold",
         "India",
         null,
         "False",
         "True",
         "False"
        ],
        [
         "87811",
         "53778",
         "Patrick Anthony \"Pat\" Jansen",
         "M",
         "27.0",
         null,
         null,
         "India",
         "IND",
         "1948 Summer",
         "1948",
         "Summer",
         "London",
         "Hockey",
         "Hockey Men's Hockey",
         "Gold",
         "India",
         null,
         "False",
         "True",
         "False"
        ],
        [
         "94615",
         "58104",
         "Hari Pal Kaushik",
         "M",
         "22.0",
         "178.0",
         "77.0",
         "India",
         "IND",
         "1956 Summer",
         "1956",
         "Summer",
         "Melbourne",
         "Hockey",
         "Hockey Men's Hockey",
         "Gold",
         "India",
         null,
         "False",
         "True",
         "False"
        ],
        [
         "94616",
         "58104",
         "Hari Pal Kaushik",
         "M",
         "30.0",
         "178.0",
         "77.0",
         "India",
         "IND",
         "1964 Summer",
         "1964",
         "Summer",
         "Tokyo",
         "Hockey",
         "Hockey Men's Hockey",
         "Gold",
         "India",
         null,
         "False",
         "True",
         "False"
        ],
        [
         "94617",
         "58105",
         "Maharaj Krishon Kaushik",
         "M",
         "25.0",
         "163.0",
         "60.0",
         "India",
         "IND",
         "1980 Summer",
         "1980",
         "Summer",
         "Moskva",
         "Hockey",
         "Hockey Men's Hockey",
         "Gold",
         "India",
         null,
         "False",
         "True",
         "False"
        ],
        [
         "96356",
         "59138",
         "Ahmed Sher Khan",
         "M",
         "23.0",
         null,
         null,
         "India",
         "IND",
         "1936 Summer",
         "1936",
         "Summer",
         "Berlin",
         "Hockey",
         "Hockey Men's Hockey",
         "Gold",
         "India",
         null,
         "False",
         "True",
         "False"
        ],
        [
         "96357",
         "59139",
         "Ahsan Muhammad Khan",
         "M",
         "20.0",
         null,
         null,
         "India",
         "IND",
         "1936 Summer",
         "1936",
         "Summer",
         "Berlin",
         "Hockey",
         "Hockey Men's Hockey",
         "Gold",
         "India",
         null,
         "False",
         "True",
         "False"
        ]
       ],
       "shape": {
        "columns": 20,
        "rows": 131
       }
      },
      "text/html": [
       "<div>\n",
       "<style scoped>\n",
       "    .dataframe tbody tr th:only-of-type {\n",
       "        vertical-align: middle;\n",
       "    }\n",
       "\n",
       "    .dataframe tbody tr th {\n",
       "        vertical-align: top;\n",
       "    }\n",
       "\n",
       "    .dataframe thead th {\n",
       "        text-align: right;\n",
       "    }\n",
       "</style>\n",
       "<table border=\"1\" class=\"dataframe\">\n",
       "  <thead>\n",
       "    <tr style=\"text-align: right;\">\n",
       "      <th></th>\n",
       "      <th>ID</th>\n",
       "      <th>Name</th>\n",
       "      <th>Sex</th>\n",
       "      <th>Age</th>\n",
       "      <th>Height</th>\n",
       "      <th>Weight</th>\n",
       "      <th>Team</th>\n",
       "      <th>NOC</th>\n",
       "      <th>Games</th>\n",
       "      <th>Year</th>\n",
       "      <th>Season</th>\n",
       "      <th>City</th>\n",
       "      <th>Sport</th>\n",
       "      <th>Event</th>\n",
       "      <th>Medal</th>\n",
       "      <th>region</th>\n",
       "      <th>notes</th>\n",
       "      <th>Bronze</th>\n",
       "      <th>Gold</th>\n",
       "      <th>Silver</th>\n",
       "    </tr>\n",
       "  </thead>\n",
       "  <tbody>\n",
       "    <tr>\n",
       "      <th>4186</th>\n",
       "      <td>2699</td>\n",
       "      <td>Shaukat Ali</td>\n",
       "      <td>M</td>\n",
       "      <td>30.0</td>\n",
       "      <td>NaN</td>\n",
       "      <td>NaN</td>\n",
       "      <td>India</td>\n",
       "      <td>IND</td>\n",
       "      <td>1928 Summer</td>\n",
       "      <td>1928</td>\n",
       "      <td>Summer</td>\n",
       "      <td>Amsterdam</td>\n",
       "      <td>Hockey</td>\n",
       "      <td>Hockey Men's Hockey</td>\n",
       "      <td>Gold</td>\n",
       "      <td>India</td>\n",
       "      <td>NaN</td>\n",
       "      <td>False</td>\n",
       "      <td>True</td>\n",
       "      <td>False</td>\n",
       "    </tr>\n",
       "    <tr>\n",
       "      <th>4190</th>\n",
       "      <td>2703</td>\n",
       "      <td>Syed Mushtaq Ali</td>\n",
       "      <td>M</td>\n",
       "      <td>22.0</td>\n",
       "      <td>165.0</td>\n",
       "      <td>61.0</td>\n",
       "      <td>India</td>\n",
       "      <td>IND</td>\n",
       "      <td>1964 Summer</td>\n",
       "      <td>1964</td>\n",
       "      <td>Summer</td>\n",
       "      <td>Tokyo</td>\n",
       "      <td>Hockey</td>\n",
       "      <td>Hockey Men's Hockey</td>\n",
       "      <td>Gold</td>\n",
       "      <td>India</td>\n",
       "      <td>NaN</td>\n",
       "      <td>False</td>\n",
       "      <td>True</td>\n",
       "      <td>False</td>\n",
       "    </tr>\n",
       "    <tr>\n",
       "      <th>4460</th>\n",
       "      <td>2864</td>\n",
       "      <td>Richard James Allen</td>\n",
       "      <td>M</td>\n",
       "      <td>25.0</td>\n",
       "      <td>172.0</td>\n",
       "      <td>NaN</td>\n",
       "      <td>India</td>\n",
       "      <td>IND</td>\n",
       "      <td>1928 Summer</td>\n",
       "      <td>1928</td>\n",
       "      <td>Summer</td>\n",
       "      <td>Amsterdam</td>\n",
       "      <td>Hockey</td>\n",
       "      <td>Hockey Men's Hockey</td>\n",
       "      <td>Gold</td>\n",
       "      <td>India</td>\n",
       "      <td>NaN</td>\n",
       "      <td>False</td>\n",
       "      <td>True</td>\n",
       "      <td>False</td>\n",
       "    </tr>\n",
       "    <tr>\n",
       "      <th>4461</th>\n",
       "      <td>2864</td>\n",
       "      <td>Richard James Allen</td>\n",
       "      <td>M</td>\n",
       "      <td>30.0</td>\n",
       "      <td>172.0</td>\n",
       "      <td>NaN</td>\n",
       "      <td>India</td>\n",
       "      <td>IND</td>\n",
       "      <td>1932 Summer</td>\n",
       "      <td>1932</td>\n",
       "      <td>Summer</td>\n",
       "      <td>Los Angeles</td>\n",
       "      <td>Hockey</td>\n",
       "      <td>Hockey Men's Hockey</td>\n",
       "      <td>Gold</td>\n",
       "      <td>India</td>\n",
       "      <td>NaN</td>\n",
       "      <td>False</td>\n",
       "      <td>True</td>\n",
       "      <td>False</td>\n",
       "    </tr>\n",
       "    <tr>\n",
       "      <th>4462</th>\n",
       "      <td>2864</td>\n",
       "      <td>Richard James Allen</td>\n",
       "      <td>M</td>\n",
       "      <td>34.0</td>\n",
       "      <td>172.0</td>\n",
       "      <td>NaN</td>\n",
       "      <td>India</td>\n",
       "      <td>IND</td>\n",
       "      <td>1936 Summer</td>\n",
       "      <td>1936</td>\n",
       "      <td>Summer</td>\n",
       "      <td>Berlin</td>\n",
       "      <td>Hockey</td>\n",
       "      <td>Hockey Men's Hockey</td>\n",
       "      <td>Gold</td>\n",
       "      <td>India</td>\n",
       "      <td>NaN</td>\n",
       "      <td>False</td>\n",
       "      <td>True</td>\n",
       "      <td>False</td>\n",
       "    </tr>\n",
       "    <tr>\n",
       "      <th>...</th>\n",
       "      <td>...</td>\n",
       "      <td>...</td>\n",
       "      <td>...</td>\n",
       "      <td>...</td>\n",
       "      <td>...</td>\n",
       "      <td>...</td>\n",
       "      <td>...</td>\n",
       "      <td>...</td>\n",
       "      <td>...</td>\n",
       "      <td>...</td>\n",
       "      <td>...</td>\n",
       "      <td>...</td>\n",
       "      <td>...</td>\n",
       "      <td>...</td>\n",
       "      <td>...</td>\n",
       "      <td>...</td>\n",
       "      <td>...</td>\n",
       "      <td>...</td>\n",
       "      <td>...</td>\n",
       "      <td>...</td>\n",
       "    </tr>\n",
       "    <tr>\n",
       "      <th>191759</th>\n",
       "      <td>117232</td>\n",
       "      <td>Dung Dung Sylvanus</td>\n",
       "      <td>M</td>\n",
       "      <td>31.0</td>\n",
       "      <td>160.0</td>\n",
       "      <td>62.0</td>\n",
       "      <td>India</td>\n",
       "      <td>IND</td>\n",
       "      <td>1980 Summer</td>\n",
       "      <td>1980</td>\n",
       "      <td>Summer</td>\n",
       "      <td>Moskva</td>\n",
       "      <td>Hockey</td>\n",
       "      <td>Hockey Men's Hockey</td>\n",
       "      <td>Gold</td>\n",
       "      <td>India</td>\n",
       "      <td>NaN</td>\n",
       "      <td>False</td>\n",
       "      <td>True</td>\n",
       "      <td>False</td>\n",
       "    </tr>\n",
       "    <tr>\n",
       "      <th>193964</th>\n",
       "      <td>118553</td>\n",
       "      <td>Carlyle Carrol Tapsell</td>\n",
       "      <td>M</td>\n",
       "      <td>23.0</td>\n",
       "      <td>182.0</td>\n",
       "      <td>NaN</td>\n",
       "      <td>India</td>\n",
       "      <td>IND</td>\n",
       "      <td>1932 Summer</td>\n",
       "      <td>1932</td>\n",
       "      <td>Summer</td>\n",
       "      <td>Los Angeles</td>\n",
       "      <td>Hockey</td>\n",
       "      <td>Hockey Men's Hockey</td>\n",
       "      <td>Gold</td>\n",
       "      <td>India</td>\n",
       "      <td>NaN</td>\n",
       "      <td>False</td>\n",
       "      <td>True</td>\n",
       "      <td>False</td>\n",
       "    </tr>\n",
       "    <tr>\n",
       "      <th>193965</th>\n",
       "      <td>118553</td>\n",
       "      <td>Carlyle Carrol Tapsell</td>\n",
       "      <td>M</td>\n",
       "      <td>27.0</td>\n",
       "      <td>182.0</td>\n",
       "      <td>NaN</td>\n",
       "      <td>India</td>\n",
       "      <td>IND</td>\n",
       "      <td>1936 Summer</td>\n",
       "      <td>1936</td>\n",
       "      <td>Summer</td>\n",
       "      <td>Berlin</td>\n",
       "      <td>Hockey</td>\n",
       "      <td>Hockey Men's Hockey</td>\n",
       "      <td>Gold</td>\n",
       "      <td>India</td>\n",
       "      <td>NaN</td>\n",
       "      <td>False</td>\n",
       "      <td>True</td>\n",
       "      <td>False</td>\n",
       "    </tr>\n",
       "    <tr>\n",
       "      <th>205949</th>\n",
       "      <td>125560</td>\n",
       "      <td>Max \"Maxie\" Vaz</td>\n",
       "      <td>M</td>\n",
       "      <td>NaN</td>\n",
       "      <td>NaN</td>\n",
       "      <td>NaN</td>\n",
       "      <td>India</td>\n",
       "      <td>IND</td>\n",
       "      <td>1948 Summer</td>\n",
       "      <td>1948</td>\n",
       "      <td>Summer</td>\n",
       "      <td>London</td>\n",
       "      <td>Hockey</td>\n",
       "      <td>Hockey Men's Hockey</td>\n",
       "      <td>Gold</td>\n",
       "      <td>India</td>\n",
       "      <td>NaN</td>\n",
       "      <td>False</td>\n",
       "      <td>True</td>\n",
       "      <td>False</td>\n",
       "    </tr>\n",
       "    <tr>\n",
       "      <th>219336</th>\n",
       "      <td>133554</td>\n",
       "      <td>Sayed Muhammad Yusuf</td>\n",
       "      <td>M</td>\n",
       "      <td>NaN</td>\n",
       "      <td>NaN</td>\n",
       "      <td>NaN</td>\n",
       "      <td>India</td>\n",
       "      <td>IND</td>\n",
       "      <td>1928 Summer</td>\n",
       "      <td>1928</td>\n",
       "      <td>Summer</td>\n",
       "      <td>Amsterdam</td>\n",
       "      <td>Hockey</td>\n",
       "      <td>Hockey Men's Hockey</td>\n",
       "      <td>Gold</td>\n",
       "      <td>India</td>\n",
       "      <td>NaN</td>\n",
       "      <td>False</td>\n",
       "      <td>True</td>\n",
       "      <td>False</td>\n",
       "    </tr>\n",
       "  </tbody>\n",
       "</table>\n",
       "<p>131 rows × 20 columns</p>\n",
       "</div>"
      ],
      "text/plain": [
       "            ID                    Name Sex   Age  Height  Weight   Team  NOC  \\\n",
       "4186      2699             Shaukat Ali   M  30.0     NaN     NaN  India  IND   \n",
       "4190      2703        Syed Mushtaq Ali   M  22.0   165.0    61.0  India  IND   \n",
       "4460      2864     Richard James Allen   M  25.0   172.0     NaN  India  IND   \n",
       "4461      2864     Richard James Allen   M  30.0   172.0     NaN  India  IND   \n",
       "4462      2864     Richard James Allen   M  34.0   172.0     NaN  India  IND   \n",
       "...        ...                     ...  ..   ...     ...     ...    ...  ...   \n",
       "191759  117232      Dung Dung Sylvanus   M  31.0   160.0    62.0  India  IND   \n",
       "193964  118553  Carlyle Carrol Tapsell   M  23.0   182.0     NaN  India  IND   \n",
       "193965  118553  Carlyle Carrol Tapsell   M  27.0   182.0     NaN  India  IND   \n",
       "205949  125560         Max \"Maxie\" Vaz   M   NaN     NaN     NaN  India  IND   \n",
       "219336  133554    Sayed Muhammad Yusuf   M   NaN     NaN     NaN  India  IND   \n",
       "\n",
       "              Games  Year  Season         City   Sport                Event  \\\n",
       "4186    1928 Summer  1928  Summer    Amsterdam  Hockey  Hockey Men's Hockey   \n",
       "4190    1964 Summer  1964  Summer        Tokyo  Hockey  Hockey Men's Hockey   \n",
       "4460    1928 Summer  1928  Summer    Amsterdam  Hockey  Hockey Men's Hockey   \n",
       "4461    1932 Summer  1932  Summer  Los Angeles  Hockey  Hockey Men's Hockey   \n",
       "4462    1936 Summer  1936  Summer       Berlin  Hockey  Hockey Men's Hockey   \n",
       "...             ...   ...     ...          ...     ...                  ...   \n",
       "191759  1980 Summer  1980  Summer       Moskva  Hockey  Hockey Men's Hockey   \n",
       "193964  1932 Summer  1932  Summer  Los Angeles  Hockey  Hockey Men's Hockey   \n",
       "193965  1936 Summer  1936  Summer       Berlin  Hockey  Hockey Men's Hockey   \n",
       "205949  1948 Summer  1948  Summer       London  Hockey  Hockey Men's Hockey   \n",
       "219336  1928 Summer  1928  Summer    Amsterdam  Hockey  Hockey Men's Hockey   \n",
       "\n",
       "       Medal region notes  Bronze  Gold  Silver  \n",
       "4186    Gold  India   NaN   False  True   False  \n",
       "4190    Gold  India   NaN   False  True   False  \n",
       "4460    Gold  India   NaN   False  True   False  \n",
       "4461    Gold  India   NaN   False  True   False  \n",
       "4462    Gold  India   NaN   False  True   False  \n",
       "...      ...    ...   ...     ...   ...     ...  \n",
       "191759  Gold  India   NaN   False  True   False  \n",
       "193964  Gold  India   NaN   False  True   False  \n",
       "193965  Gold  India   NaN   False  True   False  \n",
       "205949  Gold  India   NaN   False  True   False  \n",
       "219336  Gold  India   NaN   False  True   False  \n",
       "\n",
       "[131 rows x 20 columns]"
      ]
     },
     "execution_count": 115,
     "metadata": {},
     "output_type": "execute_result"
    }
   ],
   "source": [
    "# the discrepancy\n",
    "df[(df['NOC']=='IND') & (df['Medal']=='Gold')]"
   ]
  },
  {
   "cell_type": "code",
   "execution_count": 116,
   "id": "3fc2e951",
   "metadata": {},
   "outputs": [],
   "source": [
    "medal_tally=df.drop_duplicates(subset=['Team','Games','Year','City','Sport','Event','Medal'])"
   ]
  },
  {
   "cell_type": "code",
   "execution_count": 117,
   "id": "22373dde",
   "metadata": {},
   "outputs": [
    {
     "data": {
      "application/vnd.microsoft.datawrangler.viewer.v0+json": {
       "columns": [
        {
         "name": "index",
         "rawType": "int64",
         "type": "integer"
        },
        {
         "name": "ID",
         "rawType": "int64",
         "type": "integer"
        },
        {
         "name": "Name",
         "rawType": "object",
         "type": "string"
        },
        {
         "name": "Sex",
         "rawType": "object",
         "type": "string"
        },
        {
         "name": "Age",
         "rawType": "float64",
         "type": "float"
        },
        {
         "name": "Height",
         "rawType": "float64",
         "type": "float"
        },
        {
         "name": "Weight",
         "rawType": "float64",
         "type": "float"
        },
        {
         "name": "Team",
         "rawType": "object",
         "type": "string"
        },
        {
         "name": "NOC",
         "rawType": "object",
         "type": "string"
        },
        {
         "name": "Games",
         "rawType": "object",
         "type": "string"
        },
        {
         "name": "Year",
         "rawType": "int64",
         "type": "integer"
        },
        {
         "name": "Season",
         "rawType": "object",
         "type": "string"
        },
        {
         "name": "City",
         "rawType": "object",
         "type": "string"
        },
        {
         "name": "Sport",
         "rawType": "object",
         "type": "string"
        },
        {
         "name": "Event",
         "rawType": "object",
         "type": "string"
        },
        {
         "name": "Medal",
         "rawType": "object",
         "type": "unknown"
        },
        {
         "name": "region",
         "rawType": "object",
         "type": "string"
        },
        {
         "name": "notes",
         "rawType": "object",
         "type": "unknown"
        },
        {
         "name": "Bronze",
         "rawType": "bool",
         "type": "boolean"
        },
        {
         "name": "Gold",
         "rawType": "bool",
         "type": "boolean"
        },
        {
         "name": "Silver",
         "rawType": "bool",
         "type": "boolean"
        }
       ],
       "ref": "55045d64-417d-47e2-ba7f-934a7485b6bf",
       "rows": [
        [
         "0",
         "1",
         "A Dijiang",
         "M",
         "24.0",
         "180.0",
         "80.0",
         "China",
         "CHN",
         "1992 Summer",
         "1992",
         "Summer",
         "Barcelona",
         "Basketball",
         "Basketball Men's Basketball",
         null,
         "China",
         null,
         "False",
         "False",
         "False"
        ],
        [
         "1",
         "2",
         "A Lamusi",
         "M",
         "23.0",
         "170.0",
         "60.0",
         "China",
         "CHN",
         "2012 Summer",
         "2012",
         "Summer",
         "London",
         "Judo",
         "Judo Men's Extra-Lightweight",
         null,
         "China",
         null,
         "False",
         "False",
         "False"
        ],
        [
         "2",
         "3",
         "Gunnar Nielsen Aaby",
         "M",
         "24.0",
         null,
         null,
         "Denmark",
         "DEN",
         "1920 Summer",
         "1920",
         "Summer",
         "Antwerpen",
         "Football",
         "Football Men's Football",
         null,
         "Denmark",
         null,
         "False",
         "False",
         "False"
        ],
        [
         "3",
         "4",
         "Edgar Lindenau Aabye",
         "M",
         "34.0",
         null,
         null,
         "Denmark/Sweden",
         "DEN",
         "1900 Summer",
         "1900",
         "Summer",
         "Paris",
         "Tug-Of-War",
         "Tug-Of-War Men's Tug-Of-War",
         "Gold",
         "Denmark",
         null,
         "False",
         "True",
         "False"
        ],
        [
         "4",
         "8",
         "Cornelia \"Cor\" Aalten (-Strannood)",
         "F",
         "18.0",
         "168.0",
         null,
         "Netherlands",
         "NED",
         "1932 Summer",
         "1932",
         "Summer",
         "Los Angeles",
         "Athletics",
         "Athletics Women's 100 metres",
         null,
         "Netherlands",
         null,
         "False",
         "False",
         "False"
        ]
       ],
       "shape": {
        "columns": 20,
        "rows": 5
       }
      },
      "text/html": [
       "<div>\n",
       "<style scoped>\n",
       "    .dataframe tbody tr th:only-of-type {\n",
       "        vertical-align: middle;\n",
       "    }\n",
       "\n",
       "    .dataframe tbody tr th {\n",
       "        vertical-align: top;\n",
       "    }\n",
       "\n",
       "    .dataframe thead th {\n",
       "        text-align: right;\n",
       "    }\n",
       "</style>\n",
       "<table border=\"1\" class=\"dataframe\">\n",
       "  <thead>\n",
       "    <tr style=\"text-align: right;\">\n",
       "      <th></th>\n",
       "      <th>ID</th>\n",
       "      <th>Name</th>\n",
       "      <th>Sex</th>\n",
       "      <th>Age</th>\n",
       "      <th>Height</th>\n",
       "      <th>Weight</th>\n",
       "      <th>Team</th>\n",
       "      <th>NOC</th>\n",
       "      <th>Games</th>\n",
       "      <th>Year</th>\n",
       "      <th>Season</th>\n",
       "      <th>City</th>\n",
       "      <th>Sport</th>\n",
       "      <th>Event</th>\n",
       "      <th>Medal</th>\n",
       "      <th>region</th>\n",
       "      <th>notes</th>\n",
       "      <th>Bronze</th>\n",
       "      <th>Gold</th>\n",
       "      <th>Silver</th>\n",
       "    </tr>\n",
       "  </thead>\n",
       "  <tbody>\n",
       "    <tr>\n",
       "      <th>0</th>\n",
       "      <td>1</td>\n",
       "      <td>A Dijiang</td>\n",
       "      <td>M</td>\n",
       "      <td>24.0</td>\n",
       "      <td>180.0</td>\n",
       "      <td>80.0</td>\n",
       "      <td>China</td>\n",
       "      <td>CHN</td>\n",
       "      <td>1992 Summer</td>\n",
       "      <td>1992</td>\n",
       "      <td>Summer</td>\n",
       "      <td>Barcelona</td>\n",
       "      <td>Basketball</td>\n",
       "      <td>Basketball Men's Basketball</td>\n",
       "      <td>NaN</td>\n",
       "      <td>China</td>\n",
       "      <td>NaN</td>\n",
       "      <td>False</td>\n",
       "      <td>False</td>\n",
       "      <td>False</td>\n",
       "    </tr>\n",
       "    <tr>\n",
       "      <th>1</th>\n",
       "      <td>2</td>\n",
       "      <td>A Lamusi</td>\n",
       "      <td>M</td>\n",
       "      <td>23.0</td>\n",
       "      <td>170.0</td>\n",
       "      <td>60.0</td>\n",
       "      <td>China</td>\n",
       "      <td>CHN</td>\n",
       "      <td>2012 Summer</td>\n",
       "      <td>2012</td>\n",
       "      <td>Summer</td>\n",
       "      <td>London</td>\n",
       "      <td>Judo</td>\n",
       "      <td>Judo Men's Extra-Lightweight</td>\n",
       "      <td>NaN</td>\n",
       "      <td>China</td>\n",
       "      <td>NaN</td>\n",
       "      <td>False</td>\n",
       "      <td>False</td>\n",
       "      <td>False</td>\n",
       "    </tr>\n",
       "    <tr>\n",
       "      <th>2</th>\n",
       "      <td>3</td>\n",
       "      <td>Gunnar Nielsen Aaby</td>\n",
       "      <td>M</td>\n",
       "      <td>24.0</td>\n",
       "      <td>NaN</td>\n",
       "      <td>NaN</td>\n",
       "      <td>Denmark</td>\n",
       "      <td>DEN</td>\n",
       "      <td>1920 Summer</td>\n",
       "      <td>1920</td>\n",
       "      <td>Summer</td>\n",
       "      <td>Antwerpen</td>\n",
       "      <td>Football</td>\n",
       "      <td>Football Men's Football</td>\n",
       "      <td>NaN</td>\n",
       "      <td>Denmark</td>\n",
       "      <td>NaN</td>\n",
       "      <td>False</td>\n",
       "      <td>False</td>\n",
       "      <td>False</td>\n",
       "    </tr>\n",
       "    <tr>\n",
       "      <th>3</th>\n",
       "      <td>4</td>\n",
       "      <td>Edgar Lindenau Aabye</td>\n",
       "      <td>M</td>\n",
       "      <td>34.0</td>\n",
       "      <td>NaN</td>\n",
       "      <td>NaN</td>\n",
       "      <td>Denmark/Sweden</td>\n",
       "      <td>DEN</td>\n",
       "      <td>1900 Summer</td>\n",
       "      <td>1900</td>\n",
       "      <td>Summer</td>\n",
       "      <td>Paris</td>\n",
       "      <td>Tug-Of-War</td>\n",
       "      <td>Tug-Of-War Men's Tug-Of-War</td>\n",
       "      <td>Gold</td>\n",
       "      <td>Denmark</td>\n",
       "      <td>NaN</td>\n",
       "      <td>False</td>\n",
       "      <td>True</td>\n",
       "      <td>False</td>\n",
       "    </tr>\n",
       "    <tr>\n",
       "      <th>4</th>\n",
       "      <td>8</td>\n",
       "      <td>Cornelia \"Cor\" Aalten (-Strannood)</td>\n",
       "      <td>F</td>\n",
       "      <td>18.0</td>\n",
       "      <td>168.0</td>\n",
       "      <td>NaN</td>\n",
       "      <td>Netherlands</td>\n",
       "      <td>NED</td>\n",
       "      <td>1932 Summer</td>\n",
       "      <td>1932</td>\n",
       "      <td>Summer</td>\n",
       "      <td>Los Angeles</td>\n",
       "      <td>Athletics</td>\n",
       "      <td>Athletics Women's 100 metres</td>\n",
       "      <td>NaN</td>\n",
       "      <td>Netherlands</td>\n",
       "      <td>NaN</td>\n",
       "      <td>False</td>\n",
       "      <td>False</td>\n",
       "      <td>False</td>\n",
       "    </tr>\n",
       "  </tbody>\n",
       "</table>\n",
       "</div>"
      ],
      "text/plain": [
       "   ID                                Name Sex   Age  Height  Weight  \\\n",
       "0   1                           A Dijiang   M  24.0   180.0    80.0   \n",
       "1   2                            A Lamusi   M  23.0   170.0    60.0   \n",
       "2   3                 Gunnar Nielsen Aaby   M  24.0     NaN     NaN   \n",
       "3   4                Edgar Lindenau Aabye   M  34.0     NaN     NaN   \n",
       "4   8  Cornelia \"Cor\" Aalten (-Strannood)   F  18.0   168.0     NaN   \n",
       "\n",
       "             Team  NOC        Games  Year  Season         City       Sport  \\\n",
       "0           China  CHN  1992 Summer  1992  Summer    Barcelona  Basketball   \n",
       "1           China  CHN  2012 Summer  2012  Summer       London        Judo   \n",
       "2         Denmark  DEN  1920 Summer  1920  Summer    Antwerpen    Football   \n",
       "3  Denmark/Sweden  DEN  1900 Summer  1900  Summer        Paris  Tug-Of-War   \n",
       "4     Netherlands  NED  1932 Summer  1932  Summer  Los Angeles   Athletics   \n",
       "\n",
       "                          Event Medal       region notes  Bronze   Gold  \\\n",
       "0   Basketball Men's Basketball   NaN        China   NaN   False  False   \n",
       "1  Judo Men's Extra-Lightweight   NaN        China   NaN   False  False   \n",
       "2       Football Men's Football   NaN      Denmark   NaN   False  False   \n",
       "3   Tug-Of-War Men's Tug-Of-War  Gold      Denmark   NaN   False   True   \n",
       "4  Athletics Women's 100 metres   NaN  Netherlands   NaN   False  False   \n",
       "\n",
       "   Silver  \n",
       "0   False  \n",
       "1   False  \n",
       "2   False  \n",
       "3   False  \n",
       "4   False  "
      ]
     },
     "execution_count": 117,
     "metadata": {},
     "output_type": "execute_result"
    }
   ],
   "source": [
    "medal_tally.head()"
   ]
  },
  {
   "cell_type": "code",
   "execution_count": 118,
   "id": "9de17d48",
   "metadata": {},
   "outputs": [],
   "source": [
    "# Actual medal tally\n",
    "medal_tally = medal_tally.groupby('NOC').sum()[['Gold','Silver','Bronze']].sort_values('Gold',ascending=False).reset_index()"
   ]
  },
  {
   "cell_type": "code",
   "execution_count": 119,
   "id": "ae9a7781",
   "metadata": {},
   "outputs": [
    {
     "data": {
      "application/vnd.microsoft.datawrangler.viewer.v0+json": {
       "columns": [
        {
         "name": "index",
         "rawType": "int64",
         "type": "integer"
        },
        {
         "name": "NOC",
         "rawType": "object",
         "type": "string"
        },
        {
         "name": "Gold",
         "rawType": "int64",
         "type": "integer"
        },
        {
         "name": "Silver",
         "rawType": "int64",
         "type": "integer"
        },
        {
         "name": "Bronze",
         "rawType": "int64",
         "type": "integer"
        }
       ],
       "ref": "b62f23ed-4726-4070-8a6b-87cf179ddf27",
       "rows": [
        [
         "50",
         "IND",
         "9",
         "7",
         "12"
        ]
       ],
       "shape": {
        "columns": 4,
        "rows": 1
       }
      },
      "text/html": [
       "<div>\n",
       "<style scoped>\n",
       "    .dataframe tbody tr th:only-of-type {\n",
       "        vertical-align: middle;\n",
       "    }\n",
       "\n",
       "    .dataframe tbody tr th {\n",
       "        vertical-align: top;\n",
       "    }\n",
       "\n",
       "    .dataframe thead th {\n",
       "        text-align: right;\n",
       "    }\n",
       "</style>\n",
       "<table border=\"1\" class=\"dataframe\">\n",
       "  <thead>\n",
       "    <tr style=\"text-align: right;\">\n",
       "      <th></th>\n",
       "      <th>NOC</th>\n",
       "      <th>Gold</th>\n",
       "      <th>Silver</th>\n",
       "      <th>Bronze</th>\n",
       "    </tr>\n",
       "  </thead>\n",
       "  <tbody>\n",
       "    <tr>\n",
       "      <th>50</th>\n",
       "      <td>IND</td>\n",
       "      <td>9</td>\n",
       "      <td>7</td>\n",
       "      <td>12</td>\n",
       "    </tr>\n",
       "  </tbody>\n",
       "</table>\n",
       "</div>"
      ],
      "text/plain": [
       "    NOC  Gold  Silver  Bronze\n",
       "50  IND     9       7      12"
      ]
     },
     "execution_count": 119,
     "metadata": {},
     "output_type": "execute_result"
    }
   ],
   "source": [
    "medal_tally[medal_tally['NOC']=='IND']"
   ]
  },
  {
   "cell_type": "code",
   "execution_count": 120,
   "id": "24612543",
   "metadata": {},
   "outputs": [],
   "source": [
    "years=df['Year'].unique().tolist()"
   ]
  },
  {
   "cell_type": "code",
   "execution_count": 121,
   "id": "961d6e3d",
   "metadata": {},
   "outputs": [],
   "source": [
    "years.sort()"
   ]
  },
  {
   "cell_type": "code",
   "execution_count": 122,
   "id": "e3196e61",
   "metadata": {},
   "outputs": [],
   "source": [
    "years.insert(0,'Overall')"
   ]
  },
  {
   "cell_type": "code",
   "execution_count": 123,
   "id": "8c152bcb",
   "metadata": {},
   "outputs": [],
   "source": [
    "country=df['region'].dropna().unique().tolist()"
   ]
  },
  {
   "cell_type": "code",
   "execution_count": 124,
   "id": "35531948",
   "metadata": {},
   "outputs": [],
   "source": [
    "country.sort()"
   ]
  },
  {
   "cell_type": "code",
   "execution_count": 125,
   "id": "066bec5f",
   "metadata": {},
   "outputs": [
    {
     "data": {
      "text/plain": [
       "['Afghanistan',\n",
       " 'Albania',\n",
       " 'Algeria',\n",
       " 'American Samoa',\n",
       " 'Andorra',\n",
       " 'Angola',\n",
       " 'Antigua',\n",
       " 'Argentina',\n",
       " 'Armenia',\n",
       " 'Aruba',\n",
       " 'Australia',\n",
       " 'Austria',\n",
       " 'Azerbaijan',\n",
       " 'Bahamas',\n",
       " 'Bahrain',\n",
       " 'Bangladesh',\n",
       " 'Barbados',\n",
       " 'Belarus',\n",
       " 'Belgium',\n",
       " 'Belize',\n",
       " 'Benin',\n",
       " 'Bermuda',\n",
       " 'Bhutan',\n",
       " 'Boliva',\n",
       " 'Bosnia and Herzegovina',\n",
       " 'Botswana',\n",
       " 'Brazil',\n",
       " 'Brunei',\n",
       " 'Bulgaria',\n",
       " 'Burkina Faso',\n",
       " 'Burundi',\n",
       " 'Cambodia',\n",
       " 'Cameroon',\n",
       " 'Canada',\n",
       " 'Cape Verde',\n",
       " 'Cayman Islands',\n",
       " 'Central African Republic',\n",
       " 'Chad',\n",
       " 'Chile',\n",
       " 'China',\n",
       " 'Colombia',\n",
       " 'Comoros',\n",
       " 'Cook Islands',\n",
       " 'Costa Rica',\n",
       " 'Croatia',\n",
       " 'Cuba',\n",
       " 'Curacao',\n",
       " 'Cyprus',\n",
       " 'Czech Republic',\n",
       " 'Democratic Republic of the Congo',\n",
       " 'Denmark',\n",
       " 'Djibouti',\n",
       " 'Dominica',\n",
       " 'Dominican Republic',\n",
       " 'Ecuador',\n",
       " 'Egypt',\n",
       " 'El Salvador',\n",
       " 'Equatorial Guinea',\n",
       " 'Eritrea',\n",
       " 'Estonia',\n",
       " 'Ethiopia',\n",
       " 'Fiji',\n",
       " 'Finland',\n",
       " 'France',\n",
       " 'Gabon',\n",
       " 'Gambia',\n",
       " 'Georgia',\n",
       " 'Germany',\n",
       " 'Ghana',\n",
       " 'Greece',\n",
       " 'Grenada',\n",
       " 'Guam',\n",
       " 'Guatemala',\n",
       " 'Guinea',\n",
       " 'Guinea-Bissau',\n",
       " 'Guyana',\n",
       " 'Haiti',\n",
       " 'Honduras',\n",
       " 'Hungary',\n",
       " 'Iceland',\n",
       " 'India',\n",
       " 'Individual Olympic Athletes',\n",
       " 'Indonesia',\n",
       " 'Iran',\n",
       " 'Iraq',\n",
       " 'Ireland',\n",
       " 'Israel',\n",
       " 'Italy',\n",
       " 'Ivory Coast',\n",
       " 'Jamaica',\n",
       " 'Japan',\n",
       " 'Jordan',\n",
       " 'Kazakhstan',\n",
       " 'Kenya',\n",
       " 'Kiribati',\n",
       " 'Kosovo',\n",
       " 'Kuwait',\n",
       " 'Kyrgyzstan',\n",
       " 'Laos',\n",
       " 'Latvia',\n",
       " 'Lebanon',\n",
       " 'Lesotho',\n",
       " 'Liberia',\n",
       " 'Libya',\n",
       " 'Liechtenstein',\n",
       " 'Lithuania',\n",
       " 'Luxembourg',\n",
       " 'Macedonia',\n",
       " 'Madagascar',\n",
       " 'Malawi',\n",
       " 'Malaysia',\n",
       " 'Maldives',\n",
       " 'Mali',\n",
       " 'Malta',\n",
       " 'Marshall Islands',\n",
       " 'Mauritania',\n",
       " 'Mauritius',\n",
       " 'Mexico',\n",
       " 'Micronesia',\n",
       " 'Moldova',\n",
       " 'Monaco',\n",
       " 'Mongolia',\n",
       " 'Montenegro',\n",
       " 'Morocco',\n",
       " 'Mozambique',\n",
       " 'Myanmar',\n",
       " 'Namibia',\n",
       " 'Nauru',\n",
       " 'Nepal',\n",
       " 'Netherlands',\n",
       " 'New Zealand',\n",
       " 'Nicaragua',\n",
       " 'Niger',\n",
       " 'Nigeria',\n",
       " 'North Korea',\n",
       " 'Norway',\n",
       " 'Oman',\n",
       " 'Pakistan',\n",
       " 'Palau',\n",
       " 'Palestine',\n",
       " 'Panama',\n",
       " 'Papua New Guinea',\n",
       " 'Paraguay',\n",
       " 'Peru',\n",
       " 'Philippines',\n",
       " 'Poland',\n",
       " 'Portugal',\n",
       " 'Puerto Rico',\n",
       " 'Qatar',\n",
       " 'Republic of Congo',\n",
       " 'Romania',\n",
       " 'Russia',\n",
       " 'Rwanda',\n",
       " 'Saint Kitts',\n",
       " 'Saint Lucia',\n",
       " 'Saint Vincent',\n",
       " 'Samoa',\n",
       " 'San Marino',\n",
       " 'Sao Tome and Principe',\n",
       " 'Saudi Arabia',\n",
       " 'Senegal',\n",
       " 'Serbia',\n",
       " 'Seychelles',\n",
       " 'Sierra Leone',\n",
       " 'Slovakia',\n",
       " 'Slovenia',\n",
       " 'Solomon Islands',\n",
       " 'Somalia',\n",
       " 'South Africa',\n",
       " 'South Korea',\n",
       " 'South Sudan',\n",
       " 'Spain',\n",
       " 'Sri Lanka',\n",
       " 'Sudan',\n",
       " 'Suriname',\n",
       " 'Swaziland',\n",
       " 'Sweden',\n",
       " 'Switzerland',\n",
       " 'Syria',\n",
       " 'Taiwan',\n",
       " 'Tajikistan',\n",
       " 'Tanzania',\n",
       " 'Thailand',\n",
       " 'Timor-Leste',\n",
       " 'Togo',\n",
       " 'Tonga',\n",
       " 'Trinidad',\n",
       " 'Tunisia',\n",
       " 'Turkey',\n",
       " 'Turkmenistan',\n",
       " 'UK',\n",
       " 'USA',\n",
       " 'Uganda',\n",
       " 'Ukraine',\n",
       " 'United Arab Emirates',\n",
       " 'Uruguay',\n",
       " 'Uzbekistan',\n",
       " 'Vanuatu',\n",
       " 'Venezuela',\n",
       " 'Vietnam',\n",
       " 'Virgin Islands, British',\n",
       " 'Virgin Islands, US',\n",
       " 'Yemen',\n",
       " 'Zambia',\n",
       " 'Zimbabwe']"
      ]
     },
     "execution_count": 125,
     "metadata": {},
     "output_type": "execute_result"
    }
   ],
   "source": [
    "country"
   ]
  },
  {
   "cell_type": "code",
   "execution_count": 126,
   "id": "2b98481c",
   "metadata": {},
   "outputs": [],
   "source": [
    "country.insert(0,'Overall')"
   ]
  },
  {
   "cell_type": "code",
   "execution_count": 127,
   "id": "3b7ece3e",
   "metadata": {},
   "outputs": [],
   "source": [
    "medal_df=df.drop_duplicates(subset=['Team','Games','Year','City','Sport','Event','Medal'])"
   ]
  },
  {
   "cell_type": "code",
   "execution_count": 128,
   "id": "1a6c4afd",
   "metadata": {},
   "outputs": [],
   "source": [
    "def fetch_medal_tally(df,year,country):\n",
    "    medal_df=df.drop_duplicates(subset=['Team','Games','Year','City','Sport','Event','Medal'])\n",
    "    flag=0\n",
    "    if year=='Overall' and country=='Overall':\n",
    "        temp_df=medal_df\n",
    "    if year=='Overall' and country!='Overall':\n",
    "        flag=1\n",
    "        temp_df=medal_df[medal_df['region']==country]\n",
    "    if year!='Overall' and country=='Overall':\n",
    "        temp_df=medal_df[medal_df['Year']==int(year)]\n",
    "    if year!='Overall' and country!='Overall':\n",
    "        temp_df=medal_df[(medal_df['Year']==int(year)) and (medal_df['region']==country)]\n",
    "   \n",
    "    # Actual medal tally\n",
    "    if flag==1:\n",
    "        temp_df = temp_df.groupby('Year').sum()[['Gold','Silver','Bronze']].sort_values('Year',ascending=True).reset_index()\n",
    "    else:\n",
    "        temp_df = temp_df.groupby('region').sum()[['Gold','Silver','Bronze']].sort_values('Gold',ascending=False).reset_index()\n",
    "    temp_df['total']=temp_df['Gold']+temp_df['Silver']+temp_df['Bronze']\n",
    "\n",
    "    return temp_df\n",
    "\n",
    "\n",
    "\n"
   ]
  },
  {
   "cell_type": "markdown",
   "id": "a131c4fd",
   "metadata": {},
   "source": [
    "## Overall Analysis\n",
    "*   No of Editions\n",
    "*   No of Cities\n",
    "*   No of events/sports\n",
    "*   No of athletes\n",
    "*   participating nations"
   ]
  },
  {
   "cell_type": "code",
   "execution_count": 129,
   "id": "e59cc601",
   "metadata": {},
   "outputs": [
    {
     "data": {
      "text/plain": [
       "28"
      ]
     },
     "execution_count": 129,
     "metadata": {},
     "output_type": "execute_result"
    }
   ],
   "source": [
    "#  1\n",
    "df['Year'].unique().shape[0]-1 #  1906 olympic not considered"
   ]
  },
  {
   "cell_type": "code",
   "execution_count": 130,
   "id": "f423aaaa",
   "metadata": {},
   "outputs": [],
   "source": [
    "nations_over_time=df.drop_duplicates(['Year','region'])['Year'].value_counts().reset_index().sort_values('Year')"
   ]
  },
  {
   "cell_type": "code",
   "execution_count": 131,
   "id": "0e969f8b",
   "metadata": {},
   "outputs": [],
   "source": [
    "nations_over_time.rename(columns={'Year':'Edition','count':'No of Countries'},inplace=True)"
   ]
  },
  {
   "cell_type": "code",
   "execution_count": 132,
   "id": "72a641a6",
   "metadata": {},
   "outputs": [],
   "source": [
    "import plotly.express as px"
   ]
  },
  {
   "cell_type": "code",
   "execution_count": 133,
   "id": "7cf286b1",
   "metadata": {},
   "outputs": [
    {
     "data": {
      "application/vnd.plotly.v1+json": {
       "config": {
        "plotlyServerURL": "https://plot.ly"
       },
       "data": [
        {
         "hovertemplate": "Edition=%{x}<br>No of Countries=%{y}<extra></extra>",
         "legendgroup": "",
         "line": {
          "color": "#636efa",
          "dash": "solid"
         },
         "marker": {
          "symbol": "circle"
         },
         "mode": "lines",
         "name": "",
         "orientation": "v",
         "showlegend": false,
         "type": "scatter",
         "x": {
          "bdata": "aAdsB3AHcgd0B3gHgAeEB4gHjAeQB5wHoAekB6gHrAewB7QHuAe8B8AHxAfIB8wH0AfUB9gH3AfgBw==",
          "dtype": "i2"
         },
         "xaxis": "x",
         "y": {
          "bdata": "DAAfAA4AFAAWAB0AHQAtAC4ALwAxADsAQwBHAFMAXQBvAHgAWwBQAIsAnACoAMQAxwDIAMoAywDMAA==",
          "dtype": "i2"
         },
         "yaxis": "y"
        }
       ],
       "layout": {
        "legend": {
         "tracegroupgap": 0
        },
        "margin": {
         "t": 60
        },
        "template": {
         "data": {
          "bar": [
           {
            "error_x": {
             "color": "#2a3f5f"
            },
            "error_y": {
             "color": "#2a3f5f"
            },
            "marker": {
             "line": {
              "color": "#E5ECF6",
              "width": 0.5
             },
             "pattern": {
              "fillmode": "overlay",
              "size": 10,
              "solidity": 0.2
             }
            },
            "type": "bar"
           }
          ],
          "barpolar": [
           {
            "marker": {
             "line": {
              "color": "#E5ECF6",
              "width": 0.5
             },
             "pattern": {
              "fillmode": "overlay",
              "size": 10,
              "solidity": 0.2
             }
            },
            "type": "barpolar"
           }
          ],
          "carpet": [
           {
            "aaxis": {
             "endlinecolor": "#2a3f5f",
             "gridcolor": "white",
             "linecolor": "white",
             "minorgridcolor": "white",
             "startlinecolor": "#2a3f5f"
            },
            "baxis": {
             "endlinecolor": "#2a3f5f",
             "gridcolor": "white",
             "linecolor": "white",
             "minorgridcolor": "white",
             "startlinecolor": "#2a3f5f"
            },
            "type": "carpet"
           }
          ],
          "choropleth": [
           {
            "colorbar": {
             "outlinewidth": 0,
             "ticks": ""
            },
            "type": "choropleth"
           }
          ],
          "contour": [
           {
            "colorbar": {
             "outlinewidth": 0,
             "ticks": ""
            },
            "colorscale": [
             [
              0,
              "#0d0887"
             ],
             [
              0.1111111111111111,
              "#46039f"
             ],
             [
              0.2222222222222222,
              "#7201a8"
             ],
             [
              0.3333333333333333,
              "#9c179e"
             ],
             [
              0.4444444444444444,
              "#bd3786"
             ],
             [
              0.5555555555555556,
              "#d8576b"
             ],
             [
              0.6666666666666666,
              "#ed7953"
             ],
             [
              0.7777777777777778,
              "#fb9f3a"
             ],
             [
              0.8888888888888888,
              "#fdca26"
             ],
             [
              1,
              "#f0f921"
             ]
            ],
            "type": "contour"
           }
          ],
          "contourcarpet": [
           {
            "colorbar": {
             "outlinewidth": 0,
             "ticks": ""
            },
            "type": "contourcarpet"
           }
          ],
          "heatmap": [
           {
            "colorbar": {
             "outlinewidth": 0,
             "ticks": ""
            },
            "colorscale": [
             [
              0,
              "#0d0887"
             ],
             [
              0.1111111111111111,
              "#46039f"
             ],
             [
              0.2222222222222222,
              "#7201a8"
             ],
             [
              0.3333333333333333,
              "#9c179e"
             ],
             [
              0.4444444444444444,
              "#bd3786"
             ],
             [
              0.5555555555555556,
              "#d8576b"
             ],
             [
              0.6666666666666666,
              "#ed7953"
             ],
             [
              0.7777777777777778,
              "#fb9f3a"
             ],
             [
              0.8888888888888888,
              "#fdca26"
             ],
             [
              1,
              "#f0f921"
             ]
            ],
            "type": "heatmap"
           }
          ],
          "histogram": [
           {
            "marker": {
             "pattern": {
              "fillmode": "overlay",
              "size": 10,
              "solidity": 0.2
             }
            },
            "type": "histogram"
           }
          ],
          "histogram2d": [
           {
            "colorbar": {
             "outlinewidth": 0,
             "ticks": ""
            },
            "colorscale": [
             [
              0,
              "#0d0887"
             ],
             [
              0.1111111111111111,
              "#46039f"
             ],
             [
              0.2222222222222222,
              "#7201a8"
             ],
             [
              0.3333333333333333,
              "#9c179e"
             ],
             [
              0.4444444444444444,
              "#bd3786"
             ],
             [
              0.5555555555555556,
              "#d8576b"
             ],
             [
              0.6666666666666666,
              "#ed7953"
             ],
             [
              0.7777777777777778,
              "#fb9f3a"
             ],
             [
              0.8888888888888888,
              "#fdca26"
             ],
             [
              1,
              "#f0f921"
             ]
            ],
            "type": "histogram2d"
           }
          ],
          "histogram2dcontour": [
           {
            "colorbar": {
             "outlinewidth": 0,
             "ticks": ""
            },
            "colorscale": [
             [
              0,
              "#0d0887"
             ],
             [
              0.1111111111111111,
              "#46039f"
             ],
             [
              0.2222222222222222,
              "#7201a8"
             ],
             [
              0.3333333333333333,
              "#9c179e"
             ],
             [
              0.4444444444444444,
              "#bd3786"
             ],
             [
              0.5555555555555556,
              "#d8576b"
             ],
             [
              0.6666666666666666,
              "#ed7953"
             ],
             [
              0.7777777777777778,
              "#fb9f3a"
             ],
             [
              0.8888888888888888,
              "#fdca26"
             ],
             [
              1,
              "#f0f921"
             ]
            ],
            "type": "histogram2dcontour"
           }
          ],
          "mesh3d": [
           {
            "colorbar": {
             "outlinewidth": 0,
             "ticks": ""
            },
            "type": "mesh3d"
           }
          ],
          "parcoords": [
           {
            "line": {
             "colorbar": {
              "outlinewidth": 0,
              "ticks": ""
             }
            },
            "type": "parcoords"
           }
          ],
          "pie": [
           {
            "automargin": true,
            "type": "pie"
           }
          ],
          "scatter": [
           {
            "fillpattern": {
             "fillmode": "overlay",
             "size": 10,
             "solidity": 0.2
            },
            "type": "scatter"
           }
          ],
          "scatter3d": [
           {
            "line": {
             "colorbar": {
              "outlinewidth": 0,
              "ticks": ""
             }
            },
            "marker": {
             "colorbar": {
              "outlinewidth": 0,
              "ticks": ""
             }
            },
            "type": "scatter3d"
           }
          ],
          "scattercarpet": [
           {
            "marker": {
             "colorbar": {
              "outlinewidth": 0,
              "ticks": ""
             }
            },
            "type": "scattercarpet"
           }
          ],
          "scattergeo": [
           {
            "marker": {
             "colorbar": {
              "outlinewidth": 0,
              "ticks": ""
             }
            },
            "type": "scattergeo"
           }
          ],
          "scattergl": [
           {
            "marker": {
             "colorbar": {
              "outlinewidth": 0,
              "ticks": ""
             }
            },
            "type": "scattergl"
           }
          ],
          "scattermap": [
           {
            "marker": {
             "colorbar": {
              "outlinewidth": 0,
              "ticks": ""
             }
            },
            "type": "scattermap"
           }
          ],
          "scattermapbox": [
           {
            "marker": {
             "colorbar": {
              "outlinewidth": 0,
              "ticks": ""
             }
            },
            "type": "scattermapbox"
           }
          ],
          "scatterpolar": [
           {
            "marker": {
             "colorbar": {
              "outlinewidth": 0,
              "ticks": ""
             }
            },
            "type": "scatterpolar"
           }
          ],
          "scatterpolargl": [
           {
            "marker": {
             "colorbar": {
              "outlinewidth": 0,
              "ticks": ""
             }
            },
            "type": "scatterpolargl"
           }
          ],
          "scatterternary": [
           {
            "marker": {
             "colorbar": {
              "outlinewidth": 0,
              "ticks": ""
             }
            },
            "type": "scatterternary"
           }
          ],
          "surface": [
           {
            "colorbar": {
             "outlinewidth": 0,
             "ticks": ""
            },
            "colorscale": [
             [
              0,
              "#0d0887"
             ],
             [
              0.1111111111111111,
              "#46039f"
             ],
             [
              0.2222222222222222,
              "#7201a8"
             ],
             [
              0.3333333333333333,
              "#9c179e"
             ],
             [
              0.4444444444444444,
              "#bd3786"
             ],
             [
              0.5555555555555556,
              "#d8576b"
             ],
             [
              0.6666666666666666,
              "#ed7953"
             ],
             [
              0.7777777777777778,
              "#fb9f3a"
             ],
             [
              0.8888888888888888,
              "#fdca26"
             ],
             [
              1,
              "#f0f921"
             ]
            ],
            "type": "surface"
           }
          ],
          "table": [
           {
            "cells": {
             "fill": {
              "color": "#EBF0F8"
             },
             "line": {
              "color": "white"
             }
            },
            "header": {
             "fill": {
              "color": "#C8D4E3"
             },
             "line": {
              "color": "white"
             }
            },
            "type": "table"
           }
          ]
         },
         "layout": {
          "annotationdefaults": {
           "arrowcolor": "#2a3f5f",
           "arrowhead": 0,
           "arrowwidth": 1
          },
          "autotypenumbers": "strict",
          "coloraxis": {
           "colorbar": {
            "outlinewidth": 0,
            "ticks": ""
           }
          },
          "colorscale": {
           "diverging": [
            [
             0,
             "#8e0152"
            ],
            [
             0.1,
             "#c51b7d"
            ],
            [
             0.2,
             "#de77ae"
            ],
            [
             0.3,
             "#f1b6da"
            ],
            [
             0.4,
             "#fde0ef"
            ],
            [
             0.5,
             "#f7f7f7"
            ],
            [
             0.6,
             "#e6f5d0"
            ],
            [
             0.7,
             "#b8e186"
            ],
            [
             0.8,
             "#7fbc41"
            ],
            [
             0.9,
             "#4d9221"
            ],
            [
             1,
             "#276419"
            ]
           ],
           "sequential": [
            [
             0,
             "#0d0887"
            ],
            [
             0.1111111111111111,
             "#46039f"
            ],
            [
             0.2222222222222222,
             "#7201a8"
            ],
            [
             0.3333333333333333,
             "#9c179e"
            ],
            [
             0.4444444444444444,
             "#bd3786"
            ],
            [
             0.5555555555555556,
             "#d8576b"
            ],
            [
             0.6666666666666666,
             "#ed7953"
            ],
            [
             0.7777777777777778,
             "#fb9f3a"
            ],
            [
             0.8888888888888888,
             "#fdca26"
            ],
            [
             1,
             "#f0f921"
            ]
           ],
           "sequentialminus": [
            [
             0,
             "#0d0887"
            ],
            [
             0.1111111111111111,
             "#46039f"
            ],
            [
             0.2222222222222222,
             "#7201a8"
            ],
            [
             0.3333333333333333,
             "#9c179e"
            ],
            [
             0.4444444444444444,
             "#bd3786"
            ],
            [
             0.5555555555555556,
             "#d8576b"
            ],
            [
             0.6666666666666666,
             "#ed7953"
            ],
            [
             0.7777777777777778,
             "#fb9f3a"
            ],
            [
             0.8888888888888888,
             "#fdca26"
            ],
            [
             1,
             "#f0f921"
            ]
           ]
          },
          "colorway": [
           "#636efa",
           "#EF553B",
           "#00cc96",
           "#ab63fa",
           "#FFA15A",
           "#19d3f3",
           "#FF6692",
           "#B6E880",
           "#FF97FF",
           "#FECB52"
          ],
          "font": {
           "color": "#2a3f5f"
          },
          "geo": {
           "bgcolor": "white",
           "lakecolor": "white",
           "landcolor": "#E5ECF6",
           "showlakes": true,
           "showland": true,
           "subunitcolor": "white"
          },
          "hoverlabel": {
           "align": "left"
          },
          "hovermode": "closest",
          "mapbox": {
           "style": "light"
          },
          "paper_bgcolor": "white",
          "plot_bgcolor": "#E5ECF6",
          "polar": {
           "angularaxis": {
            "gridcolor": "white",
            "linecolor": "white",
            "ticks": ""
           },
           "bgcolor": "#E5ECF6",
           "radialaxis": {
            "gridcolor": "white",
            "linecolor": "white",
            "ticks": ""
           }
          },
          "scene": {
           "xaxis": {
            "backgroundcolor": "#E5ECF6",
            "gridcolor": "white",
            "gridwidth": 2,
            "linecolor": "white",
            "showbackground": true,
            "ticks": "",
            "zerolinecolor": "white"
           },
           "yaxis": {
            "backgroundcolor": "#E5ECF6",
            "gridcolor": "white",
            "gridwidth": 2,
            "linecolor": "white",
            "showbackground": true,
            "ticks": "",
            "zerolinecolor": "white"
           },
           "zaxis": {
            "backgroundcolor": "#E5ECF6",
            "gridcolor": "white",
            "gridwidth": 2,
            "linecolor": "white",
            "showbackground": true,
            "ticks": "",
            "zerolinecolor": "white"
           }
          },
          "shapedefaults": {
           "line": {
            "color": "#2a3f5f"
           }
          },
          "ternary": {
           "aaxis": {
            "gridcolor": "white",
            "linecolor": "white",
            "ticks": ""
           },
           "baxis": {
            "gridcolor": "white",
            "linecolor": "white",
            "ticks": ""
           },
           "bgcolor": "#E5ECF6",
           "caxis": {
            "gridcolor": "white",
            "linecolor": "white",
            "ticks": ""
           }
          },
          "title": {
           "x": 0.05
          },
          "xaxis": {
           "automargin": true,
           "gridcolor": "white",
           "linecolor": "white",
           "ticks": "",
           "title": {
            "standoff": 15
           },
           "zerolinecolor": "white",
           "zerolinewidth": 2
          },
          "yaxis": {
           "automargin": true,
           "gridcolor": "white",
           "linecolor": "white",
           "ticks": "",
           "title": {
            "standoff": 15
           },
           "zerolinecolor": "white",
           "zerolinewidth": 2
          }
         }
        },
        "xaxis": {
         "anchor": "y",
         "domain": [
          0,
          1
         ],
         "title": {
          "text": "Edition"
         }
        },
        "yaxis": {
         "anchor": "x",
         "domain": [
          0,
          1
         ],
         "title": {
          "text": "No of Countries"
         }
        }
       }
      }
     },
     "metadata": {},
     "output_type": "display_data"
    }
   ],
   "source": [
    "fig = px.line(nations_over_time, x='Edition',y='No of Countries')\n",
    "fig.show()"
   ]
  },
  {
   "cell_type": "code",
   "execution_count": 134,
   "id": "0a40b188",
   "metadata": {},
   "outputs": [],
   "source": [
    "x=df.drop_duplicates(['Year','Sport','Event'])"
   ]
  },
  {
   "cell_type": "code",
   "execution_count": 135,
   "id": "87094dbf",
   "metadata": {},
   "outputs": [],
   "source": [
    "import seaborn as sns\n",
    "import matplotlib.pyplot as plt"
   ]
  },
  {
   "cell_type": "code",
   "execution_count": 136,
   "id": "66b8b49f",
   "metadata": {},
   "outputs": [
    {
     "data": {
      "application/vnd.microsoft.datawrangler.viewer.v0+json": {
       "columns": [
        {
         "name": "Sport",
         "rawType": "object",
         "type": "string"
        },
        {
         "name": "1896",
         "rawType": "int64",
         "type": "integer"
        },
        {
         "name": "1900",
         "rawType": "int64",
         "type": "integer"
        },
        {
         "name": "1904",
         "rawType": "int64",
         "type": "integer"
        },
        {
         "name": "1906",
         "rawType": "int64",
         "type": "integer"
        },
        {
         "name": "1908",
         "rawType": "int64",
         "type": "integer"
        },
        {
         "name": "1912",
         "rawType": "int64",
         "type": "integer"
        },
        {
         "name": "1920",
         "rawType": "int64",
         "type": "integer"
        },
        {
         "name": "1924",
         "rawType": "int64",
         "type": "integer"
        },
        {
         "name": "1928",
         "rawType": "int64",
         "type": "integer"
        },
        {
         "name": "1932",
         "rawType": "int64",
         "type": "integer"
        },
        {
         "name": "1936",
         "rawType": "int64",
         "type": "integer"
        },
        {
         "name": "1948",
         "rawType": "int64",
         "type": "integer"
        },
        {
         "name": "1952",
         "rawType": "int64",
         "type": "integer"
        },
        {
         "name": "1956",
         "rawType": "int64",
         "type": "integer"
        },
        {
         "name": "1960",
         "rawType": "int64",
         "type": "integer"
        },
        {
         "name": "1964",
         "rawType": "int64",
         "type": "integer"
        },
        {
         "name": "1968",
         "rawType": "int64",
         "type": "integer"
        },
        {
         "name": "1972",
         "rawType": "int64",
         "type": "integer"
        },
        {
         "name": "1976",
         "rawType": "int64",
         "type": "integer"
        },
        {
         "name": "1980",
         "rawType": "int64",
         "type": "integer"
        },
        {
         "name": "1984",
         "rawType": "int64",
         "type": "integer"
        },
        {
         "name": "1988",
         "rawType": "int64",
         "type": "integer"
        },
        {
         "name": "1992",
         "rawType": "int64",
         "type": "integer"
        },
        {
         "name": "1996",
         "rawType": "int64",
         "type": "integer"
        },
        {
         "name": "2000",
         "rawType": "int64",
         "type": "integer"
        },
        {
         "name": "2004",
         "rawType": "int64",
         "type": "integer"
        },
        {
         "name": "2008",
         "rawType": "int64",
         "type": "integer"
        },
        {
         "name": "2012",
         "rawType": "int64",
         "type": "integer"
        },
        {
         "name": "2016",
         "rawType": "int64",
         "type": "integer"
        }
       ],
       "ref": "b4f9cf5f-96f3-4b35-80cf-4c0d105fe98a",
       "rows": [
        [
         "Aeronautics",
         "0",
         "0",
         "0",
         "0",
         "0",
         "0",
         "0",
         "0",
         "0",
         "0",
         "1",
         "0",
         "0",
         "0",
         "0",
         "0",
         "0",
         "0",
         "0",
         "0",
         "0",
         "0",
         "0",
         "0",
         "0",
         "0",
         "0",
         "0",
         "0"
        ],
        [
         "Alpinism",
         "0",
         "0",
         "0",
         "0",
         "0",
         "0",
         "0",
         "0",
         "0",
         "1",
         "1",
         "0",
         "0",
         "0",
         "0",
         "0",
         "0",
         "0",
         "0",
         "0",
         "0",
         "0",
         "0",
         "0",
         "0",
         "0",
         "0",
         "0",
         "0"
        ],
        [
         "Archery",
         "0",
         "8",
         "6",
         "0",
         "3",
         "0",
         "10",
         "0",
         "0",
         "0",
         "0",
         "0",
         "0",
         "0",
         "0",
         "0",
         "0",
         "2",
         "2",
         "2",
         "2",
         "4",
         "4",
         "4",
         "4",
         "4",
         "4",
         "4",
         "4"
        ],
        [
         "Art Competitions",
         "0",
         "0",
         "0",
         "0",
         "0",
         "5",
         "5",
         "5",
         "13",
         "13",
         "19",
         "18",
         "0",
         "0",
         "0",
         "0",
         "0",
         "0",
         "0",
         "0",
         "0",
         "0",
         "0",
         "0",
         "0",
         "0",
         "0",
         "0",
         "0"
        ],
        [
         "Athletics",
         "12",
         "23",
         "24",
         "21",
         "26",
         "30",
         "29",
         "27",
         "27",
         "29",
         "29",
         "33",
         "33",
         "33",
         "34",
         "36",
         "36",
         "38",
         "37",
         "38",
         "41",
         "42",
         "43",
         "44",
         "46",
         "46",
         "47",
         "47",
         "47"
        ],
        [
         "Badminton",
         "0",
         "0",
         "0",
         "0",
         "0",
         "0",
         "0",
         "0",
         "0",
         "0",
         "0",
         "0",
         "0",
         "0",
         "0",
         "0",
         "0",
         "0",
         "0",
         "0",
         "0",
         "0",
         "4",
         "5",
         "5",
         "5",
         "5",
         "5",
         "5"
        ],
        [
         "Baseball",
         "0",
         "0",
         "0",
         "0",
         "0",
         "0",
         "0",
         "0",
         "0",
         "0",
         "0",
         "0",
         "0",
         "0",
         "0",
         "0",
         "0",
         "0",
         "0",
         "0",
         "0",
         "0",
         "1",
         "1",
         "1",
         "1",
         "1",
         "0",
         "0"
        ],
        [
         "Basketball",
         "0",
         "0",
         "0",
         "0",
         "0",
         "0",
         "0",
         "0",
         "0",
         "0",
         "1",
         "1",
         "1",
         "1",
         "1",
         "1",
         "1",
         "1",
         "2",
         "2",
         "2",
         "2",
         "2",
         "2",
         "2",
         "2",
         "2",
         "2",
         "2"
        ],
        [
         "Basque Pelota",
         "0",
         "1",
         "0",
         "0",
         "0",
         "0",
         "0",
         "0",
         "0",
         "0",
         "0",
         "0",
         "0",
         "0",
         "0",
         "0",
         "0",
         "0",
         "0",
         "0",
         "0",
         "0",
         "0",
         "0",
         "0",
         "0",
         "0",
         "0",
         "0"
        ],
        [
         "Beach Volleyball",
         "0",
         "0",
         "0",
         "0",
         "0",
         "0",
         "0",
         "0",
         "0",
         "0",
         "0",
         "0",
         "0",
         "0",
         "0",
         "0",
         "0",
         "0",
         "0",
         "0",
         "0",
         "0",
         "0",
         "2",
         "2",
         "2",
         "2",
         "2",
         "2"
        ],
        [
         "Boxing",
         "0",
         "0",
         "7",
         "0",
         "5",
         "0",
         "8",
         "8",
         "8",
         "8",
         "8",
         "8",
         "10",
         "10",
         "10",
         "10",
         "11",
         "11",
         "11",
         "11",
         "12",
         "12",
         "12",
         "12",
         "12",
         "11",
         "11",
         "13",
         "13"
        ],
        [
         "Canoeing",
         "0",
         "0",
         "0",
         "0",
         "0",
         "0",
         "0",
         "0",
         "0",
         "0",
         "9",
         "9",
         "9",
         "9",
         "7",
         "7",
         "7",
         "11",
         "11",
         "11",
         "12",
         "12",
         "16",
         "16",
         "16",
         "16",
         "16",
         "16",
         "16"
        ],
        [
         "Cricket",
         "0",
         "1",
         "0",
         "0",
         "0",
         "0",
         "0",
         "0",
         "0",
         "0",
         "0",
         "0",
         "0",
         "0",
         "0",
         "0",
         "0",
         "0",
         "0",
         "0",
         "0",
         "0",
         "0",
         "0",
         "0",
         "0",
         "0",
         "0",
         "0"
        ],
        [
         "Croquet",
         "0",
         "3",
         "0",
         "0",
         "0",
         "0",
         "0",
         "0",
         "0",
         "0",
         "0",
         "0",
         "0",
         "0",
         "0",
         "0",
         "0",
         "0",
         "0",
         "0",
         "0",
         "0",
         "0",
         "0",
         "0",
         "0",
         "0",
         "0",
         "0"
        ],
        [
         "Cycling",
         "6",
         "3",
         "7",
         "6",
         "6",
         "2",
         "6",
         "6",
         "6",
         "6",
         "6",
         "6",
         "6",
         "6",
         "6",
         "7",
         "7",
         "7",
         "6",
         "6",
         "8",
         "9",
         "10",
         "14",
         "18",
         "18",
         "18",
         "18",
         "18"
        ],
        [
         "Diving",
         "0",
         "0",
         "1",
         "1",
         "2",
         "4",
         "5",
         "5",
         "4",
         "4",
         "4",
         "4",
         "4",
         "4",
         "4",
         "4",
         "4",
         "4",
         "4",
         "4",
         "4",
         "4",
         "4",
         "4",
         "8",
         "8",
         "8",
         "8",
         "8"
        ],
        [
         "Equestrianism",
         "0",
         "5",
         "0",
         "0",
         "0",
         "5",
         "7",
         "5",
         "6",
         "6",
         "6",
         "6",
         "6",
         "6",
         "5",
         "6",
         "6",
         "6",
         "6",
         "6",
         "6",
         "6",
         "6",
         "6",
         "6",
         "6",
         "6",
         "6",
         "6"
        ],
        [
         "Fencing",
         "3",
         "7",
         "5",
         "8",
         "4",
         "5",
         "6",
         "7",
         "7",
         "7",
         "7",
         "7",
         "7",
         "7",
         "8",
         "8",
         "8",
         "8",
         "8",
         "8",
         "8",
         "8",
         "8",
         "10",
         "10",
         "10",
         "10",
         "10",
         "10"
        ],
        [
         "Figure Skating",
         "0",
         "0",
         "0",
         "0",
         "4",
         "0",
         "3",
         "0",
         "0",
         "0",
         "0",
         "0",
         "0",
         "0",
         "0",
         "0",
         "0",
         "0",
         "0",
         "0",
         "0",
         "0",
         "0",
         "0",
         "0",
         "0",
         "0",
         "0",
         "0"
        ],
        [
         "Football",
         "0",
         "1",
         "1",
         "1",
         "1",
         "1",
         "1",
         "1",
         "1",
         "0",
         "1",
         "1",
         "1",
         "1",
         "1",
         "1",
         "1",
         "1",
         "1",
         "1",
         "1",
         "1",
         "1",
         "2",
         "2",
         "2",
         "2",
         "2",
         "2"
        ],
        [
         "Golf",
         "0",
         "2",
         "2",
         "0",
         "0",
         "0",
         "0",
         "0",
         "0",
         "0",
         "0",
         "0",
         "0",
         "0",
         "0",
         "0",
         "0",
         "0",
         "0",
         "0",
         "0",
         "0",
         "0",
         "0",
         "0",
         "0",
         "0",
         "0",
         "2"
        ],
        [
         "Gymnastics",
         "8",
         "1",
         "12",
         "4",
         "2",
         "4",
         "4",
         "9",
         "8",
         "11",
         "9",
         "9",
         "15",
         "15",
         "14",
         "14",
         "14",
         "14",
         "14",
         "14",
         "14",
         "14",
         "14",
         "14",
         "14",
         "14",
         "14",
         "14",
         "14"
        ],
        [
         "Handball",
         "0",
         "0",
         "0",
         "0",
         "0",
         "0",
         "0",
         "0",
         "0",
         "0",
         "1",
         "0",
         "0",
         "0",
         "0",
         "0",
         "0",
         "1",
         "2",
         "2",
         "2",
         "2",
         "2",
         "2",
         "2",
         "2",
         "2",
         "2",
         "2"
        ],
        [
         "Hockey",
         "0",
         "0",
         "0",
         "0",
         "1",
         "0",
         "1",
         "0",
         "1",
         "1",
         "1",
         "1",
         "1",
         "1",
         "1",
         "1",
         "1",
         "1",
         "1",
         "2",
         "2",
         "2",
         "2",
         "2",
         "2",
         "2",
         "2",
         "2",
         "2"
        ],
        [
         "Ice Hockey",
         "0",
         "0",
         "0",
         "0",
         "0",
         "0",
         "1",
         "0",
         "0",
         "0",
         "0",
         "0",
         "0",
         "0",
         "0",
         "0",
         "0",
         "0",
         "0",
         "0",
         "0",
         "0",
         "0",
         "0",
         "0",
         "0",
         "0",
         "0",
         "0"
        ],
        [
         "Jeu De Paume",
         "0",
         "0",
         "0",
         "0",
         "1",
         "0",
         "0",
         "0",
         "0",
         "0",
         "0",
         "0",
         "0",
         "0",
         "0",
         "0",
         "0",
         "0",
         "0",
         "0",
         "0",
         "0",
         "0",
         "0",
         "0",
         "0",
         "0",
         "0",
         "0"
        ],
        [
         "Judo",
         "0",
         "0",
         "0",
         "0",
         "0",
         "0",
         "0",
         "0",
         "0",
         "0",
         "0",
         "0",
         "0",
         "0",
         "0",
         "4",
         "0",
         "6",
         "6",
         "8",
         "8",
         "7",
         "14",
         "14",
         "14",
         "14",
         "14",
         "14",
         "14"
        ],
        [
         "Lacrosse",
         "0",
         "0",
         "1",
         "0",
         "1",
         "0",
         "0",
         "0",
         "0",
         "0",
         "0",
         "0",
         "0",
         "0",
         "0",
         "0",
         "0",
         "0",
         "0",
         "0",
         "0",
         "0",
         "0",
         "0",
         "0",
         "0",
         "0",
         "0",
         "0"
        ],
        [
         "Modern Pentathlon",
         "0",
         "0",
         "0",
         "0",
         "0",
         "1",
         "1",
         "1",
         "1",
         "1",
         "1",
         "1",
         "2",
         "2",
         "2",
         "2",
         "2",
         "2",
         "2",
         "2",
         "2",
         "2",
         "2",
         "1",
         "2",
         "2",
         "2",
         "2",
         "2"
        ],
        [
         "Motorboating",
         "0",
         "0",
         "0",
         "0",
         "3",
         "0",
         "0",
         "0",
         "0",
         "0",
         "0",
         "0",
         "0",
         "0",
         "0",
         "0",
         "0",
         "0",
         "0",
         "0",
         "0",
         "0",
         "0",
         "0",
         "0",
         "0",
         "0",
         "0",
         "0"
        ],
        [
         "Polo",
         "0",
         "1",
         "0",
         "0",
         "1",
         "0",
         "1",
         "1",
         "0",
         "0",
         "1",
         "0",
         "0",
         "0",
         "0",
         "0",
         "0",
         "0",
         "0",
         "0",
         "0",
         "0",
         "0",
         "0",
         "0",
         "0",
         "0",
         "0",
         "0"
        ],
        [
         "Racquets",
         "0",
         "0",
         "0",
         "0",
         "2",
         "0",
         "0",
         "0",
         "0",
         "0",
         "0",
         "0",
         "0",
         "0",
         "0",
         "0",
         "0",
         "0",
         "0",
         "0",
         "0",
         "0",
         "0",
         "0",
         "0",
         "0",
         "0",
         "0",
         "0"
        ],
        [
         "Rhythmic Gymnastics",
         "0",
         "0",
         "0",
         "0",
         "0",
         "0",
         "0",
         "0",
         "0",
         "0",
         "0",
         "0",
         "0",
         "0",
         "0",
         "0",
         "0",
         "0",
         "0",
         "0",
         "1",
         "1",
         "1",
         "2",
         "2",
         "2",
         "2",
         "2",
         "2"
        ],
        [
         "Roque",
         "0",
         "0",
         "1",
         "0",
         "0",
         "0",
         "0",
         "0",
         "0",
         "0",
         "0",
         "0",
         "0",
         "0",
         "0",
         "0",
         "0",
         "0",
         "0",
         "0",
         "0",
         "0",
         "0",
         "0",
         "0",
         "0",
         "0",
         "0",
         "0"
        ],
        [
         "Rowing",
         "0",
         "4",
         "5",
         "6",
         "4",
         "4",
         "5",
         "7",
         "7",
         "7",
         "7",
         "7",
         "7",
         "7",
         "7",
         "7",
         "7",
         "7",
         "14",
         "14",
         "14",
         "14",
         "14",
         "14",
         "14",
         "14",
         "14",
         "14",
         "14"
        ],
        [
         "Rugby",
         "0",
         "1",
         "0",
         "0",
         "1",
         "0",
         "1",
         "1",
         "0",
         "0",
         "0",
         "0",
         "0",
         "0",
         "0",
         "0",
         "0",
         "0",
         "0",
         "0",
         "0",
         "0",
         "0",
         "0",
         "0",
         "0",
         "0",
         "0",
         "0"
        ],
        [
         "Rugby Sevens",
         "0",
         "0",
         "0",
         "0",
         "0",
         "0",
         "0",
         "0",
         "0",
         "0",
         "0",
         "0",
         "0",
         "0",
         "0",
         "0",
         "0",
         "0",
         "0",
         "0",
         "0",
         "0",
         "0",
         "0",
         "0",
         "0",
         "0",
         "0",
         "2"
        ],
        [
         "Sailing",
         "0",
         "8",
         "0",
         "0",
         "4",
         "4",
         "10",
         "3",
         "3",
         "4",
         "4",
         "4",
         "5",
         "5",
         "5",
         "5",
         "5",
         "4",
         "6",
         "6",
         "7",
         "8",
         "10",
         "10",
         "11",
         "11",
         "11",
         "10",
         "10"
        ],
        [
         "Shooting",
         "5",
         "8",
         "0",
         "12",
         "15",
         "18",
         "22",
         "10",
         "0",
         "2",
         "3",
         "4",
         "7",
         "7",
         "6",
         "6",
         "7",
         "8",
         "7",
         "7",
         "11",
         "13",
         "13",
         "15",
         "17",
         "17",
         "15",
         "15",
         "15"
        ],
        [
         "Softball",
         "0",
         "0",
         "0",
         "0",
         "0",
         "0",
         "0",
         "0",
         "0",
         "0",
         "0",
         "0",
         "0",
         "0",
         "0",
         "0",
         "0",
         "0",
         "0",
         "0",
         "0",
         "0",
         "0",
         "1",
         "1",
         "1",
         "1",
         "0",
         "0"
        ],
        [
         "Swimming",
         "4",
         "7",
         "10",
         "4",
         "6",
         "9",
         "10",
         "11",
         "11",
         "11",
         "11",
         "11",
         "11",
         "13",
         "15",
         "18",
         "29",
         "29",
         "26",
         "26",
         "29",
         "31",
         "31",
         "32",
         "32",
         "32",
         "34",
         "34",
         "34"
        ],
        [
         "Synchronized Swimming",
         "0",
         "0",
         "0",
         "0",
         "0",
         "0",
         "0",
         "0",
         "0",
         "0",
         "0",
         "0",
         "0",
         "0",
         "0",
         "0",
         "0",
         "0",
         "0",
         "0",
         "2",
         "2",
         "2",
         "1",
         "2",
         "2",
         "2",
         "2",
         "2"
        ],
        [
         "Table Tennis",
         "0",
         "0",
         "0",
         "0",
         "0",
         "0",
         "0",
         "0",
         "0",
         "0",
         "0",
         "0",
         "0",
         "0",
         "0",
         "0",
         "0",
         "0",
         "0",
         "0",
         "0",
         "4",
         "4",
         "4",
         "4",
         "4",
         "4",
         "4",
         "4"
        ],
        [
         "Taekwondo",
         "0",
         "0",
         "0",
         "0",
         "0",
         "0",
         "0",
         "0",
         "0",
         "0",
         "0",
         "0",
         "0",
         "0",
         "0",
         "0",
         "0",
         "0",
         "0",
         "0",
         "0",
         "0",
         "0",
         "0",
         "8",
         "8",
         "8",
         "8",
         "8"
        ],
        [
         "Tennis",
         "2",
         "4",
         "2",
         "4",
         "6",
         "8",
         "5",
         "5",
         "0",
         "0",
         "0",
         "0",
         "0",
         "0",
         "0",
         "0",
         "0",
         "0",
         "0",
         "0",
         "0",
         "4",
         "4",
         "4",
         "4",
         "4",
         "4",
         "5",
         "5"
        ],
        [
         "Trampolining",
         "0",
         "0",
         "0",
         "0",
         "0",
         "0",
         "0",
         "0",
         "0",
         "0",
         "0",
         "0",
         "0",
         "0",
         "0",
         "0",
         "0",
         "0",
         "0",
         "0",
         "0",
         "0",
         "0",
         "0",
         "2",
         "2",
         "2",
         "2",
         "2"
        ],
        [
         "Triathlon",
         "0",
         "0",
         "0",
         "0",
         "0",
         "0",
         "0",
         "0",
         "0",
         "0",
         "0",
         "0",
         "0",
         "0",
         "0",
         "0",
         "0",
         "0",
         "0",
         "0",
         "0",
         "0",
         "0",
         "0",
         "2",
         "2",
         "2",
         "2",
         "2"
        ],
        [
         "Tug-Of-War",
         "0",
         "1",
         "1",
         "1",
         "1",
         "1",
         "1",
         "0",
         "0",
         "0",
         "0",
         "0",
         "0",
         "0",
         "0",
         "0",
         "0",
         "0",
         "0",
         "0",
         "0",
         "0",
         "0",
         "0",
         "0",
         "0",
         "0",
         "0",
         "0"
        ],
        [
         "Volleyball",
         "0",
         "0",
         "0",
         "0",
         "0",
         "0",
         "0",
         "0",
         "0",
         "0",
         "0",
         "0",
         "0",
         "0",
         "0",
         "2",
         "2",
         "2",
         "2",
         "2",
         "2",
         "2",
         "2",
         "2",
         "2",
         "2",
         "2",
         "2",
         "2"
        ],
        [
         "Water Polo",
         "0",
         "1",
         "1",
         "0",
         "1",
         "1",
         "1",
         "1",
         "1",
         "1",
         "1",
         "1",
         "1",
         "1",
         "1",
         "1",
         "1",
         "1",
         "1",
         "1",
         "1",
         "1",
         "1",
         "1",
         "2",
         "2",
         "2",
         "2",
         "2"
        ]
       ],
       "shape": {
        "columns": 29,
        "rows": 52
       }
      },
      "text/html": [
       "<div>\n",
       "<style scoped>\n",
       "    .dataframe tbody tr th:only-of-type {\n",
       "        vertical-align: middle;\n",
       "    }\n",
       "\n",
       "    .dataframe tbody tr th {\n",
       "        vertical-align: top;\n",
       "    }\n",
       "\n",
       "    .dataframe thead th {\n",
       "        text-align: right;\n",
       "    }\n",
       "</style>\n",
       "<table border=\"1\" class=\"dataframe\">\n",
       "  <thead>\n",
       "    <tr style=\"text-align: right;\">\n",
       "      <th>Year</th>\n",
       "      <th>1896</th>\n",
       "      <th>1900</th>\n",
       "      <th>1904</th>\n",
       "      <th>1906</th>\n",
       "      <th>1908</th>\n",
       "      <th>1912</th>\n",
       "      <th>1920</th>\n",
       "      <th>1924</th>\n",
       "      <th>1928</th>\n",
       "      <th>1932</th>\n",
       "      <th>...</th>\n",
       "      <th>1980</th>\n",
       "      <th>1984</th>\n",
       "      <th>1988</th>\n",
       "      <th>1992</th>\n",
       "      <th>1996</th>\n",
       "      <th>2000</th>\n",
       "      <th>2004</th>\n",
       "      <th>2008</th>\n",
       "      <th>2012</th>\n",
       "      <th>2016</th>\n",
       "    </tr>\n",
       "    <tr>\n",
       "      <th>Sport</th>\n",
       "      <th></th>\n",
       "      <th></th>\n",
       "      <th></th>\n",
       "      <th></th>\n",
       "      <th></th>\n",
       "      <th></th>\n",
       "      <th></th>\n",
       "      <th></th>\n",
       "      <th></th>\n",
       "      <th></th>\n",
       "      <th></th>\n",
       "      <th></th>\n",
       "      <th></th>\n",
       "      <th></th>\n",
       "      <th></th>\n",
       "      <th></th>\n",
       "      <th></th>\n",
       "      <th></th>\n",
       "      <th></th>\n",
       "      <th></th>\n",
       "      <th></th>\n",
       "    </tr>\n",
       "  </thead>\n",
       "  <tbody>\n",
       "    <tr>\n",
       "      <th>Aeronautics</th>\n",
       "      <td>0</td>\n",
       "      <td>0</td>\n",
       "      <td>0</td>\n",
       "      <td>0</td>\n",
       "      <td>0</td>\n",
       "      <td>0</td>\n",
       "      <td>0</td>\n",
       "      <td>0</td>\n",
       "      <td>0</td>\n",
       "      <td>0</td>\n",
       "      <td>...</td>\n",
       "      <td>0</td>\n",
       "      <td>0</td>\n",
       "      <td>0</td>\n",
       "      <td>0</td>\n",
       "      <td>0</td>\n",
       "      <td>0</td>\n",
       "      <td>0</td>\n",
       "      <td>0</td>\n",
       "      <td>0</td>\n",
       "      <td>0</td>\n",
       "    </tr>\n",
       "    <tr>\n",
       "      <th>Alpinism</th>\n",
       "      <td>0</td>\n",
       "      <td>0</td>\n",
       "      <td>0</td>\n",
       "      <td>0</td>\n",
       "      <td>0</td>\n",
       "      <td>0</td>\n",
       "      <td>0</td>\n",
       "      <td>0</td>\n",
       "      <td>0</td>\n",
       "      <td>1</td>\n",
       "      <td>...</td>\n",
       "      <td>0</td>\n",
       "      <td>0</td>\n",
       "      <td>0</td>\n",
       "      <td>0</td>\n",
       "      <td>0</td>\n",
       "      <td>0</td>\n",
       "      <td>0</td>\n",
       "      <td>0</td>\n",
       "      <td>0</td>\n",
       "      <td>0</td>\n",
       "    </tr>\n",
       "    <tr>\n",
       "      <th>Archery</th>\n",
       "      <td>0</td>\n",
       "      <td>8</td>\n",
       "      <td>6</td>\n",
       "      <td>0</td>\n",
       "      <td>3</td>\n",
       "      <td>0</td>\n",
       "      <td>10</td>\n",
       "      <td>0</td>\n",
       "      <td>0</td>\n",
       "      <td>0</td>\n",
       "      <td>...</td>\n",
       "      <td>2</td>\n",
       "      <td>2</td>\n",
       "      <td>4</td>\n",
       "      <td>4</td>\n",
       "      <td>4</td>\n",
       "      <td>4</td>\n",
       "      <td>4</td>\n",
       "      <td>4</td>\n",
       "      <td>4</td>\n",
       "      <td>4</td>\n",
       "    </tr>\n",
       "    <tr>\n",
       "      <th>Art Competitions</th>\n",
       "      <td>0</td>\n",
       "      <td>0</td>\n",
       "      <td>0</td>\n",
       "      <td>0</td>\n",
       "      <td>0</td>\n",
       "      <td>5</td>\n",
       "      <td>5</td>\n",
       "      <td>5</td>\n",
       "      <td>13</td>\n",
       "      <td>13</td>\n",
       "      <td>...</td>\n",
       "      <td>0</td>\n",
       "      <td>0</td>\n",
       "      <td>0</td>\n",
       "      <td>0</td>\n",
       "      <td>0</td>\n",
       "      <td>0</td>\n",
       "      <td>0</td>\n",
       "      <td>0</td>\n",
       "      <td>0</td>\n",
       "      <td>0</td>\n",
       "    </tr>\n",
       "    <tr>\n",
       "      <th>Athletics</th>\n",
       "      <td>12</td>\n",
       "      <td>23</td>\n",
       "      <td>24</td>\n",
       "      <td>21</td>\n",
       "      <td>26</td>\n",
       "      <td>30</td>\n",
       "      <td>29</td>\n",
       "      <td>27</td>\n",
       "      <td>27</td>\n",
       "      <td>29</td>\n",
       "      <td>...</td>\n",
       "      <td>38</td>\n",
       "      <td>41</td>\n",
       "      <td>42</td>\n",
       "      <td>43</td>\n",
       "      <td>44</td>\n",
       "      <td>46</td>\n",
       "      <td>46</td>\n",
       "      <td>47</td>\n",
       "      <td>47</td>\n",
       "      <td>47</td>\n",
       "    </tr>\n",
       "    <tr>\n",
       "      <th>Badminton</th>\n",
       "      <td>0</td>\n",
       "      <td>0</td>\n",
       "      <td>0</td>\n",
       "      <td>0</td>\n",
       "      <td>0</td>\n",
       "      <td>0</td>\n",
       "      <td>0</td>\n",
       "      <td>0</td>\n",
       "      <td>0</td>\n",
       "      <td>0</td>\n",
       "      <td>...</td>\n",
       "      <td>0</td>\n",
       "      <td>0</td>\n",
       "      <td>0</td>\n",
       "      <td>4</td>\n",
       "      <td>5</td>\n",
       "      <td>5</td>\n",
       "      <td>5</td>\n",
       "      <td>5</td>\n",
       "      <td>5</td>\n",
       "      <td>5</td>\n",
       "    </tr>\n",
       "    <tr>\n",
       "      <th>Baseball</th>\n",
       "      <td>0</td>\n",
       "      <td>0</td>\n",
       "      <td>0</td>\n",
       "      <td>0</td>\n",
       "      <td>0</td>\n",
       "      <td>0</td>\n",
       "      <td>0</td>\n",
       "      <td>0</td>\n",
       "      <td>0</td>\n",
       "      <td>0</td>\n",
       "      <td>...</td>\n",
       "      <td>0</td>\n",
       "      <td>0</td>\n",
       "      <td>0</td>\n",
       "      <td>1</td>\n",
       "      <td>1</td>\n",
       "      <td>1</td>\n",
       "      <td>1</td>\n",
       "      <td>1</td>\n",
       "      <td>0</td>\n",
       "      <td>0</td>\n",
       "    </tr>\n",
       "    <tr>\n",
       "      <th>Basketball</th>\n",
       "      <td>0</td>\n",
       "      <td>0</td>\n",
       "      <td>0</td>\n",
       "      <td>0</td>\n",
       "      <td>0</td>\n",
       "      <td>0</td>\n",
       "      <td>0</td>\n",
       "      <td>0</td>\n",
       "      <td>0</td>\n",
       "      <td>0</td>\n",
       "      <td>...</td>\n",
       "      <td>2</td>\n",
       "      <td>2</td>\n",
       "      <td>2</td>\n",
       "      <td>2</td>\n",
       "      <td>2</td>\n",
       "      <td>2</td>\n",
       "      <td>2</td>\n",
       "      <td>2</td>\n",
       "      <td>2</td>\n",
       "      <td>2</td>\n",
       "    </tr>\n",
       "    <tr>\n",
       "      <th>Basque Pelota</th>\n",
       "      <td>0</td>\n",
       "      <td>1</td>\n",
       "      <td>0</td>\n",
       "      <td>0</td>\n",
       "      <td>0</td>\n",
       "      <td>0</td>\n",
       "      <td>0</td>\n",
       "      <td>0</td>\n",
       "      <td>0</td>\n",
       "      <td>0</td>\n",
       "      <td>...</td>\n",
       "      <td>0</td>\n",
       "      <td>0</td>\n",
       "      <td>0</td>\n",
       "      <td>0</td>\n",
       "      <td>0</td>\n",
       "      <td>0</td>\n",
       "      <td>0</td>\n",
       "      <td>0</td>\n",
       "      <td>0</td>\n",
       "      <td>0</td>\n",
       "    </tr>\n",
       "    <tr>\n",
       "      <th>Beach Volleyball</th>\n",
       "      <td>0</td>\n",
       "      <td>0</td>\n",
       "      <td>0</td>\n",
       "      <td>0</td>\n",
       "      <td>0</td>\n",
       "      <td>0</td>\n",
       "      <td>0</td>\n",
       "      <td>0</td>\n",
       "      <td>0</td>\n",
       "      <td>0</td>\n",
       "      <td>...</td>\n",
       "      <td>0</td>\n",
       "      <td>0</td>\n",
       "      <td>0</td>\n",
       "      <td>0</td>\n",
       "      <td>2</td>\n",
       "      <td>2</td>\n",
       "      <td>2</td>\n",
       "      <td>2</td>\n",
       "      <td>2</td>\n",
       "      <td>2</td>\n",
       "    </tr>\n",
       "    <tr>\n",
       "      <th>Boxing</th>\n",
       "      <td>0</td>\n",
       "      <td>0</td>\n",
       "      <td>7</td>\n",
       "      <td>0</td>\n",
       "      <td>5</td>\n",
       "      <td>0</td>\n",
       "      <td>8</td>\n",
       "      <td>8</td>\n",
       "      <td>8</td>\n",
       "      <td>8</td>\n",
       "      <td>...</td>\n",
       "      <td>11</td>\n",
       "      <td>12</td>\n",
       "      <td>12</td>\n",
       "      <td>12</td>\n",
       "      <td>12</td>\n",
       "      <td>12</td>\n",
       "      <td>11</td>\n",
       "      <td>11</td>\n",
       "      <td>13</td>\n",
       "      <td>13</td>\n",
       "    </tr>\n",
       "    <tr>\n",
       "      <th>Canoeing</th>\n",
       "      <td>0</td>\n",
       "      <td>0</td>\n",
       "      <td>0</td>\n",
       "      <td>0</td>\n",
       "      <td>0</td>\n",
       "      <td>0</td>\n",
       "      <td>0</td>\n",
       "      <td>0</td>\n",
       "      <td>0</td>\n",
       "      <td>0</td>\n",
       "      <td>...</td>\n",
       "      <td>11</td>\n",
       "      <td>12</td>\n",
       "      <td>12</td>\n",
       "      <td>16</td>\n",
       "      <td>16</td>\n",
       "      <td>16</td>\n",
       "      <td>16</td>\n",
       "      <td>16</td>\n",
       "      <td>16</td>\n",
       "      <td>16</td>\n",
       "    </tr>\n",
       "    <tr>\n",
       "      <th>Cricket</th>\n",
       "      <td>0</td>\n",
       "      <td>1</td>\n",
       "      <td>0</td>\n",
       "      <td>0</td>\n",
       "      <td>0</td>\n",
       "      <td>0</td>\n",
       "      <td>0</td>\n",
       "      <td>0</td>\n",
       "      <td>0</td>\n",
       "      <td>0</td>\n",
       "      <td>...</td>\n",
       "      <td>0</td>\n",
       "      <td>0</td>\n",
       "      <td>0</td>\n",
       "      <td>0</td>\n",
       "      <td>0</td>\n",
       "      <td>0</td>\n",
       "      <td>0</td>\n",
       "      <td>0</td>\n",
       "      <td>0</td>\n",
       "      <td>0</td>\n",
       "    </tr>\n",
       "    <tr>\n",
       "      <th>Croquet</th>\n",
       "      <td>0</td>\n",
       "      <td>3</td>\n",
       "      <td>0</td>\n",
       "      <td>0</td>\n",
       "      <td>0</td>\n",
       "      <td>0</td>\n",
       "      <td>0</td>\n",
       "      <td>0</td>\n",
       "      <td>0</td>\n",
       "      <td>0</td>\n",
       "      <td>...</td>\n",
       "      <td>0</td>\n",
       "      <td>0</td>\n",
       "      <td>0</td>\n",
       "      <td>0</td>\n",
       "      <td>0</td>\n",
       "      <td>0</td>\n",
       "      <td>0</td>\n",
       "      <td>0</td>\n",
       "      <td>0</td>\n",
       "      <td>0</td>\n",
       "    </tr>\n",
       "    <tr>\n",
       "      <th>Cycling</th>\n",
       "      <td>6</td>\n",
       "      <td>3</td>\n",
       "      <td>7</td>\n",
       "      <td>6</td>\n",
       "      <td>6</td>\n",
       "      <td>2</td>\n",
       "      <td>6</td>\n",
       "      <td>6</td>\n",
       "      <td>6</td>\n",
       "      <td>6</td>\n",
       "      <td>...</td>\n",
       "      <td>6</td>\n",
       "      <td>8</td>\n",
       "      <td>9</td>\n",
       "      <td>10</td>\n",
       "      <td>14</td>\n",
       "      <td>18</td>\n",
       "      <td>18</td>\n",
       "      <td>18</td>\n",
       "      <td>18</td>\n",
       "      <td>18</td>\n",
       "    </tr>\n",
       "    <tr>\n",
       "      <th>Diving</th>\n",
       "      <td>0</td>\n",
       "      <td>0</td>\n",
       "      <td>1</td>\n",
       "      <td>1</td>\n",
       "      <td>2</td>\n",
       "      <td>4</td>\n",
       "      <td>5</td>\n",
       "      <td>5</td>\n",
       "      <td>4</td>\n",
       "      <td>4</td>\n",
       "      <td>...</td>\n",
       "      <td>4</td>\n",
       "      <td>4</td>\n",
       "      <td>4</td>\n",
       "      <td>4</td>\n",
       "      <td>4</td>\n",
       "      <td>8</td>\n",
       "      <td>8</td>\n",
       "      <td>8</td>\n",
       "      <td>8</td>\n",
       "      <td>8</td>\n",
       "    </tr>\n",
       "    <tr>\n",
       "      <th>Equestrianism</th>\n",
       "      <td>0</td>\n",
       "      <td>5</td>\n",
       "      <td>0</td>\n",
       "      <td>0</td>\n",
       "      <td>0</td>\n",
       "      <td>5</td>\n",
       "      <td>7</td>\n",
       "      <td>5</td>\n",
       "      <td>6</td>\n",
       "      <td>6</td>\n",
       "      <td>...</td>\n",
       "      <td>6</td>\n",
       "      <td>6</td>\n",
       "      <td>6</td>\n",
       "      <td>6</td>\n",
       "      <td>6</td>\n",
       "      <td>6</td>\n",
       "      <td>6</td>\n",
       "      <td>6</td>\n",
       "      <td>6</td>\n",
       "      <td>6</td>\n",
       "    </tr>\n",
       "    <tr>\n",
       "      <th>Fencing</th>\n",
       "      <td>3</td>\n",
       "      <td>7</td>\n",
       "      <td>5</td>\n",
       "      <td>8</td>\n",
       "      <td>4</td>\n",
       "      <td>5</td>\n",
       "      <td>6</td>\n",
       "      <td>7</td>\n",
       "      <td>7</td>\n",
       "      <td>7</td>\n",
       "      <td>...</td>\n",
       "      <td>8</td>\n",
       "      <td>8</td>\n",
       "      <td>8</td>\n",
       "      <td>8</td>\n",
       "      <td>10</td>\n",
       "      <td>10</td>\n",
       "      <td>10</td>\n",
       "      <td>10</td>\n",
       "      <td>10</td>\n",
       "      <td>10</td>\n",
       "    </tr>\n",
       "    <tr>\n",
       "      <th>Figure Skating</th>\n",
       "      <td>0</td>\n",
       "      <td>0</td>\n",
       "      <td>0</td>\n",
       "      <td>0</td>\n",
       "      <td>4</td>\n",
       "      <td>0</td>\n",
       "      <td>3</td>\n",
       "      <td>0</td>\n",
       "      <td>0</td>\n",
       "      <td>0</td>\n",
       "      <td>...</td>\n",
       "      <td>0</td>\n",
       "      <td>0</td>\n",
       "      <td>0</td>\n",
       "      <td>0</td>\n",
       "      <td>0</td>\n",
       "      <td>0</td>\n",
       "      <td>0</td>\n",
       "      <td>0</td>\n",
       "      <td>0</td>\n",
       "      <td>0</td>\n",
       "    </tr>\n",
       "    <tr>\n",
       "      <th>Football</th>\n",
       "      <td>0</td>\n",
       "      <td>1</td>\n",
       "      <td>1</td>\n",
       "      <td>1</td>\n",
       "      <td>1</td>\n",
       "      <td>1</td>\n",
       "      <td>1</td>\n",
       "      <td>1</td>\n",
       "      <td>1</td>\n",
       "      <td>0</td>\n",
       "      <td>...</td>\n",
       "      <td>1</td>\n",
       "      <td>1</td>\n",
       "      <td>1</td>\n",
       "      <td>1</td>\n",
       "      <td>2</td>\n",
       "      <td>2</td>\n",
       "      <td>2</td>\n",
       "      <td>2</td>\n",
       "      <td>2</td>\n",
       "      <td>2</td>\n",
       "    </tr>\n",
       "    <tr>\n",
       "      <th>Golf</th>\n",
       "      <td>0</td>\n",
       "      <td>2</td>\n",
       "      <td>2</td>\n",
       "      <td>0</td>\n",
       "      <td>0</td>\n",
       "      <td>0</td>\n",
       "      <td>0</td>\n",
       "      <td>0</td>\n",
       "      <td>0</td>\n",
       "      <td>0</td>\n",
       "      <td>...</td>\n",
       "      <td>0</td>\n",
       "      <td>0</td>\n",
       "      <td>0</td>\n",
       "      <td>0</td>\n",
       "      <td>0</td>\n",
       "      <td>0</td>\n",
       "      <td>0</td>\n",
       "      <td>0</td>\n",
       "      <td>0</td>\n",
       "      <td>2</td>\n",
       "    </tr>\n",
       "    <tr>\n",
       "      <th>Gymnastics</th>\n",
       "      <td>8</td>\n",
       "      <td>1</td>\n",
       "      <td>12</td>\n",
       "      <td>4</td>\n",
       "      <td>2</td>\n",
       "      <td>4</td>\n",
       "      <td>4</td>\n",
       "      <td>9</td>\n",
       "      <td>8</td>\n",
       "      <td>11</td>\n",
       "      <td>...</td>\n",
       "      <td>14</td>\n",
       "      <td>14</td>\n",
       "      <td>14</td>\n",
       "      <td>14</td>\n",
       "      <td>14</td>\n",
       "      <td>14</td>\n",
       "      <td>14</td>\n",
       "      <td>14</td>\n",
       "      <td>14</td>\n",
       "      <td>14</td>\n",
       "    </tr>\n",
       "    <tr>\n",
       "      <th>Handball</th>\n",
       "      <td>0</td>\n",
       "      <td>0</td>\n",
       "      <td>0</td>\n",
       "      <td>0</td>\n",
       "      <td>0</td>\n",
       "      <td>0</td>\n",
       "      <td>0</td>\n",
       "      <td>0</td>\n",
       "      <td>0</td>\n",
       "      <td>0</td>\n",
       "      <td>...</td>\n",
       "      <td>2</td>\n",
       "      <td>2</td>\n",
       "      <td>2</td>\n",
       "      <td>2</td>\n",
       "      <td>2</td>\n",
       "      <td>2</td>\n",
       "      <td>2</td>\n",
       "      <td>2</td>\n",
       "      <td>2</td>\n",
       "      <td>2</td>\n",
       "    </tr>\n",
       "    <tr>\n",
       "      <th>Hockey</th>\n",
       "      <td>0</td>\n",
       "      <td>0</td>\n",
       "      <td>0</td>\n",
       "      <td>0</td>\n",
       "      <td>1</td>\n",
       "      <td>0</td>\n",
       "      <td>1</td>\n",
       "      <td>0</td>\n",
       "      <td>1</td>\n",
       "      <td>1</td>\n",
       "      <td>...</td>\n",
       "      <td>2</td>\n",
       "      <td>2</td>\n",
       "      <td>2</td>\n",
       "      <td>2</td>\n",
       "      <td>2</td>\n",
       "      <td>2</td>\n",
       "      <td>2</td>\n",
       "      <td>2</td>\n",
       "      <td>2</td>\n",
       "      <td>2</td>\n",
       "    </tr>\n",
       "    <tr>\n",
       "      <th>Ice Hockey</th>\n",
       "      <td>0</td>\n",
       "      <td>0</td>\n",
       "      <td>0</td>\n",
       "      <td>0</td>\n",
       "      <td>0</td>\n",
       "      <td>0</td>\n",
       "      <td>1</td>\n",
       "      <td>0</td>\n",
       "      <td>0</td>\n",
       "      <td>0</td>\n",
       "      <td>...</td>\n",
       "      <td>0</td>\n",
       "      <td>0</td>\n",
       "      <td>0</td>\n",
       "      <td>0</td>\n",
       "      <td>0</td>\n",
       "      <td>0</td>\n",
       "      <td>0</td>\n",
       "      <td>0</td>\n",
       "      <td>0</td>\n",
       "      <td>0</td>\n",
       "    </tr>\n",
       "    <tr>\n",
       "      <th>Jeu De Paume</th>\n",
       "      <td>0</td>\n",
       "      <td>0</td>\n",
       "      <td>0</td>\n",
       "      <td>0</td>\n",
       "      <td>1</td>\n",
       "      <td>0</td>\n",
       "      <td>0</td>\n",
       "      <td>0</td>\n",
       "      <td>0</td>\n",
       "      <td>0</td>\n",
       "      <td>...</td>\n",
       "      <td>0</td>\n",
       "      <td>0</td>\n",
       "      <td>0</td>\n",
       "      <td>0</td>\n",
       "      <td>0</td>\n",
       "      <td>0</td>\n",
       "      <td>0</td>\n",
       "      <td>0</td>\n",
       "      <td>0</td>\n",
       "      <td>0</td>\n",
       "    </tr>\n",
       "    <tr>\n",
       "      <th>Judo</th>\n",
       "      <td>0</td>\n",
       "      <td>0</td>\n",
       "      <td>0</td>\n",
       "      <td>0</td>\n",
       "      <td>0</td>\n",
       "      <td>0</td>\n",
       "      <td>0</td>\n",
       "      <td>0</td>\n",
       "      <td>0</td>\n",
       "      <td>0</td>\n",
       "      <td>...</td>\n",
       "      <td>8</td>\n",
       "      <td>8</td>\n",
       "      <td>7</td>\n",
       "      <td>14</td>\n",
       "      <td>14</td>\n",
       "      <td>14</td>\n",
       "      <td>14</td>\n",
       "      <td>14</td>\n",
       "      <td>14</td>\n",
       "      <td>14</td>\n",
       "    </tr>\n",
       "    <tr>\n",
       "      <th>Lacrosse</th>\n",
       "      <td>0</td>\n",
       "      <td>0</td>\n",
       "      <td>1</td>\n",
       "      <td>0</td>\n",
       "      <td>1</td>\n",
       "      <td>0</td>\n",
       "      <td>0</td>\n",
       "      <td>0</td>\n",
       "      <td>0</td>\n",
       "      <td>0</td>\n",
       "      <td>...</td>\n",
       "      <td>0</td>\n",
       "      <td>0</td>\n",
       "      <td>0</td>\n",
       "      <td>0</td>\n",
       "      <td>0</td>\n",
       "      <td>0</td>\n",
       "      <td>0</td>\n",
       "      <td>0</td>\n",
       "      <td>0</td>\n",
       "      <td>0</td>\n",
       "    </tr>\n",
       "    <tr>\n",
       "      <th>Modern Pentathlon</th>\n",
       "      <td>0</td>\n",
       "      <td>0</td>\n",
       "      <td>0</td>\n",
       "      <td>0</td>\n",
       "      <td>0</td>\n",
       "      <td>1</td>\n",
       "      <td>1</td>\n",
       "      <td>1</td>\n",
       "      <td>1</td>\n",
       "      <td>1</td>\n",
       "      <td>...</td>\n",
       "      <td>2</td>\n",
       "      <td>2</td>\n",
       "      <td>2</td>\n",
       "      <td>2</td>\n",
       "      <td>1</td>\n",
       "      <td>2</td>\n",
       "      <td>2</td>\n",
       "      <td>2</td>\n",
       "      <td>2</td>\n",
       "      <td>2</td>\n",
       "    </tr>\n",
       "    <tr>\n",
       "      <th>Motorboating</th>\n",
       "      <td>0</td>\n",
       "      <td>0</td>\n",
       "      <td>0</td>\n",
       "      <td>0</td>\n",
       "      <td>3</td>\n",
       "      <td>0</td>\n",
       "      <td>0</td>\n",
       "      <td>0</td>\n",
       "      <td>0</td>\n",
       "      <td>0</td>\n",
       "      <td>...</td>\n",
       "      <td>0</td>\n",
       "      <td>0</td>\n",
       "      <td>0</td>\n",
       "      <td>0</td>\n",
       "      <td>0</td>\n",
       "      <td>0</td>\n",
       "      <td>0</td>\n",
       "      <td>0</td>\n",
       "      <td>0</td>\n",
       "      <td>0</td>\n",
       "    </tr>\n",
       "    <tr>\n",
       "      <th>Polo</th>\n",
       "      <td>0</td>\n",
       "      <td>1</td>\n",
       "      <td>0</td>\n",
       "      <td>0</td>\n",
       "      <td>1</td>\n",
       "      <td>0</td>\n",
       "      <td>1</td>\n",
       "      <td>1</td>\n",
       "      <td>0</td>\n",
       "      <td>0</td>\n",
       "      <td>...</td>\n",
       "      <td>0</td>\n",
       "      <td>0</td>\n",
       "      <td>0</td>\n",
       "      <td>0</td>\n",
       "      <td>0</td>\n",
       "      <td>0</td>\n",
       "      <td>0</td>\n",
       "      <td>0</td>\n",
       "      <td>0</td>\n",
       "      <td>0</td>\n",
       "    </tr>\n",
       "    <tr>\n",
       "      <th>Racquets</th>\n",
       "      <td>0</td>\n",
       "      <td>0</td>\n",
       "      <td>0</td>\n",
       "      <td>0</td>\n",
       "      <td>2</td>\n",
       "      <td>0</td>\n",
       "      <td>0</td>\n",
       "      <td>0</td>\n",
       "      <td>0</td>\n",
       "      <td>0</td>\n",
       "      <td>...</td>\n",
       "      <td>0</td>\n",
       "      <td>0</td>\n",
       "      <td>0</td>\n",
       "      <td>0</td>\n",
       "      <td>0</td>\n",
       "      <td>0</td>\n",
       "      <td>0</td>\n",
       "      <td>0</td>\n",
       "      <td>0</td>\n",
       "      <td>0</td>\n",
       "    </tr>\n",
       "    <tr>\n",
       "      <th>Rhythmic Gymnastics</th>\n",
       "      <td>0</td>\n",
       "      <td>0</td>\n",
       "      <td>0</td>\n",
       "      <td>0</td>\n",
       "      <td>0</td>\n",
       "      <td>0</td>\n",
       "      <td>0</td>\n",
       "      <td>0</td>\n",
       "      <td>0</td>\n",
       "      <td>0</td>\n",
       "      <td>...</td>\n",
       "      <td>0</td>\n",
       "      <td>1</td>\n",
       "      <td>1</td>\n",
       "      <td>1</td>\n",
       "      <td>2</td>\n",
       "      <td>2</td>\n",
       "      <td>2</td>\n",
       "      <td>2</td>\n",
       "      <td>2</td>\n",
       "      <td>2</td>\n",
       "    </tr>\n",
       "    <tr>\n",
       "      <th>Roque</th>\n",
       "      <td>0</td>\n",
       "      <td>0</td>\n",
       "      <td>1</td>\n",
       "      <td>0</td>\n",
       "      <td>0</td>\n",
       "      <td>0</td>\n",
       "      <td>0</td>\n",
       "      <td>0</td>\n",
       "      <td>0</td>\n",
       "      <td>0</td>\n",
       "      <td>...</td>\n",
       "      <td>0</td>\n",
       "      <td>0</td>\n",
       "      <td>0</td>\n",
       "      <td>0</td>\n",
       "      <td>0</td>\n",
       "      <td>0</td>\n",
       "      <td>0</td>\n",
       "      <td>0</td>\n",
       "      <td>0</td>\n",
       "      <td>0</td>\n",
       "    </tr>\n",
       "    <tr>\n",
       "      <th>Rowing</th>\n",
       "      <td>0</td>\n",
       "      <td>4</td>\n",
       "      <td>5</td>\n",
       "      <td>6</td>\n",
       "      <td>4</td>\n",
       "      <td>4</td>\n",
       "      <td>5</td>\n",
       "      <td>7</td>\n",
       "      <td>7</td>\n",
       "      <td>7</td>\n",
       "      <td>...</td>\n",
       "      <td>14</td>\n",
       "      <td>14</td>\n",
       "      <td>14</td>\n",
       "      <td>14</td>\n",
       "      <td>14</td>\n",
       "      <td>14</td>\n",
       "      <td>14</td>\n",
       "      <td>14</td>\n",
       "      <td>14</td>\n",
       "      <td>14</td>\n",
       "    </tr>\n",
       "    <tr>\n",
       "      <th>Rugby</th>\n",
       "      <td>0</td>\n",
       "      <td>1</td>\n",
       "      <td>0</td>\n",
       "      <td>0</td>\n",
       "      <td>1</td>\n",
       "      <td>0</td>\n",
       "      <td>1</td>\n",
       "      <td>1</td>\n",
       "      <td>0</td>\n",
       "      <td>0</td>\n",
       "      <td>...</td>\n",
       "      <td>0</td>\n",
       "      <td>0</td>\n",
       "      <td>0</td>\n",
       "      <td>0</td>\n",
       "      <td>0</td>\n",
       "      <td>0</td>\n",
       "      <td>0</td>\n",
       "      <td>0</td>\n",
       "      <td>0</td>\n",
       "      <td>0</td>\n",
       "    </tr>\n",
       "    <tr>\n",
       "      <th>Rugby Sevens</th>\n",
       "      <td>0</td>\n",
       "      <td>0</td>\n",
       "      <td>0</td>\n",
       "      <td>0</td>\n",
       "      <td>0</td>\n",
       "      <td>0</td>\n",
       "      <td>0</td>\n",
       "      <td>0</td>\n",
       "      <td>0</td>\n",
       "      <td>0</td>\n",
       "      <td>...</td>\n",
       "      <td>0</td>\n",
       "      <td>0</td>\n",
       "      <td>0</td>\n",
       "      <td>0</td>\n",
       "      <td>0</td>\n",
       "      <td>0</td>\n",
       "      <td>0</td>\n",
       "      <td>0</td>\n",
       "      <td>0</td>\n",
       "      <td>2</td>\n",
       "    </tr>\n",
       "    <tr>\n",
       "      <th>Sailing</th>\n",
       "      <td>0</td>\n",
       "      <td>8</td>\n",
       "      <td>0</td>\n",
       "      <td>0</td>\n",
       "      <td>4</td>\n",
       "      <td>4</td>\n",
       "      <td>10</td>\n",
       "      <td>3</td>\n",
       "      <td>3</td>\n",
       "      <td>4</td>\n",
       "      <td>...</td>\n",
       "      <td>6</td>\n",
       "      <td>7</td>\n",
       "      <td>8</td>\n",
       "      <td>10</td>\n",
       "      <td>10</td>\n",
       "      <td>11</td>\n",
       "      <td>11</td>\n",
       "      <td>11</td>\n",
       "      <td>10</td>\n",
       "      <td>10</td>\n",
       "    </tr>\n",
       "    <tr>\n",
       "      <th>Shooting</th>\n",
       "      <td>5</td>\n",
       "      <td>8</td>\n",
       "      <td>0</td>\n",
       "      <td>12</td>\n",
       "      <td>15</td>\n",
       "      <td>18</td>\n",
       "      <td>22</td>\n",
       "      <td>10</td>\n",
       "      <td>0</td>\n",
       "      <td>2</td>\n",
       "      <td>...</td>\n",
       "      <td>7</td>\n",
       "      <td>11</td>\n",
       "      <td>13</td>\n",
       "      <td>13</td>\n",
       "      <td>15</td>\n",
       "      <td>17</td>\n",
       "      <td>17</td>\n",
       "      <td>15</td>\n",
       "      <td>15</td>\n",
       "      <td>15</td>\n",
       "    </tr>\n",
       "    <tr>\n",
       "      <th>Softball</th>\n",
       "      <td>0</td>\n",
       "      <td>0</td>\n",
       "      <td>0</td>\n",
       "      <td>0</td>\n",
       "      <td>0</td>\n",
       "      <td>0</td>\n",
       "      <td>0</td>\n",
       "      <td>0</td>\n",
       "      <td>0</td>\n",
       "      <td>0</td>\n",
       "      <td>...</td>\n",
       "      <td>0</td>\n",
       "      <td>0</td>\n",
       "      <td>0</td>\n",
       "      <td>0</td>\n",
       "      <td>1</td>\n",
       "      <td>1</td>\n",
       "      <td>1</td>\n",
       "      <td>1</td>\n",
       "      <td>0</td>\n",
       "      <td>0</td>\n",
       "    </tr>\n",
       "    <tr>\n",
       "      <th>Swimming</th>\n",
       "      <td>4</td>\n",
       "      <td>7</td>\n",
       "      <td>10</td>\n",
       "      <td>4</td>\n",
       "      <td>6</td>\n",
       "      <td>9</td>\n",
       "      <td>10</td>\n",
       "      <td>11</td>\n",
       "      <td>11</td>\n",
       "      <td>11</td>\n",
       "      <td>...</td>\n",
       "      <td>26</td>\n",
       "      <td>29</td>\n",
       "      <td>31</td>\n",
       "      <td>31</td>\n",
       "      <td>32</td>\n",
       "      <td>32</td>\n",
       "      <td>32</td>\n",
       "      <td>34</td>\n",
       "      <td>34</td>\n",
       "      <td>34</td>\n",
       "    </tr>\n",
       "    <tr>\n",
       "      <th>Synchronized Swimming</th>\n",
       "      <td>0</td>\n",
       "      <td>0</td>\n",
       "      <td>0</td>\n",
       "      <td>0</td>\n",
       "      <td>0</td>\n",
       "      <td>0</td>\n",
       "      <td>0</td>\n",
       "      <td>0</td>\n",
       "      <td>0</td>\n",
       "      <td>0</td>\n",
       "      <td>...</td>\n",
       "      <td>0</td>\n",
       "      <td>2</td>\n",
       "      <td>2</td>\n",
       "      <td>2</td>\n",
       "      <td>1</td>\n",
       "      <td>2</td>\n",
       "      <td>2</td>\n",
       "      <td>2</td>\n",
       "      <td>2</td>\n",
       "      <td>2</td>\n",
       "    </tr>\n",
       "    <tr>\n",
       "      <th>Table Tennis</th>\n",
       "      <td>0</td>\n",
       "      <td>0</td>\n",
       "      <td>0</td>\n",
       "      <td>0</td>\n",
       "      <td>0</td>\n",
       "      <td>0</td>\n",
       "      <td>0</td>\n",
       "      <td>0</td>\n",
       "      <td>0</td>\n",
       "      <td>0</td>\n",
       "      <td>...</td>\n",
       "      <td>0</td>\n",
       "      <td>0</td>\n",
       "      <td>4</td>\n",
       "      <td>4</td>\n",
       "      <td>4</td>\n",
       "      <td>4</td>\n",
       "      <td>4</td>\n",
       "      <td>4</td>\n",
       "      <td>4</td>\n",
       "      <td>4</td>\n",
       "    </tr>\n",
       "    <tr>\n",
       "      <th>Taekwondo</th>\n",
       "      <td>0</td>\n",
       "      <td>0</td>\n",
       "      <td>0</td>\n",
       "      <td>0</td>\n",
       "      <td>0</td>\n",
       "      <td>0</td>\n",
       "      <td>0</td>\n",
       "      <td>0</td>\n",
       "      <td>0</td>\n",
       "      <td>0</td>\n",
       "      <td>...</td>\n",
       "      <td>0</td>\n",
       "      <td>0</td>\n",
       "      <td>0</td>\n",
       "      <td>0</td>\n",
       "      <td>0</td>\n",
       "      <td>8</td>\n",
       "      <td>8</td>\n",
       "      <td>8</td>\n",
       "      <td>8</td>\n",
       "      <td>8</td>\n",
       "    </tr>\n",
       "    <tr>\n",
       "      <th>Tennis</th>\n",
       "      <td>2</td>\n",
       "      <td>4</td>\n",
       "      <td>2</td>\n",
       "      <td>4</td>\n",
       "      <td>6</td>\n",
       "      <td>8</td>\n",
       "      <td>5</td>\n",
       "      <td>5</td>\n",
       "      <td>0</td>\n",
       "      <td>0</td>\n",
       "      <td>...</td>\n",
       "      <td>0</td>\n",
       "      <td>0</td>\n",
       "      <td>4</td>\n",
       "      <td>4</td>\n",
       "      <td>4</td>\n",
       "      <td>4</td>\n",
       "      <td>4</td>\n",
       "      <td>4</td>\n",
       "      <td>5</td>\n",
       "      <td>5</td>\n",
       "    </tr>\n",
       "    <tr>\n",
       "      <th>Trampolining</th>\n",
       "      <td>0</td>\n",
       "      <td>0</td>\n",
       "      <td>0</td>\n",
       "      <td>0</td>\n",
       "      <td>0</td>\n",
       "      <td>0</td>\n",
       "      <td>0</td>\n",
       "      <td>0</td>\n",
       "      <td>0</td>\n",
       "      <td>0</td>\n",
       "      <td>...</td>\n",
       "      <td>0</td>\n",
       "      <td>0</td>\n",
       "      <td>0</td>\n",
       "      <td>0</td>\n",
       "      <td>0</td>\n",
       "      <td>2</td>\n",
       "      <td>2</td>\n",
       "      <td>2</td>\n",
       "      <td>2</td>\n",
       "      <td>2</td>\n",
       "    </tr>\n",
       "    <tr>\n",
       "      <th>Triathlon</th>\n",
       "      <td>0</td>\n",
       "      <td>0</td>\n",
       "      <td>0</td>\n",
       "      <td>0</td>\n",
       "      <td>0</td>\n",
       "      <td>0</td>\n",
       "      <td>0</td>\n",
       "      <td>0</td>\n",
       "      <td>0</td>\n",
       "      <td>0</td>\n",
       "      <td>...</td>\n",
       "      <td>0</td>\n",
       "      <td>0</td>\n",
       "      <td>0</td>\n",
       "      <td>0</td>\n",
       "      <td>0</td>\n",
       "      <td>2</td>\n",
       "      <td>2</td>\n",
       "      <td>2</td>\n",
       "      <td>2</td>\n",
       "      <td>2</td>\n",
       "    </tr>\n",
       "    <tr>\n",
       "      <th>Tug-Of-War</th>\n",
       "      <td>0</td>\n",
       "      <td>1</td>\n",
       "      <td>1</td>\n",
       "      <td>1</td>\n",
       "      <td>1</td>\n",
       "      <td>1</td>\n",
       "      <td>1</td>\n",
       "      <td>0</td>\n",
       "      <td>0</td>\n",
       "      <td>0</td>\n",
       "      <td>...</td>\n",
       "      <td>0</td>\n",
       "      <td>0</td>\n",
       "      <td>0</td>\n",
       "      <td>0</td>\n",
       "      <td>0</td>\n",
       "      <td>0</td>\n",
       "      <td>0</td>\n",
       "      <td>0</td>\n",
       "      <td>0</td>\n",
       "      <td>0</td>\n",
       "    </tr>\n",
       "    <tr>\n",
       "      <th>Volleyball</th>\n",
       "      <td>0</td>\n",
       "      <td>0</td>\n",
       "      <td>0</td>\n",
       "      <td>0</td>\n",
       "      <td>0</td>\n",
       "      <td>0</td>\n",
       "      <td>0</td>\n",
       "      <td>0</td>\n",
       "      <td>0</td>\n",
       "      <td>0</td>\n",
       "      <td>...</td>\n",
       "      <td>2</td>\n",
       "      <td>2</td>\n",
       "      <td>2</td>\n",
       "      <td>2</td>\n",
       "      <td>2</td>\n",
       "      <td>2</td>\n",
       "      <td>2</td>\n",
       "      <td>2</td>\n",
       "      <td>2</td>\n",
       "      <td>2</td>\n",
       "    </tr>\n",
       "    <tr>\n",
       "      <th>Water Polo</th>\n",
       "      <td>0</td>\n",
       "      <td>1</td>\n",
       "      <td>1</td>\n",
       "      <td>0</td>\n",
       "      <td>1</td>\n",
       "      <td>1</td>\n",
       "      <td>1</td>\n",
       "      <td>1</td>\n",
       "      <td>1</td>\n",
       "      <td>1</td>\n",
       "      <td>...</td>\n",
       "      <td>1</td>\n",
       "      <td>1</td>\n",
       "      <td>1</td>\n",
       "      <td>1</td>\n",
       "      <td>1</td>\n",
       "      <td>2</td>\n",
       "      <td>2</td>\n",
       "      <td>2</td>\n",
       "      <td>2</td>\n",
       "      <td>2</td>\n",
       "    </tr>\n",
       "    <tr>\n",
       "      <th>Weightlifting</th>\n",
       "      <td>2</td>\n",
       "      <td>0</td>\n",
       "      <td>2</td>\n",
       "      <td>2</td>\n",
       "      <td>0</td>\n",
       "      <td>0</td>\n",
       "      <td>5</td>\n",
       "      <td>5</td>\n",
       "      <td>5</td>\n",
       "      <td>5</td>\n",
       "      <td>...</td>\n",
       "      <td>10</td>\n",
       "      <td>10</td>\n",
       "      <td>10</td>\n",
       "      <td>10</td>\n",
       "      <td>10</td>\n",
       "      <td>15</td>\n",
       "      <td>15</td>\n",
       "      <td>15</td>\n",
       "      <td>15</td>\n",
       "      <td>15</td>\n",
       "    </tr>\n",
       "    <tr>\n",
       "      <th>Wrestling</th>\n",
       "      <td>1</td>\n",
       "      <td>0</td>\n",
       "      <td>7</td>\n",
       "      <td>4</td>\n",
       "      <td>9</td>\n",
       "      <td>5</td>\n",
       "      <td>10</td>\n",
       "      <td>13</td>\n",
       "      <td>13</td>\n",
       "      <td>14</td>\n",
       "      <td>...</td>\n",
       "      <td>20</td>\n",
       "      <td>20</td>\n",
       "      <td>20</td>\n",
       "      <td>20</td>\n",
       "      <td>20</td>\n",
       "      <td>16</td>\n",
       "      <td>18</td>\n",
       "      <td>18</td>\n",
       "      <td>18</td>\n",
       "      <td>18</td>\n",
       "    </tr>\n",
       "  </tbody>\n",
       "</table>\n",
       "<p>52 rows × 29 columns</p>\n",
       "</div>"
      ],
      "text/plain": [
       "Year                   1896  1900  1904  1906  1908  1912  1920  1924  1928  \\\n",
       "Sport                                                                         \n",
       "Aeronautics               0     0     0     0     0     0     0     0     0   \n",
       "Alpinism                  0     0     0     0     0     0     0     0     0   \n",
       "Archery                   0     8     6     0     3     0    10     0     0   \n",
       "Art Competitions          0     0     0     0     0     5     5     5    13   \n",
       "Athletics                12    23    24    21    26    30    29    27    27   \n",
       "Badminton                 0     0     0     0     0     0     0     0     0   \n",
       "Baseball                  0     0     0     0     0     0     0     0     0   \n",
       "Basketball                0     0     0     0     0     0     0     0     0   \n",
       "Basque Pelota             0     1     0     0     0     0     0     0     0   \n",
       "Beach Volleyball          0     0     0     0     0     0     0     0     0   \n",
       "Boxing                    0     0     7     0     5     0     8     8     8   \n",
       "Canoeing                  0     0     0     0     0     0     0     0     0   \n",
       "Cricket                   0     1     0     0     0     0     0     0     0   \n",
       "Croquet                   0     3     0     0     0     0     0     0     0   \n",
       "Cycling                   6     3     7     6     6     2     6     6     6   \n",
       "Diving                    0     0     1     1     2     4     5     5     4   \n",
       "Equestrianism             0     5     0     0     0     5     7     5     6   \n",
       "Fencing                   3     7     5     8     4     5     6     7     7   \n",
       "Figure Skating            0     0     0     0     4     0     3     0     0   \n",
       "Football                  0     1     1     1     1     1     1     1     1   \n",
       "Golf                      0     2     2     0     0     0     0     0     0   \n",
       "Gymnastics                8     1    12     4     2     4     4     9     8   \n",
       "Handball                  0     0     0     0     0     0     0     0     0   \n",
       "Hockey                    0     0     0     0     1     0     1     0     1   \n",
       "Ice Hockey                0     0     0     0     0     0     1     0     0   \n",
       "Jeu De Paume              0     0     0     0     1     0     0     0     0   \n",
       "Judo                      0     0     0     0     0     0     0     0     0   \n",
       "Lacrosse                  0     0     1     0     1     0     0     0     0   \n",
       "Modern Pentathlon         0     0     0     0     0     1     1     1     1   \n",
       "Motorboating              0     0     0     0     3     0     0     0     0   \n",
       "Polo                      0     1     0     0     1     0     1     1     0   \n",
       "Racquets                  0     0     0     0     2     0     0     0     0   \n",
       "Rhythmic Gymnastics       0     0     0     0     0     0     0     0     0   \n",
       "Roque                     0     0     1     0     0     0     0     0     0   \n",
       "Rowing                    0     4     5     6     4     4     5     7     7   \n",
       "Rugby                     0     1     0     0     1     0     1     1     0   \n",
       "Rugby Sevens              0     0     0     0     0     0     0     0     0   \n",
       "Sailing                   0     8     0     0     4     4    10     3     3   \n",
       "Shooting                  5     8     0    12    15    18    22    10     0   \n",
       "Softball                  0     0     0     0     0     0     0     0     0   \n",
       "Swimming                  4     7    10     4     6     9    10    11    11   \n",
       "Synchronized Swimming     0     0     0     0     0     0     0     0     0   \n",
       "Table Tennis              0     0     0     0     0     0     0     0     0   \n",
       "Taekwondo                 0     0     0     0     0     0     0     0     0   \n",
       "Tennis                    2     4     2     4     6     8     5     5     0   \n",
       "Trampolining              0     0     0     0     0     0     0     0     0   \n",
       "Triathlon                 0     0     0     0     0     0     0     0     0   \n",
       "Tug-Of-War                0     1     1     1     1     1     1     0     0   \n",
       "Volleyball                0     0     0     0     0     0     0     0     0   \n",
       "Water Polo                0     1     1     0     1     1     1     1     1   \n",
       "Weightlifting             2     0     2     2     0     0     5     5     5   \n",
       "Wrestling                 1     0     7     4     9     5    10    13    13   \n",
       "\n",
       "Year                   1932  ...  1980  1984  1988  1992  1996  2000  2004  \\\n",
       "Sport                        ...                                             \n",
       "Aeronautics               0  ...     0     0     0     0     0     0     0   \n",
       "Alpinism                  1  ...     0     0     0     0     0     0     0   \n",
       "Archery                   0  ...     2     2     4     4     4     4     4   \n",
       "Art Competitions         13  ...     0     0     0     0     0     0     0   \n",
       "Athletics                29  ...    38    41    42    43    44    46    46   \n",
       "Badminton                 0  ...     0     0     0     4     5     5     5   \n",
       "Baseball                  0  ...     0     0     0     1     1     1     1   \n",
       "Basketball                0  ...     2     2     2     2     2     2     2   \n",
       "Basque Pelota             0  ...     0     0     0     0     0     0     0   \n",
       "Beach Volleyball          0  ...     0     0     0     0     2     2     2   \n",
       "Boxing                    8  ...    11    12    12    12    12    12    11   \n",
       "Canoeing                  0  ...    11    12    12    16    16    16    16   \n",
       "Cricket                   0  ...     0     0     0     0     0     0     0   \n",
       "Croquet                   0  ...     0     0     0     0     0     0     0   \n",
       "Cycling                   6  ...     6     8     9    10    14    18    18   \n",
       "Diving                    4  ...     4     4     4     4     4     8     8   \n",
       "Equestrianism             6  ...     6     6     6     6     6     6     6   \n",
       "Fencing                   7  ...     8     8     8     8    10    10    10   \n",
       "Figure Skating            0  ...     0     0     0     0     0     0     0   \n",
       "Football                  0  ...     1     1     1     1     2     2     2   \n",
       "Golf                      0  ...     0     0     0     0     0     0     0   \n",
       "Gymnastics               11  ...    14    14    14    14    14    14    14   \n",
       "Handball                  0  ...     2     2     2     2     2     2     2   \n",
       "Hockey                    1  ...     2     2     2     2     2     2     2   \n",
       "Ice Hockey                0  ...     0     0     0     0     0     0     0   \n",
       "Jeu De Paume              0  ...     0     0     0     0     0     0     0   \n",
       "Judo                      0  ...     8     8     7    14    14    14    14   \n",
       "Lacrosse                  0  ...     0     0     0     0     0     0     0   \n",
       "Modern Pentathlon         1  ...     2     2     2     2     1     2     2   \n",
       "Motorboating              0  ...     0     0     0     0     0     0     0   \n",
       "Polo                      0  ...     0     0     0     0     0     0     0   \n",
       "Racquets                  0  ...     0     0     0     0     0     0     0   \n",
       "Rhythmic Gymnastics       0  ...     0     1     1     1     2     2     2   \n",
       "Roque                     0  ...     0     0     0     0     0     0     0   \n",
       "Rowing                    7  ...    14    14    14    14    14    14    14   \n",
       "Rugby                     0  ...     0     0     0     0     0     0     0   \n",
       "Rugby Sevens              0  ...     0     0     0     0     0     0     0   \n",
       "Sailing                   4  ...     6     7     8    10    10    11    11   \n",
       "Shooting                  2  ...     7    11    13    13    15    17    17   \n",
       "Softball                  0  ...     0     0     0     0     1     1     1   \n",
       "Swimming                 11  ...    26    29    31    31    32    32    32   \n",
       "Synchronized Swimming     0  ...     0     2     2     2     1     2     2   \n",
       "Table Tennis              0  ...     0     0     4     4     4     4     4   \n",
       "Taekwondo                 0  ...     0     0     0     0     0     8     8   \n",
       "Tennis                    0  ...     0     0     4     4     4     4     4   \n",
       "Trampolining              0  ...     0     0     0     0     0     2     2   \n",
       "Triathlon                 0  ...     0     0     0     0     0     2     2   \n",
       "Tug-Of-War                0  ...     0     0     0     0     0     0     0   \n",
       "Volleyball                0  ...     2     2     2     2     2     2     2   \n",
       "Water Polo                1  ...     1     1     1     1     1     2     2   \n",
       "Weightlifting             5  ...    10    10    10    10    10    15    15   \n",
       "Wrestling                14  ...    20    20    20    20    20    16    18   \n",
       "\n",
       "Year                   2008  2012  2016  \n",
       "Sport                                    \n",
       "Aeronautics               0     0     0  \n",
       "Alpinism                  0     0     0  \n",
       "Archery                   4     4     4  \n",
       "Art Competitions          0     0     0  \n",
       "Athletics                47    47    47  \n",
       "Badminton                 5     5     5  \n",
       "Baseball                  1     0     0  \n",
       "Basketball                2     2     2  \n",
       "Basque Pelota             0     0     0  \n",
       "Beach Volleyball          2     2     2  \n",
       "Boxing                   11    13    13  \n",
       "Canoeing                 16    16    16  \n",
       "Cricket                   0     0     0  \n",
       "Croquet                   0     0     0  \n",
       "Cycling                  18    18    18  \n",
       "Diving                    8     8     8  \n",
       "Equestrianism             6     6     6  \n",
       "Fencing                  10    10    10  \n",
       "Figure Skating            0     0     0  \n",
       "Football                  2     2     2  \n",
       "Golf                      0     0     2  \n",
       "Gymnastics               14    14    14  \n",
       "Handball                  2     2     2  \n",
       "Hockey                    2     2     2  \n",
       "Ice Hockey                0     0     0  \n",
       "Jeu De Paume              0     0     0  \n",
       "Judo                     14    14    14  \n",
       "Lacrosse                  0     0     0  \n",
       "Modern Pentathlon         2     2     2  \n",
       "Motorboating              0     0     0  \n",
       "Polo                      0     0     0  \n",
       "Racquets                  0     0     0  \n",
       "Rhythmic Gymnastics       2     2     2  \n",
       "Roque                     0     0     0  \n",
       "Rowing                   14    14    14  \n",
       "Rugby                     0     0     0  \n",
       "Rugby Sevens              0     0     2  \n",
       "Sailing                  11    10    10  \n",
       "Shooting                 15    15    15  \n",
       "Softball                  1     0     0  \n",
       "Swimming                 34    34    34  \n",
       "Synchronized Swimming     2     2     2  \n",
       "Table Tennis              4     4     4  \n",
       "Taekwondo                 8     8     8  \n",
       "Tennis                    4     5     5  \n",
       "Trampolining              2     2     2  \n",
       "Triathlon                 2     2     2  \n",
       "Tug-Of-War                0     0     0  \n",
       "Volleyball                2     2     2  \n",
       "Water Polo                2     2     2  \n",
       "Weightlifting            15    15    15  \n",
       "Wrestling                18    18    18  \n",
       "\n",
       "[52 rows x 29 columns]"
      ]
     },
     "execution_count": 136,
     "metadata": {},
     "output_type": "execute_result"
    }
   ],
   "source": [
    "x.pivot_table(index='Sport',columns='Year',values='Event',aggfunc='count').fillna(0).astype('int')"
   ]
  },
  {
   "cell_type": "code",
   "execution_count": 137,
   "id": "0508d385",
   "metadata": {},
   "outputs": [
    {
     "data": {
      "text/plain": [
       "<Axes: xlabel='Year', ylabel='Sport'>"
      ]
     },
     "execution_count": 137,
     "metadata": {},
     "output_type": "execute_result"
    },
    {
     "data": {
      "image/png": "[encoded data removed]",
      "text/plain": [
       "<Figure size 2000x2000 with 2 Axes>"
      ]
     },
     "metadata": {},
     "output_type": "display_data"
    }
   ],
   "source": [
    "plt.figure(figsize=(20,20))\n",
    "sns.heatmap(x.pivot_table(index='Sport',columns='Year',values='Event',aggfunc='count').fillna(0).astype('int'),annot=True)"
   ]
  },
  {
   "cell_type": "code",
   "execution_count": 138,
   "id": "f8f86b0c",
   "metadata": {},
   "outputs": [],
   "source": [
    "def most_successful(df,sport):\n",
    "    temp_df=df.dropna(subset=['Medal'])\n",
    "    \n",
    "    if sport!='Overall':\n",
    "        temp_df=temp_df[temp_df['Sport']==sport]\n",
    "    \n",
    "    x= temp_df['Name'].value_counts().reset_index().head(15).merge(df,left_on='Name',right_on='Name',how='left')[['Name','count','Sport','region']].drop_duplicates('Name')                                             \n",
    "    x.rename(columns={'count':'Medals'},inplace=True)\n",
    "    return x"
   ]
  },
  {
   "cell_type": "code",
   "execution_count": 139,
   "id": "455ce7a0",
   "metadata": {},
   "outputs": [
    {
     "data": {
      "application/vnd.microsoft.datawrangler.viewer.v0+json": {
       "columns": [
        {
         "name": "index",
         "rawType": "int64",
         "type": "integer"
        },
        {
         "name": "Name",
         "rawType": "object",
         "type": "string"
        },
        {
         "name": "Medals",
         "rawType": "int64",
         "type": "integer"
        },
        {
         "name": "Sport",
         "rawType": "object",
         "type": "string"
        },
        {
         "name": "region",
         "rawType": "object",
         "type": "string"
        }
       ],
       "ref": "f031040c-2efe-4e6f-be9f-046b8ccb7c50",
       "rows": [
        [
         "0",
         "Michael Fred Phelps, II",
         "28",
         "Swimming",
         "USA"
        ],
        [
         "30",
         "Larysa Semenivna Latynina (Diriy-)",
         "18",
         "Gymnastics",
         "Russia"
        ],
        [
         "49",
         "Nikolay Yefimovich Andrianov",
         "15",
         "Gymnastics",
         "Russia"
        ],
        [
         "73",
         "Borys Anfiyanovych Shakhlin",
         "13",
         "Gymnastics",
         "Russia"
        ],
        [
         "97",
         "Takashi Ono",
         "13",
         "Gymnastics",
         "Japan"
        ],
        [
         "130",
         "Edoardo Mangiarotti",
         "13",
         "Fencing",
         "Italy"
        ],
        [
         "144",
         "Dara Grace Torres (-Hoffman, -Minas)",
         "12",
         "Swimming",
         "USA"
        ],
        [
         "157",
         "Birgit Fischer-Schmidt",
         "12",
         "Canoeing",
         "Germany"
        ],
        [
         "170",
         "Jennifer Elisabeth \"Jenny\" Thompson (-Cumpelik)",
         "12",
         "Swimming",
         "USA"
        ],
        [
         "187",
         "Ryan Steven Lochte",
         "12",
         "Swimming",
         "USA"
        ],
        [
         "201",
         "Paavo Johannes Nurmi",
         "12",
         "Athletics",
         "Finland"
        ],
        [
         "213",
         "Aleksey Yuryevich Nemov",
         "12",
         "Gymnastics",
         "Russia"
        ],
        [
         "234",
         "Sawao Kato",
         "12",
         "Gymnastics",
         "Japan"
        ],
        [
         "258",
         "Natalie Anne Coughlin (-Hall)",
         "12",
         "Swimming",
         "USA"
        ],
        [
         "270",
         "Vra slavsk (-Odloilov)",
         "11",
         "Gymnastics",
         "Czech Republic"
        ]
       ],
       "shape": {
        "columns": 4,
        "rows": 15
       }
      },
      "text/html": [
       "<div>\n",
       "<style scoped>\n",
       "    .dataframe tbody tr th:only-of-type {\n",
       "        vertical-align: middle;\n",
       "    }\n",
       "\n",
       "    .dataframe tbody tr th {\n",
       "        vertical-align: top;\n",
       "    }\n",
       "\n",
       "    .dataframe thead th {\n",
       "        text-align: right;\n",
       "    }\n",
       "</style>\n",
       "<table border=\"1\" class=\"dataframe\">\n",
       "  <thead>\n",
       "    <tr style=\"text-align: right;\">\n",
       "      <th></th>\n",
       "      <th>Name</th>\n",
       "      <th>Medals</th>\n",
       "      <th>Sport</th>\n",
       "      <th>region</th>\n",
       "    </tr>\n",
       "  </thead>\n",
       "  <tbody>\n",
       "    <tr>\n",
       "      <th>0</th>\n",
       "      <td>Michael Fred Phelps, II</td>\n",
       "      <td>28</td>\n",
       "      <td>Swimming</td>\n",
       "      <td>USA</td>\n",
       "    </tr>\n",
       "    <tr>\n",
       "      <th>30</th>\n",
       "      <td>Larysa Semenivna Latynina (Diriy-)</td>\n",
       "      <td>18</td>\n",
       "      <td>Gymnastics</td>\n",
       "      <td>Russia</td>\n",
       "    </tr>\n",
       "    <tr>\n",
       "      <th>49</th>\n",
       "      <td>Nikolay Yefimovich Andrianov</td>\n",
       "      <td>15</td>\n",
       "      <td>Gymnastics</td>\n",
       "      <td>Russia</td>\n",
       "    </tr>\n",
       "    <tr>\n",
       "      <th>73</th>\n",
       "      <td>Borys Anfiyanovych Shakhlin</td>\n",
       "      <td>13</td>\n",
       "      <td>Gymnastics</td>\n",
       "      <td>Russia</td>\n",
       "    </tr>\n",
       "    <tr>\n",
       "      <th>97</th>\n",
       "      <td>Takashi Ono</td>\n",
       "      <td>13</td>\n",
       "      <td>Gymnastics</td>\n",
       "      <td>Japan</td>\n",
       "    </tr>\n",
       "    <tr>\n",
       "      <th>130</th>\n",
       "      <td>Edoardo Mangiarotti</td>\n",
       "      <td>13</td>\n",
       "      <td>Fencing</td>\n",
       "      <td>Italy</td>\n",
       "    </tr>\n",
       "    <tr>\n",
       "      <th>144</th>\n",
       "      <td>Dara Grace Torres (-Hoffman, -Minas)</td>\n",
       "      <td>12</td>\n",
       "      <td>Swimming</td>\n",
       "      <td>USA</td>\n",
       "    </tr>\n",
       "    <tr>\n",
       "      <th>157</th>\n",
       "      <td>Birgit Fischer-Schmidt</td>\n",
       "      <td>12</td>\n",
       "      <td>Canoeing</td>\n",
       "      <td>Germany</td>\n",
       "    </tr>\n",
       "    <tr>\n",
       "      <th>170</th>\n",
       "      <td>Jennifer Elisabeth \"Jenny\" Thompson (-Cumpelik)</td>\n",
       "      <td>12</td>\n",
       "      <td>Swimming</td>\n",
       "      <td>USA</td>\n",
       "    </tr>\n",
       "    <tr>\n",
       "      <th>187</th>\n",
       "      <td>Ryan Steven Lochte</td>\n",
       "      <td>12</td>\n",
       "      <td>Swimming</td>\n",
       "      <td>USA</td>\n",
       "    </tr>\n",
       "    <tr>\n",
       "      <th>201</th>\n",
       "      <td>Paavo Johannes Nurmi</td>\n",
       "      <td>12</td>\n",
       "      <td>Athletics</td>\n",
       "      <td>Finland</td>\n",
       "    </tr>\n",
       "    <tr>\n",
       "      <th>213</th>\n",
       "      <td>Aleksey Yuryevich Nemov</td>\n",
       "      <td>12</td>\n",
       "      <td>Gymnastics</td>\n",
       "      <td>Russia</td>\n",
       "    </tr>\n",
       "    <tr>\n",
       "      <th>234</th>\n",
       "      <td>Sawao Kato</td>\n",
       "      <td>12</td>\n",
       "      <td>Gymnastics</td>\n",
       "      <td>Japan</td>\n",
       "    </tr>\n",
       "    <tr>\n",
       "      <th>258</th>\n",
       "      <td>Natalie Anne Coughlin (-Hall)</td>\n",
       "      <td>12</td>\n",
       "      <td>Swimming</td>\n",
       "      <td>USA</td>\n",
       "    </tr>\n",
       "    <tr>\n",
       "      <th>270</th>\n",
       "      <td>Vra slavsk (-Odloilov)</td>\n",
       "      <td>11</td>\n",
       "      <td>Gymnastics</td>\n",
       "      <td>Czech Republic</td>\n",
       "    </tr>\n",
       "  </tbody>\n",
       "</table>\n",
       "</div>"
      ],
      "text/plain": [
       "                                                Name  Medals       Sport  \\\n",
       "0                            Michael Fred Phelps, II      28    Swimming   \n",
       "30                Larysa Semenivna Latynina (Diriy-)      18  Gymnastics   \n",
       "49                      Nikolay Yefimovich Andrianov      15  Gymnastics   \n",
       "73                       Borys Anfiyanovych Shakhlin      13  Gymnastics   \n",
       "97                                       Takashi Ono      13  Gymnastics   \n",
       "130                              Edoardo Mangiarotti      13     Fencing   \n",
       "144             Dara Grace Torres (-Hoffman, -Minas)      12    Swimming   \n",
       "157                           Birgit Fischer-Schmidt      12    Canoeing   \n",
       "170  Jennifer Elisabeth \"Jenny\" Thompson (-Cumpelik)      12    Swimming   \n",
       "187                               Ryan Steven Lochte      12    Swimming   \n",
       "201                             Paavo Johannes Nurmi      12   Athletics   \n",
       "213                          Aleksey Yuryevich Nemov      12  Gymnastics   \n",
       "234                                       Sawao Kato      12  Gymnastics   \n",
       "258                    Natalie Anne Coughlin (-Hall)      12    Swimming   \n",
       "270                           Vra slavsk (-Odloilov)      11  Gymnastics   \n",
       "\n",
       "             region  \n",
       "0               USA  \n",
       "30           Russia  \n",
       "49           Russia  \n",
       "73           Russia  \n",
       "97            Japan  \n",
       "130           Italy  \n",
       "144             USA  \n",
       "157         Germany  \n",
       "170             USA  \n",
       "187             USA  \n",
       "201         Finland  \n",
       "213          Russia  \n",
       "234           Japan  \n",
       "258             USA  \n",
       "270  Czech Republic  "
      ]
     },
     "execution_count": 139,
     "metadata": {},
     "output_type": "execute_result"
    }
   ],
   "source": [
    "most_successful(df,'Overall')"
   ]
  },
  {
   "cell_type": "markdown",
   "id": "0c0e0d4a",
   "metadata": {},
   "source": [
    "## Country Wise\n",
    "* Countrywise medal tally per year(line plot)\n",
    "* What countries are good at heatmap\n",
    "* Most successful Atheletes(Top 10)"
   ]
  },
  {
   "cell_type": "code",
   "execution_count": 140,
   "id": "868c83be",
   "metadata": {},
   "outputs": [],
   "source": [
    "temp_df=df.dropna(subset=['Medal'])\n",
    "temp_df.drop_duplicates(subset=['Team','NOC','Games','Year','City','Sport','Event','Medal'],inplace=True)"
   ]
  },
  {
   "cell_type": "code",
   "execution_count": 141,
   "id": "4d8f5797",
   "metadata": {},
   "outputs": [],
   "source": [
    "new_df=temp_df[temp_df['region']=='India']\n",
    "final_df=new_df.groupby('Year').count()['Medal'].reset_index()"
   ]
  },
  {
   "cell_type": "code",
   "execution_count": 142,
   "id": "299ac4fd",
   "metadata": {},
   "outputs": [
    {
     "data": {
      "application/vnd.plotly.v1+json": {
       "config": {
        "plotlyServerURL": "https://plot.ly"
       },
       "data": [
        {
         "hovertemplate": "Year=%{x}<br>Medal=%{y}<extra></extra>",
         "legendgroup": "",
         "line": {
          "color": "#636efa",
          "dash": "solid"
         },
         "marker": {
          "symbol": "circle"
         },
         "mode": "lines",
         "name": "",
         "orientation": "v",
         "showlegend": false,
         "type": "scatter",
         "x": {
          "bdata": "bAeIB4wHkAecB6AHpAeoB6wHsAe0B7wHzAfQB9QH2AfcB+AH",
          "dtype": "i2"
         },
         "xaxis": "x",
         "y": {
          "bdata": "AgEBAQECAQEBAQEBAQEBAwYC",
          "dtype": "i1"
         },
         "yaxis": "y"
        }
       ],
       "layout": {
        "legend": {
         "tracegroupgap": 0
        },
        "margin": {
         "t": 60
        },
        "template": {
         "data": {
          "bar": [
           {
            "error_x": {
             "color": "#2a3f5f"
            },
            "error_y": {
             "color": "#2a3f5f"
            },
            "marker": {
             "line": {
              "color": "#E5ECF6",
              "width": 0.5
             },
             "pattern": {
              "fillmode": "overlay",
              "size": 10,
              "solidity": 0.2
             }
            },
            "type": "bar"
           }
          ],
          "barpolar": [
           {
            "marker": {
             "line": {
              "color": "#E5ECF6",
              "width": 0.5
             },
             "pattern": {
              "fillmode": "overlay",
              "size": 10,
              "solidity": 0.2
             }
            },
            "type": "barpolar"
           }
          ],
          "carpet": [
           {
            "aaxis": {
             "endlinecolor": "#2a3f5f",
             "gridcolor": "white",
             "linecolor": "white",
             "minorgridcolor": "white",
             "startlinecolor": "#2a3f5f"
            },
            "baxis": {
             "endlinecolor": "#2a3f5f",
             "gridcolor": "white",
             "linecolor": "white",
             "minorgridcolor": "white",
             "startlinecolor": "#2a3f5f"
            },
            "type": "carpet"
           }
          ],
          "choropleth": [
           {
            "colorbar": {
             "outlinewidth": 0,
             "ticks": ""
            },
            "type": "choropleth"
           }
          ],
          "contour": [
           {
            "colorbar": {
             "outlinewidth": 0,
             "ticks": ""
            },
            "colorscale": [
             [
              0,
              "#0d0887"
             ],
             [
              0.1111111111111111,
              "#46039f"
             ],
             [
              0.2222222222222222,
              "#7201a8"
             ],
             [
              0.3333333333333333,
              "#9c179e"
             ],
             [
              0.4444444444444444,
              "#bd3786"
             ],
             [
              0.5555555555555556,
              "#d8576b"
             ],
             [
              0.6666666666666666,
              "#ed7953"
             ],
             [
              0.7777777777777778,
              "#fb9f3a"
             ],
             [
              0.8888888888888888,
              "#fdca26"
             ],
             [
              1,
              "#f0f921"
             ]
            ],
            "type": "contour"
           }
          ],
          "contourcarpet": [
           {
            "colorbar": {
             "outlinewidth": 0,
             "ticks": ""
            },
            "type": "contourcarpet"
           }
          ],
          "heatmap": [
           {
            "colorbar": {
             "outlinewidth": 0,
             "ticks": ""
            },
            "colorscale": [
             [
              0,
              "#0d0887"
             ],
             [
              0.1111111111111111,
              "#46039f"
             ],
             [
              0.2222222222222222,
              "#7201a8"
             ],
             [
              0.3333333333333333,
              "#9c179e"
             ],
             [
              0.4444444444444444,
              "#bd3786"
             ],
             [
              0.5555555555555556,
              "#d8576b"
             ],
             [
              0.6666666666666666,
              "#ed7953"
             ],
             [
              0.7777777777777778,
              "#fb9f3a"
             ],
             [
              0.8888888888888888,
              "#fdca26"
             ],
             [
              1,
              "#f0f921"
             ]
            ],
            "type": "heatmap"
           }
          ],
          "histogram": [
           {
            "marker": {
             "pattern": {
              "fillmode": "overlay",
              "size": 10,
              "solidity": 0.2
             }
            },
            "type": "histogram"
           }
          ],
          "histogram2d": [
           {
            "colorbar": {
             "outlinewidth": 0,
             "ticks": ""
            },
            "colorscale": [
             [
              0,
              "#0d0887"
             ],
             [
              0.1111111111111111,
              "#46039f"
             ],
             [
              0.2222222222222222,
              "#7201a8"
             ],
             [
              0.3333333333333333,
              "#9c179e"
             ],
             [
              0.4444444444444444,
              "#bd3786"
             ],
             [
              0.5555555555555556,
              "#d8576b"
             ],
             [
              0.6666666666666666,
              "#ed7953"
             ],
             [
              0.7777777777777778,
              "#fb9f3a"
             ],
             [
              0.8888888888888888,
              "#fdca26"
             ],
             [
              1,
              "#f0f921"
             ]
            ],
            "type": "histogram2d"
           }
          ],
          "histogram2dcontour": [
           {
            "colorbar": {
             "outlinewidth": 0,
             "ticks": ""
            },
            "colorscale": [
             [
              0,
              "#0d0887"
             ],
             [
              0.1111111111111111,
              "#46039f"
             ],
             [
              0.2222222222222222,
              "#7201a8"
             ],
             [
              0.3333333333333333,
              "#9c179e"
             ],
             [
              0.4444444444444444,
              "#bd3786"
             ],
             [
              0.5555555555555556,
              "#d8576b"
             ],
             [
              0.6666666666666666,
              "#ed7953"
             ],
             [
              0.7777777777777778,
              "#fb9f3a"
             ],
             [
              0.8888888888888888,
              "#fdca26"
             ],
             [
              1,
              "#f0f921"
             ]
            ],
            "type": "histogram2dcontour"
           }
          ],
          "mesh3d": [
           {
            "colorbar": {
             "outlinewidth": 0,
             "ticks": ""
            },
            "type": "mesh3d"
           }
          ],
          "parcoords": [
           {
            "line": {
             "colorbar": {
              "outlinewidth": 0,
              "ticks": ""
             }
            },
            "type": "parcoords"
           }
          ],
          "pie": [
           {
            "automargin": true,
            "type": "pie"
           }
          ],
          "scatter": [
           {
            "fillpattern": {
             "fillmode": "overlay",
             "size": 10,
             "solidity": 0.2
            },
            "type": "scatter"
           }
          ],
          "scatter3d": [
           {
            "line": {
             "colorbar": {
              "outlinewidth": 0,
              "ticks": ""
             }
            },
            "marker": {
             "colorbar": {
              "outlinewidth": 0,
              "ticks": ""
             }
            },
            "type": "scatter3d"
           }
          ],
          "scattercarpet": [
           {
            "marker": {
             "colorbar": {
              "outlinewidth": 0,
              "ticks": ""
             }
            },
            "type": "scattercarpet"
           }
          ],
          "scattergeo": [
           {
            "marker": {
             "colorbar": {
              "outlinewidth": 0,
              "ticks": ""
             }
            },
            "type": "scattergeo"
           }
          ],
          "scattergl": [
           {
            "marker": {
             "colorbar": {
              "outlinewidth": 0,
              "ticks": ""
             }
            },
            "type": "scattergl"
           }
          ],
          "scattermap": [
           {
            "marker": {
             "colorbar": {
              "outlinewidth": 0,
              "ticks": ""
             }
            },
            "type": "scattermap"
           }
          ],
          "scattermapbox": [
           {
            "marker": {
             "colorbar": {
              "outlinewidth": 0,
              "ticks": ""
             }
            },
            "type": "scattermapbox"
           }
          ],
          "scatterpolar": [
           {
            "marker": {
             "colorbar": {
              "outlinewidth": 0,
              "ticks": ""
             }
            },
            "type": "scatterpolar"
           }
          ],
          "scatterpolargl": [
           {
            "marker": {
             "colorbar": {
              "outlinewidth": 0,
              "ticks": ""
             }
            },
            "type": "scatterpolargl"
           }
          ],
          "scatterternary": [
           {
            "marker": {
             "colorbar": {
              "outlinewidth": 0,
              "ticks": ""
             }
            },
            "type": "scatterternary"
           }
          ],
          "surface": [
           {
            "colorbar": {
             "outlinewidth": 0,
             "ticks": ""
            },
            "colorscale": [
             [
              0,
              "#0d0887"
             ],
             [
              0.1111111111111111,
              "#46039f"
             ],
             [
              0.2222222222222222,
              "#7201a8"
             ],
             [
              0.3333333333333333,
              "#9c179e"
             ],
             [
              0.4444444444444444,
              "#bd3786"
             ],
             [
              0.5555555555555556,
              "#d8576b"
             ],
             [
              0.6666666666666666,
              "#ed7953"
             ],
             [
              0.7777777777777778,
              "#fb9f3a"
             ],
             [
              0.8888888888888888,
              "#fdca26"
             ],
             [
              1,
              "#f0f921"
             ]
            ],
            "type": "surface"
           }
          ],
          "table": [
           {
            "cells": {
             "fill": {
              "color": "#EBF0F8"
             },
             "line": {
              "color": "white"
             }
            },
            "header": {
             "fill": {
              "color": "#C8D4E3"
             },
             "line": {
              "color": "white"
             }
            },
            "type": "table"
           }
          ]
         },
         "layout": {
          "annotationdefaults": {
           "arrowcolor": "#2a3f5f",
           "arrowhead": 0,
           "arrowwidth": 1
          },
          "autotypenumbers": "strict",
          "coloraxis": {
           "colorbar": {
            "outlinewidth": 0,
            "ticks": ""
           }
          },
          "colorscale": {
           "diverging": [
            [
             0,
             "#8e0152"
            ],
            [
             0.1,
             "#c51b7d"
            ],
            [
             0.2,
             "#de77ae"
            ],
            [
             0.3,
             "#f1b6da"
            ],
            [
             0.4,
             "#fde0ef"
            ],
            [
             0.5,
             "#f7f7f7"
            ],
            [
             0.6,
             "#e6f5d0"
            ],
            [
             0.7,
             "#b8e186"
            ],
            [
             0.8,
             "#7fbc41"
            ],
            [
             0.9,
             "#4d9221"
            ],
            [
             1,
             "#276419"
            ]
           ],
           "sequential": [
            [
             0,
             "#0d0887"
            ],
            [
             0.1111111111111111,
             "#46039f"
            ],
            [
             0.2222222222222222,
             "#7201a8"
            ],
            [
             0.3333333333333333,
             "#9c179e"
            ],
            [
             0.4444444444444444,
             "#bd3786"
            ],
            [
             0.5555555555555556,
             "#d8576b"
            ],
            [
             0.6666666666666666,
             "#ed7953"
            ],
            [
             0.7777777777777778,
             "#fb9f3a"
            ],
            [
             0.8888888888888888,
             "#fdca26"
            ],
            [
             1,
             "#f0f921"
            ]
           ],
           "sequentialminus": [
            [
             0,
             "#0d0887"
            ],
            [
             0.1111111111111111,
             "#46039f"
            ],
            [
             0.2222222222222222,
             "#7201a8"
            ],
            [
             0.3333333333333333,
             "#9c179e"
            ],
            [
             0.4444444444444444,
             "#bd3786"
            ],
            [
             0.5555555555555556,
             "#d8576b"
            ],
            [
             0.6666666666666666,
             "#ed7953"
            ],
            [
             0.7777777777777778,
             "#fb9f3a"
            ],
            [
             0.8888888888888888,
             "#fdca26"
            ],
            [
             1,
             "#f0f921"
            ]
           ]
          },
          "colorway": [
           "#636efa",
           "#EF553B",
           "#00cc96",
           "#ab63fa",
           "#FFA15A",
           "#19d3f3",
           "#FF6692",
           "#B6E880",
           "#FF97FF",
           "#FECB52"
          ],
          "font": {
           "color": "#2a3f5f"
          },
          "geo": {
           "bgcolor": "white",
           "lakecolor": "white",
           "landcolor": "#E5ECF6",
           "showlakes": true,
           "showland": true,
           "subunitcolor": "white"
          },
          "hoverlabel": {
           "align": "left"
          },
          "hovermode": "closest",
          "mapbox": {
           "style": "light"
          },
          "paper_bgcolor": "white",
          "plot_bgcolor": "#E5ECF6",
          "polar": {
           "angularaxis": {
            "gridcolor": "white",
            "linecolor": "white",
            "ticks": ""
           },
           "bgcolor": "#E5ECF6",
           "radialaxis": {
            "gridcolor": "white",
            "linecolor": "white",
            "ticks": ""
           }
          },
          "scene": {
           "xaxis": {
            "backgroundcolor": "#E5ECF6",
            "gridcolor": "white",
            "gridwidth": 2,
            "linecolor": "white",
            "showbackground": true,
            "ticks": "",
            "zerolinecolor": "white"
           },
           "yaxis": {
            "backgroundcolor": "#E5ECF6",
            "gridcolor": "white",
            "gridwidth": 2,
            "linecolor": "white",
            "showbackground": true,
            "ticks": "",
            "zerolinecolor": "white"
           },
           "zaxis": {
            "backgroundcolor": "#E5ECF6",
            "gridcolor": "white",
            "gridwidth": 2,
            "linecolor": "white",
            "showbackground": true,
            "ticks": "",
            "zerolinecolor": "white"
           }
          },
          "shapedefaults": {
           "line": {
            "color": "#2a3f5f"
           }
          },
          "ternary": {
           "aaxis": {
            "gridcolor": "white",
            "linecolor": "white",
            "ticks": ""
           },
           "baxis": {
            "gridcolor": "white",
            "linecolor": "white",
            "ticks": ""
           },
           "bgcolor": "#E5ECF6",
           "caxis": {
            "gridcolor": "white",
            "linecolor": "white",
            "ticks": ""
           }
          },
          "title": {
           "x": 0.05
          },
          "xaxis": {
           "automargin": true,
           "gridcolor": "white",
           "linecolor": "white",
           "ticks": "",
           "title": {
            "standoff": 15
           },
           "zerolinecolor": "white",
           "zerolinewidth": 2
          },
          "yaxis": {
           "automargin": true,
           "gridcolor": "white",
           "linecolor": "white",
           "ticks": "",
           "title": {
            "standoff": 15
           },
           "zerolinecolor": "white",
           "zerolinewidth": 2
          }
         }
        },
        "xaxis": {
         "anchor": "y",
         "domain": [
          0,
          1
         ],
         "title": {
          "text": "Year"
         }
        },
        "yaxis": {
         "anchor": "x",
         "domain": [
          0,
          1
         ],
         "title": {
          "text": "Medal"
         }
        }
       }
      }
     },
     "metadata": {},
     "output_type": "display_data"
    }
   ],
   "source": [
    "fig = px.line(final_df, x='Year',y='Medal')\n",
    "fig.show()"
   ]
  },
  {
   "cell_type": "code",
   "execution_count": 143,
   "id": "0a8fb674",
   "metadata": {},
   "outputs": [
    {
     "data": {
      "text/plain": [
       "<Axes: xlabel='Year', ylabel='Sport'>"
      ]
     },
     "execution_count": 143,
     "metadata": {},
     "output_type": "execute_result"
    },
    {
     "data": {
      "image/png": "[encoded data removed]",
      "text/plain": [
       "<Figure size 2000x2000 with 2 Axes>"
      ]
     },
     "metadata": {},
     "output_type": "display_data"
    }
   ],
   "source": [
    "new_df=temp_df[temp_df['region']=='UK']\n",
    "plt.figure(figsize=(20,20))\n",
    "sns.heatmap(new_df.pivot_table(index='Sport',columns='Year',values='Medal',aggfunc='count').fillna(0),cmap='viridis',annot=True)"
   ]
  },
  {
   "cell_type": "code",
   "execution_count": 144,
   "id": "b0ec211c",
   "metadata": {},
   "outputs": [],
   "source": [
    "def most_successful(df,country):\n",
    "    temp_df=df.dropna(subset=['Medal'])\n",
    "    \n",
    "    temp_df=temp_df[temp_df['region']==country]\n",
    "    \n",
    "    x= temp_df['Name'].value_counts().reset_index().head(15).merge(df,left_on='Name',right_on='Name',how='left')[['Name','count','Sport']].drop_duplicates('Name')                                             \n",
    "    x.rename(columns={'count':'Medals'},inplace=True)\n",
    "    return x"
   ]
  },
  {
   "cell_type": "code",
   "execution_count": 145,
   "id": "e92d3654",
   "metadata": {},
   "outputs": [],
   "source": [
    "import plotly.figure_factory as ff\n"
   ]
  },
  {
   "cell_type": "code",
   "execution_count": 146,
   "id": "197890e1",
   "metadata": {},
   "outputs": [],
   "source": [
    "athlete_df=df\n",
    "x1=athlete_df['Age'].dropna()\n",
    "x2=athlete_df[athlete_df['Medal']=='Gold']['Age'].dropna()\n",
    "x3=athlete_df[athlete_df['Medal']=='Silver']['Age'].dropna()\n",
    "x4=athlete_df[athlete_df['Medal']=='Bronze']['Age'].dropna()"
   ]
  },
  {
   "cell_type": "code",
   "execution_count": 147,
   "id": "5c13ba9b",
   "metadata": {},
   "outputs": [
    {
     "data": {
      "application/vnd.plotly.v1+json": {
       "config": {
        "plotlyServerURL": "https://plot.ly"
       },
       "data": [
        {
         "legendgroup": "Overall Age",
         "marker": {
          "color": "rgb(31, 119, 180)"
         },
         "mode": "lines",
         "name": "Overall Age",
         "showlegend": true,
         "type": "scatter",
         "x": [
          10,
          10.174,
          10.348,
          10.522,
          10.696,
          10.87,
          11.044,
          11.218,
          11.392,
          11.566,
          11.74,
          11.914,
          12.088000000000001,
          12.262,
          12.436,
          12.61,
          12.783999999999999,
          12.958,
          13.132,
          13.306000000000001,
          13.48,
          13.654,
          13.828,
          14.001999999999999,
          14.176,
          14.35,
          14.524000000000001,
          14.698,
          14.872,
          15.046,
          15.219999999999999,
          15.394,
          15.568,
          15.742,
          15.916,
          16.09,
          16.264,
          16.438,
          16.612000000000002,
          16.786,
          16.96,
          17.134,
          17.308,
          17.482,
          17.656,
          17.83,
          18.003999999999998,
          18.178,
          18.352,
          18.526,
          18.7,
          18.874000000000002,
          19.048000000000002,
          19.222,
          19.396,
          19.57,
          19.744,
          19.918,
          20.092,
          20.266,
          20.439999999999998,
          20.614,
          20.788,
          20.962,
          21.136,
          21.310000000000002,
          21.484,
          21.658,
          21.832,
          22.006,
          22.18,
          22.354,
          22.528,
          22.701999999999998,
          22.875999999999998,
          23.05,
          23.224,
          23.398,
          23.572,
          23.746000000000002,
          23.92,
          24.094,
          24.268,
          24.442,
          24.616,
          24.79,
          24.964,
          25.137999999999998,
          25.311999999999998,
          25.486,
          25.66,
          25.834,
          26.008,
          26.182,
          26.356,
          26.53,
          26.704,
          26.878,
          27.052,
          27.226,
          27.4,
          27.574,
          27.748,
          27.922,
          28.096,
          28.27,
          28.444,
          28.618,
          28.792,
          28.966,
          29.14,
          29.314,
          29.488,
          29.662,
          29.836,
          30.01,
          30.184,
          30.358,
          30.532,
          30.706,
          30.88,
          31.054,
          31.228,
          31.402,
          31.576,
          31.75,
          31.924,
          32.098,
          32.272,
          32.446,
          32.620000000000005,
          32.794,
          32.968,
          33.141999999999996,
          33.316,
          33.489999999999995,
          33.664,
          33.838,
          34.012,
          34.186,
          34.36,
          34.534,
          34.708,
          34.882000000000005,
          35.056,
          35.230000000000004,
          35.403999999999996,
          35.578,
          35.751999999999995,
          35.926,
          36.1,
          36.274,
          36.448,
          36.622,
          36.796,
          36.97,
          37.144,
          37.318,
          37.492000000000004,
          37.666,
          37.84,
          38.013999999999996,
          38.188,
          38.361999999999995,
          38.536,
          38.71,
          38.884,
          39.058,
          39.232,
          39.406,
          39.58,
          39.754000000000005,
          39.928,
          40.102000000000004,
          40.275999999999996,
          40.45,
          40.623999999999995,
          40.798,
          40.972,
          41.146,
          41.32,
          41.494,
          41.668,
          41.842,
          42.016,
          42.19,
          42.364,
          42.538,
          42.712,
          42.886,
          43.06,
          43.234,
          43.408,
          43.582,
          43.756,
          43.93,
          44.104,
          44.278,
          44.452,
          44.626,
          44.8,
          44.974,
          45.148,
          45.322,
          45.496,
          45.67,
          45.844,
          46.018,
          46.192,
          46.366,
          46.54,
          46.714,
          46.888,
          47.062,
          47.236,
          47.41,
          47.584,
          47.758,
          47.932,
          48.106,
          48.28,
          48.454,
          48.628,
          48.802,
          48.976,
          49.15,
          49.324,
          49.498,
          49.672,
          49.846,
          50.02,
          50.194,
          50.368,
          50.542,
          50.716,
          50.89,
          51.064,
          51.238,
          51.412,
          51.586,
          51.76,
          51.934,
          52.108,
          52.282,
          52.456,
          52.63,
          52.804,
          52.978,
          53.152,
          53.326,
          53.5,
          53.674,
          53.848,
          54.022,
          54.196,
          54.37,
          54.544,
          54.718,
          54.892,
          55.066,
          55.24,
          55.414,
          55.588,
          55.762,
          55.936,
          56.11,
          56.284,
          56.458,
          56.632,
          56.806,
          56.98,
          57.154,
          57.328,
          57.502,
          57.676,
          57.85,
          58.024,
          58.198,
          58.372,
          58.546,
          58.72,
          58.894,
          59.068,
          59.242,
          59.416,
          59.59,
          59.764,
          59.938,
          60.112,
          60.286,
          60.46,
          60.634,
          60.808,
          60.982,
          61.156,
          61.33,
          61.504,
          61.678,
          61.852,
          62.026,
          62.2,
          62.374,
          62.548,
          62.722,
          62.896,
          63.07,
          63.244,
          63.418,
          63.592,
          63.766,
          63.94,
          64.114,
          64.288,
          64.462,
          64.636,
          64.81,
          64.98400000000001,
          65.158,
          65.332,
          65.506,
          65.68,
          65.854,
          66.02799999999999,
          66.202,
          66.376,
          66.55,
          66.72399999999999,
          66.898,
          67.072,
          67.24600000000001,
          67.42,
          67.594,
          67.768,
          67.94200000000001,
          68.116,
          68.28999999999999,
          68.464,
          68.638,
          68.812,
          68.98599999999999,
          69.16,
          69.334,
          69.50800000000001,
          69.682,
          69.856,
          70.03,
          70.20400000000001,
          70.378,
          70.55199999999999,
          70.726,
          70.9,
          71.074,
          71.24799999999999,
          71.422,
          71.596,
          71.77000000000001,
          71.944,
          72.118,
          72.292,
          72.46600000000001,
          72.64,
          72.814,
          72.988,
          73.162,
          73.336,
          73.50999999999999,
          73.684,
          73.858,
          74.032,
          74.206,
          74.38,
          74.554,
          74.728,
          74.902,
          75.076,
          75.25,
          75.424,
          75.598,
          75.772,
          75.946,
          76.12,
          76.294,
          76.468,
          76.642,
          76.816,
          76.99,
          77.164,
          77.338,
          77.512,
          77.686,
          77.86,
          78.034,
          78.208,
          78.382,
          78.556,
          78.73,
          78.904,
          79.078,
          79.252,
          79.426,
          79.6,
          79.774,
          79.948,
          80.122,
          80.296,
          80.47,
          80.644,
          80.818,
          80.992,
          81.166,
          81.34,
          81.514,
          81.688,
          81.862,
          82.036,
          82.21,
          82.384,
          82.558,
          82.732,
          82.906,
          83.08,
          83.254,
          83.428,
          83.602,
          83.776,
          83.95,
          84.124,
          84.298,
          84.472,
          84.646,
          84.82,
          84.994,
          85.168,
          85.342,
          85.516,
          85.69,
          85.864,
          86.038,
          86.212,
          86.386,
          86.56,
          86.734,
          86.908,
          87.082,
          87.256,
          87.43,
          87.604,
          87.778,
          87.952,
          88.126,
          88.3,
          88.474,
          88.648,
          88.822,
          88.996,
          89.17,
          89.344,
          89.518,
          89.692,
          89.866,
          90.04,
          90.214,
          90.388,
          90.562,
          90.736,
          90.91,
          91.084,
          91.258,
          91.432,
          91.606,
          91.78,
          91.954,
          92.128,
          92.302,
          92.476,
          92.65,
          92.824,
          92.998,
          93.172,
          93.346,
          93.52,
          93.694,
          93.868,
          94.042,
          94.216,
          94.39,
          94.564,
          94.738,
          94.912,
          95.086,
          95.26,
          95.434,
          95.608,
          95.782,
          95.956,
          96.13,
          96.304,
          96.478,
          96.652,
          96.826
         ],
         "xaxis": "x",
         "y": {
          "bdata": "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",
          "dtype": "f8"
         },
         "yaxis": "y"
        },
        {
         "legendgroup": "Gold Medallist",
         "marker": {
          "color": "rgb(255, 127, 14)"
         },
         "mode": "lines",
         "name": "Gold Medallist",
         "showlegend": true,
         "type": "scatter",
         "x": [
          13,
          13.102,
          13.204,
          13.306,
          13.408,
          13.51,
          13.612,
          13.714,
          13.816,
          13.918,
          14.02,
          14.122,
          14.224,
          14.326,
          14.428,
          14.53,
          14.632,
          14.734,
          14.836,
          14.938,
          15.04,
          15.142,
          15.244,
          15.346,
          15.448,
          15.55,
          15.652000000000001,
          15.754,
          15.856,
          15.958,
          16.06,
          16.162,
          16.264,
          16.366,
          16.468,
          16.57,
          16.672,
          16.774,
          16.876,
          16.978,
          17.08,
          17.182000000000002,
          17.284,
          17.386,
          17.488,
          17.59,
          17.692,
          17.794,
          17.896,
          17.998,
          18.1,
          18.201999999999998,
          18.304000000000002,
          18.406,
          18.508,
          18.61,
          18.712,
          18.814,
          18.916,
          19.018,
          19.12,
          19.222,
          19.323999999999998,
          19.426000000000002,
          19.528,
          19.63,
          19.732,
          19.834,
          19.936,
          20.038,
          20.14,
          20.242,
          20.344,
          20.445999999999998,
          20.548000000000002,
          20.65,
          20.752,
          20.854,
          20.956,
          21.058,
          21.16,
          21.262,
          21.364,
          21.466,
          21.567999999999998,
          21.67,
          21.772,
          21.874000000000002,
          21.976,
          22.078,
          22.18,
          22.282,
          22.384,
          22.486,
          22.588,
          22.689999999999998,
          22.792,
          22.894,
          22.996000000000002,
          23.098,
          23.2,
          23.302,
          23.404,
          23.506,
          23.608,
          23.71,
          23.811999999999998,
          23.914,
          24.016,
          24.118000000000002,
          24.22,
          24.322,
          24.424,
          24.526,
          24.628,
          24.73,
          24.832,
          24.933999999999997,
          25.036,
          25.137999999999998,
          25.240000000000002,
          25.342,
          25.444000000000003,
          25.546,
          25.648,
          25.75,
          25.852,
          25.954,
          26.055999999999997,
          26.158,
          26.259999999999998,
          26.362000000000002,
          26.464,
          26.566000000000003,
          26.668,
          26.77,
          26.872,
          26.974,
          27.076,
          27.178,
          27.28,
          27.381999999999998,
          27.484,
          27.586,
          27.688000000000002,
          27.79,
          27.892,
          27.994,
          28.096,
          28.198,
          28.3,
          28.402,
          28.503999999999998,
          28.606,
          28.708,
          28.810000000000002,
          28.912,
          29.014,
          29.116,
          29.218,
          29.32,
          29.422,
          29.524,
          29.626,
          29.728,
          29.83,
          29.932,
          30.034,
          30.136,
          30.238,
          30.34,
          30.442,
          30.544,
          30.646,
          30.748,
          30.85,
          30.952,
          31.054,
          31.156,
          31.258,
          31.36,
          31.462,
          31.564,
          31.666,
          31.768,
          31.87,
          31.972,
          32.074,
          32.176,
          32.278,
          32.379999999999995,
          32.482,
          32.584,
          32.686,
          32.788,
          32.89,
          32.992000000000004,
          33.094,
          33.196,
          33.298,
          33.4,
          33.501999999999995,
          33.604,
          33.706,
          33.808,
          33.91,
          34.012,
          34.114000000000004,
          34.216,
          34.318,
          34.42,
          34.522,
          34.623999999999995,
          34.726,
          34.828,
          34.93,
          35.032,
          35.134,
          35.236000000000004,
          35.338,
          35.44,
          35.542,
          35.644,
          35.745999999999995,
          35.848,
          35.95,
          36.052,
          36.153999999999996,
          36.256,
          36.358000000000004,
          36.46,
          36.562,
          36.664,
          36.766,
          36.867999999999995,
          36.97,
          37.072,
          37.174,
          37.275999999999996,
          37.378,
          37.480000000000004,
          37.582,
          37.684,
          37.786,
          37.888000000000005,
          37.989999999999995,
          38.092,
          38.194,
          38.296,
          38.397999999999996,
          38.5,
          38.602000000000004,
          38.704,
          38.806,
          38.908,
          39.010000000000005,
          39.111999999999995,
          39.214,
          39.316,
          39.418,
          39.519999999999996,
          39.622,
          39.724000000000004,
          39.826,
          39.928,
          40.03,
          40.132000000000005,
          40.234,
          40.336,
          40.438,
          40.54,
          40.641999999999996,
          40.744,
          40.846000000000004,
          40.948,
          41.05,
          41.152,
          41.254000000000005,
          41.356,
          41.458,
          41.56,
          41.662,
          41.763999999999996,
          41.866,
          41.968,
          42.07,
          42.172,
          42.274,
          42.376000000000005,
          42.478,
          42.58,
          42.682,
          42.784,
          42.885999999999996,
          42.988,
          43.09,
          43.192,
          43.294,
          43.396,
          43.498000000000005,
          43.6,
          43.702,
          43.804,
          43.906,
          44.007999999999996,
          44.11,
          44.212,
          44.314,
          44.416,
          44.518,
          44.620000000000005,
          44.722,
          44.824,
          44.926,
          45.028,
          45.13,
          45.232,
          45.334,
          45.436,
          45.538,
          45.64,
          45.742,
          45.844,
          45.946,
          46.048,
          46.15,
          46.252,
          46.354,
          46.456,
          46.558,
          46.66,
          46.762,
          46.864,
          46.966,
          47.068,
          47.17,
          47.272,
          47.374,
          47.476,
          47.578,
          47.68,
          47.782,
          47.884,
          47.986,
          48.088,
          48.19,
          48.292,
          48.394,
          48.496,
          48.598,
          48.7,
          48.802,
          48.904,
          49.006,
          49.108,
          49.21,
          49.312,
          49.414,
          49.516,
          49.618,
          49.72,
          49.822,
          49.924,
          50.026,
          50.128,
          50.23,
          50.332,
          50.434,
          50.536,
          50.638,
          50.74,
          50.842,
          50.944,
          51.046,
          51.148,
          51.25,
          51.352,
          51.454,
          51.556,
          51.658,
          51.76,
          51.862,
          51.964,
          52.066,
          52.168,
          52.27,
          52.372,
          52.474,
          52.576,
          52.678,
          52.78,
          52.882,
          52.984,
          53.086,
          53.188,
          53.29,
          53.392,
          53.494,
          53.596,
          53.698,
          53.8,
          53.902,
          54.004,
          54.106,
          54.208,
          54.31,
          54.412,
          54.514,
          54.616,
          54.718,
          54.82,
          54.922,
          55.024,
          55.126,
          55.228,
          55.33,
          55.432,
          55.534,
          55.636,
          55.738,
          55.84,
          55.942,
          56.044,
          56.146,
          56.248,
          56.35,
          56.452,
          56.554,
          56.656,
          56.758,
          56.86,
          56.962,
          57.064,
          57.166,
          57.268,
          57.37,
          57.472,
          57.574,
          57.676,
          57.778,
          57.88,
          57.982,
          58.084,
          58.186,
          58.288,
          58.39,
          58.492,
          58.594,
          58.696,
          58.798,
          58.9,
          59.002,
          59.104,
          59.206,
          59.308,
          59.41,
          59.512,
          59.614,
          59.716,
          59.818,
          59.92,
          60.022,
          60.124,
          60.226,
          60.328,
          60.43,
          60.532,
          60.634,
          60.736,
          60.838,
          60.94,
          61.042,
          61.144,
          61.246,
          61.348,
          61.45,
          61.552,
          61.654,
          61.756,
          61.858,
          61.96,
          62.062,
          62.164,
          62.266,
          62.368,
          62.47,
          62.572,
          62.674,
          62.776,
          62.878,
          62.98,
          63.082,
          63.184,
          63.286,
          63.388,
          63.49,
          63.592,
          63.694,
          63.796,
          63.898
         ],
         "xaxis": "x",
         "y": {
          "bdata": "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",
          "dtype": "f8"
         },
         "yaxis": "y"
        },
        {
         "legendgroup": "Silver Medallist",
         "marker": {
          "color": "rgb(44, 160, 44)"
         },
         "mode": "lines",
         "name": "Silver Medallist",
         "showlegend": true,
         "type": "scatter",
         "x": [
          11,
          11.124,
          11.248,
          11.372,
          11.496,
          11.62,
          11.744,
          11.868,
          11.992,
          12.116,
          12.24,
          12.364,
          12.488,
          12.612,
          12.736,
          12.86,
          12.984,
          13.108,
          13.232,
          13.356,
          13.48,
          13.604,
          13.728,
          13.852,
          13.975999999999999,
          14.1,
          14.224,
          14.347999999999999,
          14.472,
          14.596,
          14.72,
          14.844,
          14.968,
          15.091999999999999,
          15.216000000000001,
          15.34,
          15.464,
          15.588000000000001,
          15.712,
          15.836,
          15.96,
          16.084,
          16.208,
          16.332,
          16.456,
          16.58,
          16.704,
          16.828,
          16.951999999999998,
          17.076,
          17.2,
          17.323999999999998,
          17.448,
          17.572,
          17.695999999999998,
          17.82,
          17.944,
          18.067999999999998,
          18.192,
          18.316,
          18.44,
          18.564,
          18.688,
          18.812,
          18.936,
          19.060000000000002,
          19.183999999999997,
          19.308,
          19.432000000000002,
          19.555999999999997,
          19.68,
          19.804000000000002,
          19.928,
          20.052,
          20.176000000000002,
          20.3,
          20.424,
          20.548000000000002,
          20.672,
          20.796,
          20.92,
          21.044,
          21.168,
          21.292,
          21.416,
          21.54,
          21.664,
          21.788,
          21.912,
          22.036,
          22.16,
          22.284,
          22.408,
          22.532,
          22.656,
          22.78,
          22.904,
          23.028,
          23.152,
          23.276,
          23.4,
          23.524,
          23.648,
          23.772,
          23.896,
          24.02,
          24.144,
          24.268,
          24.392,
          24.516,
          24.64,
          24.764,
          24.887999999999998,
          25.012,
          25.136,
          25.259999999999998,
          25.384,
          25.508,
          25.631999999999998,
          25.756,
          25.880000000000003,
          26.003999999999998,
          26.128,
          26.252000000000002,
          26.375999999999998,
          26.5,
          26.624000000000002,
          26.747999999999998,
          26.872,
          26.996000000000002,
          27.12,
          27.244,
          27.368,
          27.492,
          27.616,
          27.74,
          27.864,
          27.988,
          28.112,
          28.236,
          28.36,
          28.484,
          28.608,
          28.732,
          28.856,
          28.98,
          29.104,
          29.228,
          29.352,
          29.476,
          29.6,
          29.724,
          29.848,
          29.972,
          30.096,
          30.22,
          30.344,
          30.468,
          30.592,
          30.716,
          30.84,
          30.964,
          31.088,
          31.212,
          31.336,
          31.46,
          31.584,
          31.708,
          31.832,
          31.956,
          32.08,
          32.204,
          32.328,
          32.452,
          32.576,
          32.7,
          32.824,
          32.948,
          33.072,
          33.196,
          33.32,
          33.444,
          33.568,
          33.692,
          33.816,
          33.94,
          34.064,
          34.188,
          34.312,
          34.436,
          34.56,
          34.684,
          34.808,
          34.932,
          35.056,
          35.18,
          35.304,
          35.428,
          35.552,
          35.676,
          35.8,
          35.924,
          36.048,
          36.172,
          36.296,
          36.42,
          36.544,
          36.668,
          36.792,
          36.916,
          37.04,
          37.164,
          37.288,
          37.412,
          37.536,
          37.66,
          37.784,
          37.908,
          38.032,
          38.156,
          38.28,
          38.403999999999996,
          38.528,
          38.652,
          38.775999999999996,
          38.9,
          39.024,
          39.147999999999996,
          39.272,
          39.396,
          39.519999999999996,
          39.644,
          39.768,
          39.891999999999996,
          40.016,
          40.14,
          40.263999999999996,
          40.388000000000005,
          40.512,
          40.635999999999996,
          40.760000000000005,
          40.884,
          41.007999999999996,
          41.132000000000005,
          41.256,
          41.379999999999995,
          41.504000000000005,
          41.628,
          41.751999999999995,
          41.876000000000005,
          42,
          42.123999999999995,
          42.248000000000005,
          42.372,
          42.495999999999995,
          42.620000000000005,
          42.744,
          42.867999999999995,
          42.992000000000004,
          43.116,
          43.24,
          43.364,
          43.488,
          43.612,
          43.736,
          43.86,
          43.984,
          44.108,
          44.232,
          44.356,
          44.48,
          44.604,
          44.728,
          44.852,
          44.976,
          45.1,
          45.224,
          45.348,
          45.472,
          45.596,
          45.72,
          45.844,
          45.968,
          46.092,
          46.216,
          46.34,
          46.464,
          46.588,
          46.712,
          46.836,
          46.96,
          47.084,
          47.208,
          47.332,
          47.456,
          47.58,
          47.704,
          47.828,
          47.952,
          48.076,
          48.2,
          48.324,
          48.448,
          48.572,
          48.696,
          48.82,
          48.944,
          49.068,
          49.192,
          49.316,
          49.44,
          49.564,
          49.688,
          49.812,
          49.936,
          50.06,
          50.184,
          50.308,
          50.432,
          50.556,
          50.68,
          50.804,
          50.928,
          51.052,
          51.176,
          51.3,
          51.424,
          51.548,
          51.672,
          51.796,
          51.92,
          52.044,
          52.168,
          52.292,
          52.416,
          52.54,
          52.664,
          52.788,
          52.912,
          53.036,
          53.16,
          53.284,
          53.408,
          53.532,
          53.656,
          53.78,
          53.904,
          54.028,
          54.152,
          54.276,
          54.4,
          54.524,
          54.648,
          54.772,
          54.896,
          55.02,
          55.144,
          55.268,
          55.392,
          55.516,
          55.64,
          55.764,
          55.888,
          56.012,
          56.136,
          56.26,
          56.384,
          56.508,
          56.632,
          56.756,
          56.88,
          57.004,
          57.128,
          57.252,
          57.376,
          57.5,
          57.624,
          57.748,
          57.872,
          57.996,
          58.12,
          58.244,
          58.368,
          58.492,
          58.616,
          58.74,
          58.864,
          58.988,
          59.112,
          59.236,
          59.36,
          59.484,
          59.608,
          59.732,
          59.856,
          59.98,
          60.104,
          60.228,
          60.352,
          60.476,
          60.6,
          60.724,
          60.848,
          60.972,
          61.096,
          61.22,
          61.344,
          61.468,
          61.592,
          61.716,
          61.84,
          61.964,
          62.088,
          62.212,
          62.336,
          62.46,
          62.584,
          62.708,
          62.832,
          62.956,
          63.08,
          63.204,
          63.328,
          63.452,
          63.576,
          63.7,
          63.824,
          63.948,
          64.072,
          64.196,
          64.32,
          64.444,
          64.568,
          64.69200000000001,
          64.816,
          64.94,
          65.064,
          65.188,
          65.312,
          65.436,
          65.56,
          65.684,
          65.80799999999999,
          65.932,
          66.056,
          66.18,
          66.304,
          66.428,
          66.55199999999999,
          66.676,
          66.8,
          66.924,
          67.048,
          67.172,
          67.29599999999999,
          67.42,
          67.544,
          67.668,
          67.792,
          67.916,
          68.03999999999999,
          68.164,
          68.288,
          68.412,
          68.536,
          68.66,
          68.78399999999999,
          68.908,
          69.032,
          69.156,
          69.28,
          69.404,
          69.52799999999999,
          69.652,
          69.77600000000001,
          69.9,
          70.024,
          70.148,
          70.27199999999999,
          70.396,
          70.52000000000001,
          70.644,
          70.768,
          70.892,
          71.01599999999999,
          71.14,
          71.26400000000001,
          71.388,
          71.512,
          71.636,
          71.75999999999999,
          71.884,
          72.00800000000001,
          72.132,
          72.256,
          72.38,
          72.50399999999999,
          72.628,
          72.75200000000001,
          72.876
         ],
         "xaxis": "x",
         "y": {
          "bdata": "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",
          "dtype": "f8"
         },
         "yaxis": "y"
        },
        {
         "legendgroup": "Bronze Medallist",
         "marker": {
          "color": "rgb(214, 39, 40)"
         },
         "mode": "lines",
         "name": "Bronze Medallist",
         "showlegend": true,
         "type": "scatter",
         "x": [
          10,
          10.124,
          10.248,
          10.372,
          10.496,
          10.62,
          10.744,
          10.868,
          10.992,
          11.116,
          11.24,
          11.364,
          11.488,
          11.612,
          11.736,
          11.86,
          11.984,
          12.108,
          12.232,
          12.356,
          12.48,
          12.604,
          12.728,
          12.852,
          12.975999999999999,
          13.1,
          13.224,
          13.347999999999999,
          13.472,
          13.596,
          13.72,
          13.844,
          13.968,
          14.091999999999999,
          14.216000000000001,
          14.34,
          14.464,
          14.588000000000001,
          14.712,
          14.836,
          14.96,
          15.084,
          15.208,
          15.332,
          15.456,
          15.58,
          15.704,
          15.828,
          15.952,
          16.076,
          16.2,
          16.323999999999998,
          16.448,
          16.572,
          16.695999999999998,
          16.82,
          16.944,
          17.067999999999998,
          17.192,
          17.316,
          17.44,
          17.564,
          17.688,
          17.812,
          17.936,
          18.060000000000002,
          18.183999999999997,
          18.308,
          18.432000000000002,
          18.555999999999997,
          18.68,
          18.804000000000002,
          18.928,
          19.052,
          19.176000000000002,
          19.3,
          19.424,
          19.548000000000002,
          19.672,
          19.796,
          19.92,
          20.044,
          20.168,
          20.292,
          20.416,
          20.54,
          20.664,
          20.788,
          20.912,
          21.036,
          21.16,
          21.284,
          21.408,
          21.532,
          21.656,
          21.78,
          21.904,
          22.028,
          22.152,
          22.276,
          22.4,
          22.524,
          22.648,
          22.772,
          22.896,
          23.02,
          23.144,
          23.268,
          23.392,
          23.516,
          23.64,
          23.764,
          23.887999999999998,
          24.012,
          24.136,
          24.259999999999998,
          24.384,
          24.508,
          24.631999999999998,
          24.756,
          24.880000000000003,
          25.003999999999998,
          25.128,
          25.252000000000002,
          25.375999999999998,
          25.5,
          25.624000000000002,
          25.747999999999998,
          25.872,
          25.996000000000002,
          26.12,
          26.244,
          26.368,
          26.492,
          26.616,
          26.74,
          26.864,
          26.988,
          27.112,
          27.236,
          27.36,
          27.484,
          27.608,
          27.732,
          27.856,
          27.98,
          28.104,
          28.228,
          28.352,
          28.476,
          28.6,
          28.724,
          28.848,
          28.972,
          29.096,
          29.22,
          29.344,
          29.468,
          29.592,
          29.716,
          29.84,
          29.964,
          30.088,
          30.212,
          30.336,
          30.46,
          30.584,
          30.708,
          30.832,
          30.956,
          31.08,
          31.204,
          31.328,
          31.452,
          31.576,
          31.7,
          31.824,
          31.948,
          32.072,
          32.196,
          32.32,
          32.444,
          32.568,
          32.692,
          32.816,
          32.94,
          33.064,
          33.188,
          33.312,
          33.436,
          33.56,
          33.684,
          33.808,
          33.932,
          34.056,
          34.18,
          34.304,
          34.428,
          34.552,
          34.676,
          34.8,
          34.924,
          35.048,
          35.172,
          35.296,
          35.42,
          35.544,
          35.668,
          35.792,
          35.916,
          36.04,
          36.164,
          36.288,
          36.412,
          36.536,
          36.66,
          36.784,
          36.908,
          37.032,
          37.156,
          37.28,
          37.403999999999996,
          37.528,
          37.652,
          37.775999999999996,
          37.9,
          38.024,
          38.147999999999996,
          38.272,
          38.396,
          38.519999999999996,
          38.644,
          38.768,
          38.891999999999996,
          39.016,
          39.14,
          39.263999999999996,
          39.388000000000005,
          39.512,
          39.635999999999996,
          39.760000000000005,
          39.884,
          40.007999999999996,
          40.132000000000005,
          40.256,
          40.379999999999995,
          40.504000000000005,
          40.628,
          40.751999999999995,
          40.876000000000005,
          41,
          41.123999999999995,
          41.248000000000005,
          41.372,
          41.495999999999995,
          41.620000000000005,
          41.744,
          41.867999999999995,
          41.992000000000004,
          42.116,
          42.24,
          42.364,
          42.488,
          42.612,
          42.736,
          42.86,
          42.984,
          43.108,
          43.232,
          43.356,
          43.48,
          43.604,
          43.728,
          43.852,
          43.976,
          44.1,
          44.224,
          44.348,
          44.472,
          44.596,
          44.72,
          44.844,
          44.968,
          45.092,
          45.216,
          45.34,
          45.464,
          45.588,
          45.712,
          45.836,
          45.96,
          46.084,
          46.208,
          46.332,
          46.456,
          46.58,
          46.704,
          46.828,
          46.952,
          47.076,
          47.2,
          47.324,
          47.448,
          47.572,
          47.696,
          47.82,
          47.944,
          48.068,
          48.192,
          48.316,
          48.44,
          48.564,
          48.688,
          48.812,
          48.936,
          49.06,
          49.184,
          49.308,
          49.432,
          49.556,
          49.68,
          49.804,
          49.928,
          50.052,
          50.176,
          50.3,
          50.424,
          50.548,
          50.672,
          50.796,
          50.92,
          51.044,
          51.168,
          51.292,
          51.416,
          51.54,
          51.664,
          51.788,
          51.912,
          52.036,
          52.16,
          52.284,
          52.408,
          52.532,
          52.656,
          52.78,
          52.904,
          53.028,
          53.152,
          53.276,
          53.4,
          53.524,
          53.648,
          53.772,
          53.896,
          54.02,
          54.144,
          54.268,
          54.392,
          54.516,
          54.64,
          54.764,
          54.888,
          55.012,
          55.136,
          55.26,
          55.384,
          55.508,
          55.632,
          55.756,
          55.88,
          56.004,
          56.128,
          56.252,
          56.376,
          56.5,
          56.624,
          56.748,
          56.872,
          56.996,
          57.12,
          57.244,
          57.368,
          57.492,
          57.616,
          57.74,
          57.864,
          57.988,
          58.112,
          58.236,
          58.36,
          58.484,
          58.608,
          58.732,
          58.856,
          58.98,
          59.104,
          59.228,
          59.352,
          59.476,
          59.6,
          59.724,
          59.848,
          59.972,
          60.096,
          60.22,
          60.344,
          60.468,
          60.592,
          60.716,
          60.84,
          60.964,
          61.088,
          61.212,
          61.336,
          61.46,
          61.584,
          61.708,
          61.832,
          61.956,
          62.08,
          62.204,
          62.328,
          62.452,
          62.576,
          62.7,
          62.824,
          62.948,
          63.072,
          63.196,
          63.32,
          63.444,
          63.568,
          63.692,
          63.816,
          63.94,
          64.064,
          64.188,
          64.312,
          64.436,
          64.56,
          64.684,
          64.80799999999999,
          64.932,
          65.056,
          65.18,
          65.304,
          65.428,
          65.55199999999999,
          65.676,
          65.8,
          65.924,
          66.048,
          66.172,
          66.29599999999999,
          66.42,
          66.544,
          66.668,
          66.792,
          66.916,
          67.03999999999999,
          67.164,
          67.288,
          67.412,
          67.536,
          67.66,
          67.78399999999999,
          67.908,
          68.032,
          68.156,
          68.28,
          68.404,
          68.52799999999999,
          68.652,
          68.77600000000001,
          68.9,
          69.024,
          69.148,
          69.27199999999999,
          69.396,
          69.52000000000001,
          69.644,
          69.768,
          69.892,
          70.01599999999999,
          70.14,
          70.26400000000001,
          70.388,
          70.512,
          70.636,
          70.75999999999999,
          70.884,
          71.00800000000001,
          71.132,
          71.256,
          71.38,
          71.50399999999999,
          71.628,
          71.75200000000001,
          71.876
         ],
         "xaxis": "x",
         "y": {
          "bdata": "8Rv48wh7Cj+P5hoVFF0MP8od4jQUZg4/PLqWQ41WED+iEAE8jqURP2CrKiCNLBM/4ppTmC/3FD/usuScmQ8XP2o9YRgpfhk/9Mp8UrZJHD8xsbhZbHgfPzklsYOciCE/5EUSGt+OIz9jOskxTNYlP4aekPbeaSg/qmPMwFdZKz+mTrgEGbouPxMB18XUUzE/VC2U9OKhMz/Zs97++1o2P262VPtclTk/TSylLhxpPT+4PwuQtPdAP2CrJV3foEM/EmZqlI28Rj+3IJR/p1ZKP2gpjVk4ek4/gClj3Z6YUT/gBSeFRkJUP1FhzjvmPVc/Guidfr2OWj8grMn5gDdePx0IQLQyHWE/7d73KpVMYz8qJrGokaplP2Ixy4mfN2g/XEkogQb0aj/OCy0s4d9tPx4siDqQfXA/ICIvfsgicj+bqj3scd9zP4prSu5ds3U/OsCsHmCedz9rPmtnWqB5PzNYz6NLuXs/NyzrBmDpfT8vctsOgRiAP5B2/3p1SIE/HSwN6xeFgj92hlgGJs+DP15q8NeSJ4U/foRfTIaPhj9ao8y2WQiIP+853IWRk4k/wB9rg9Qyiz/m/ZYb4eeMPxXrBzeBtI4/HU2Gmj5NkD9nNnREx02RPzkAOjipXJI/c20dl556kz/anzgVR6iUPzfb8a4i5pU/k0MsN400lz93eHvzupOYPy4LNXi2A5o/B3lE6V+Emz+8nFarbRWdPwR+FWxutp4/vXGRHmYzoD+WQLoq6BKhP1iDFnlT+aE/ExOuZTHmoj/nk5rS/9ijP4Boztcx0aQ/DSKfzS/OpT+TeZ7AVs+mPyDeu3P306c/AcgPJVXbqD/o6RRSpOSpPyxm9boJ76o/ySJW45n5qz/urLRJWQOtP0NwiYM9C64/2lBFWi8Qrz8v0PP1hgiwPxNqLVpZhrA/lemAJPsAsT9HNX6+2nexP1eD7k9r6rE/QcJCSSdYsj9Ii/vAksCyP2cyzJY9I7M/oKSIVsV/sz8BpCTW1tWzP+0JqYUvJbQ/F45nYZ5ttD/6i5JyBK+0P4opjsxU6bQ/ohn1/pMctT+oqz0D10i1PyIqoLxBbrU/xmhnLAWNtT+pavOAXaW1P2M2FCKQt7U/Nhpb1OnDtT997TgCvcq1P5+aWzBgzLU/HAETnCzJtT+83v79fMG1P9T/UGestbU/oodwKxWmtT+1nDHDD5O1P3F0LJTxfLU/cTC4iAtktT+n0IRtqEi1P/SnkhgLK7U/OD3Nb2wLtT+O0L13+em0P0+wV6DRxrQ/Y1q/iwWitD9daQOIlnu0P1tTx+l2U7Q/xOqzZIsptD/NwUdprf2zPzxfY3iuz7M/LbWnRVyfsz8sEq1shWyzP97mzWz+NrM/aUUolqb+sj87bvuRbMOyP76oHjhShbI/mJFKcG9Esj9xzi7s8wCyP5/y6ZInu7E/okyofWlzsT/g14dpLSqxP6JVR4n337A/NQ1FsFaVsD8+Smzt3EqwP+C/rtkWAbA/Y+C5LQRxrz+7m/pvB+OuP88Rlv2+WK4/L7Vh6mHSrT/s25/Ezk+tP7emS9aK0Kw/nmylsMlTrD/jXW8KfdirP4bYoO5rXas/CReVNE/hqj8o8Qll8GKqPyVjXq5H4ak/iNHPeZVbqT8NwQiedNGoP+/DIwjjQqg/OK0I5j+wpz/l+Vq2PxqnP3Dzd+3XgaY/akmg6CTopT+wbZaITU6lP+y1EO9ntaQ/5p3Cf2IepD+FshGE84mjP8/YA8yQ+KI/idawim9qoj9Yn6aii9+hPxrFBcK0V6E/VI3OJZ/SoD8nF6Wp9U+gP9k6cdPVnp8/gnk1QY+hnj9+12D36aedP0mIJIcEspw/my0YoEvAmz8FwS55c9OaP5Cg3Utq7Jk/Ydr/wkUMmT+4BulFLTSYP2VdjN9CZZc/3dQFR4yglj/YWYRa3eaVP/FWfTzFOJU/Et52NH+WlD+qUBxs6P+TP+jNuot7dJM/ZDf0A1Pzkj/l0GBxMnuSP0njDPmWCpI/D54Uzs2fkT8r/ytYDzmRP+Fzyc6c1JA/HisVrN1wkD+nAQs3egyQP/qO9jXhTI8//PdAI0V8jj+bG5jztKaNP+pgjV6PzIw/to2E4+Xuiz/f2Ij0WA+LP84uGNXrL4o/mryU8tRSiT9xUIRDT3qIP2MZ1npwqIc/0p1TyAbfhj+UNaCwfx+GP6dvlHDYaoU/JqRQhJfBhD+z9R9ZziOEP15AluYhkYM/5Rgn1tgIgz8WEYLp7YmCPx6S/GAlE4I/78eLLCSjgT+W7k2thziBP8IkXb/80YA/ZB87t1RugD/JJ5MClwyAPzanTX0cWH8/y1P/vJ+Yfj+EppnLe9p9P7otBn8FHn0/kqVyfA9kfD8ISlqVzq17P8j+JzG4/Ho/LkMFwF1Sej8//oMiSLB5PyoJlpTVF3k/FIWjHhyKeD8YRaL30Qd4P9tG3bs8kXc/WOif9icmdz+v8xY748V2PykLid5Hb3Y/j+LNPsYgdj+fS0ZFeth1P1vBCXhGlHU/V3wbZPRRdT+ukjSHWA91P9Ym5Dd3ynQ/5GOyg6eBdD9x3mC7sDN0PxvoAY3f33M/87ffKRCGcz+ipA0ErCZzP6MeTQ6bwnI/Xzem5ilbcj93Apm05/FxP2C++Yx/iHE/JVbsspEgcT8j9hH5kLtwP9YCHdynWnA/cbIGm0/9bz9mQjFyB1BvP2wKs6aqrW4/CFq4z9YVbj/j/EG8vIdtP8BbXDtPAm0/1o6f2XCEbD8K4TSgGg1sP0OwbHd3m2s/M+Fp3PEuaz83OA/KM8dqP8AxHbYaZGo/24fuDqMFaj+cDhGOz6tpP0Ewd+WQVmk/kkZi0bEFaT87M0+RyrhoP3SQkmc9b2g/2zydOzwoaD8hP6wP1uJnP74lJdoJnmc/Y/QLottYZz/BQHmQaBJnP0An6/72yWY/RqvCUAB/Zj/T/R96MzFmP7pv+klw4GU/jtMPsLyMZT8XMUUdNjZlP4OuLqYB3WQ/JqGYqz2BZD8dujl99yJkPwLcvL8mwmM/+SAuda9eYz9L62uAavhiP3bpZ34zj2I/1EBL/fkiYj855lSO07NhP4I/Y/4LQmE/fJ0VMTHOYD/0oOWjGFlgP5PP09i6x18/bGRD7qzfXj8CXkF6C/1dP0ckJOUDI10/fvOQdblUXD+iSbxVD5VbPyN1oah05lo/S56wjLZKWj9xFp8R28JZPyUzy0MHT1k/P+/UrHHuWD+3l00cYp9YP4691C8/X1g/bBB3y6kqWD+Y9S5Ypv1XP4QaYQbT01c/g35IZKmoVz872D1XyHdXP98xJhZCPVc/8Q8DZOj1Vj/S/rpNkJ9WP6rJYGZGOVY/0emgI23DVT8qKyKiwD9VP4jys549sVQ/xJN0g+wbVD+fzOuSlIRTPzkOgf1d8FI/jduFlWtkUj/XV+WXdeVRP9tPXoZud1E/NtZPgDkdUT9DMmw0d9hQPwItc99rqVA/TtYlRP6OUD92LiR7zYZQP9zGhRtajVA/q2kGlj6eUD8jOGKKcrRQPxFZpyOVylA/WsCA4DrbUD//tRlhO+FQP/Jj48v711A/GzMHILK7UD9wgnGKnYlQPws+CcYvQFA/AoQ+6Ee+Tz+BMtmpAM9OP25ukLQDt00/nApQIeV8TD9+GlcD3ChLP7a88kYxxEk/BdbXkKFYSD9VYq8lwO9GP/Mi4jBokkU/8WskZ0dIRD9BUoRwiRdDPxtWi2KnBEI/IzCmi1oSQT8kCyJ6rkFAP8lJpsZXJD8/cRcC+CkEPj8TGeauVx09Pzw95HD4aDw/EiOgGUffOz/ipG5xJng7PzqefkCVKzs/90gNvg7yOj+tKqOi1cQ6P6jHyRQpnjo/Z52nXGN5Oj8M/nf+AlM6P93mobKfKDo/B97Tsc34OT/fc3/b8sI5P9xO1DAShzk/83pgxJJFOT85hApvB/84P6rlIUP8szg/kk7P281kOD9tclpnjRE4Pxs3rtLyuTc/n+rl/1xdNz8SZ/Cg3vo2P/xHo09VkTY/f5N64ocfNj+fon/KSKQ1P63IrGuZHjU/brPMwMuNND+R0p0ToPEzP45VDQJdSjM/SM75XOCYMj+mWlygp94xP2MzWObOHTE/E7ShYgVZMD/ZYBOV7SYvP63CIFJToS0/FezWCacoLD/2v2q+ScQqP8RQGYcgeyk/BJm9WSFTKD/D8AhT6FAnPyZg7X1fdyY/pdse+IHHJT9pc3v3QEAlP0AdwveN3iQ/2Tn1uomdJD+pkzxa1HYkP1O+xej3YiQ/kKkNcOVZJD/1vTxpe1MkPwiLtR8NSCQ/M9V4ReMwJD/LCq0IrwgkP/mSA9DpyyM/LuIEPBx5Iz9U+q40BxEjP7seI/CpliI/kaWociAPIj/R0gCBV4EhPzNQz66V9SA/SE+vJt10ID+FreCuLgggP72+uC93bx8/do38hzEUHz/Jo0SfDwcfP/WMyGXXSh8/v90V//bbHz86gH4eQFggP221a7lh3CA/EOwt4j9wIT/Uvkb1RQgiPw/XgSplmCI/xJh+mxgVIz+Hk+wfVnQjP173qoJRriM/2l9U3f29Iz/6PkbaQaEjP7EG2M3dWCM/yTBycwzoIj/BUPIu71MiP0kqfujboiE/rczxYaTbID9X63pH7QQgPxT26YlNSR4/0isYCmR/HD8tx5+Yb7MaPzZd3Pla6hg/a+JOSwAnFz85a2XksmoVP9mezVzhtRM/KR2/BbUIEj+yKT2WmGMQP1tia2Itjw0/DRYiABJtCj+VMLknMWYHP7f5yfotgQQ/U/Wig3jFAT8Xs7ZBYHX+PgjShIUR0Pk+Qt5EDZWn9T670jfT9gXyPt1nQtfl5O0+O5N3Gwrj6D5gj0rUewrlPh66o7J8W+I+MvWxHGjT4D6osUUha23gPirhMVnGIuE+pKlo/33q4j4xiGrUerjlPr8Ka8E9fOk+cwzwEmQf7j7CQykTJ8LxPjXPQmihwvQ+UgvtCTL69z5FwISVWk77PgyLHvUnov4+rn4D7u7rAD8YCvIvimkCPyYE3G+JvQM/SY2hZJHeBD+bNQ99RscFPzxUXc37dgY/1k/Wb/TxBj8V/F7UJUEHP79UHCB5cQc/jRlofJqSBz89RVt7dLUHP0hRdSSB6gc/DgcOAyBACD9TwdLUH8EIP2nv2m6jcwk/PQT6WH1YCj97VpZ+DmsLP83/KJakoQw/z00740buDT+XpVuf1T8PP8yiYGCtQRA/YXCXF7XSED+0Z6eHuUkRP6gf0iV1nhE/aaoGIx/KET8B1N6MxccRP2fMiHSGlBE/hniG6qgvET/yGFnDl5oQPw==",
          "dtype": "f8"
         },
         "yaxis": "y"
        }
       ],
       "layout": {
        "barmode": "overlay",
        "hovermode": "closest",
        "legend": {
         "traceorder": "reversed"
        },
        "template": {
         "data": {
          "bar": [
           {
            "error_x": {
             "color": "#2a3f5f"
            },
            "error_y": {
             "color": "#2a3f5f"
            },
            "marker": {
             "line": {
              "color": "#E5ECF6",
              "width": 0.5
             },
             "pattern": {
              "fillmode": "overlay",
              "size": 10,
              "solidity": 0.2
             }
            },
            "type": "bar"
           }
          ],
          "barpolar": [
           {
            "marker": {
             "line": {
              "color": "#E5ECF6",
              "width": 0.5
             },
             "pattern": {
              "fillmode": "overlay",
              "size": 10,
              "solidity": 0.2
             }
            },
            "type": "barpolar"
           }
          ],
          "carpet": [
           {
            "aaxis": {
             "endlinecolor": "#2a3f5f",
             "gridcolor": "white",
             "linecolor": "white",
             "minorgridcolor": "white",
             "startlinecolor": "#2a3f5f"
            },
            "baxis": {
             "endlinecolor": "#2a3f5f",
             "gridcolor": "white",
             "linecolor": "white",
             "minorgridcolor": "white",
             "startlinecolor": "#2a3f5f"
            },
            "type": "carpet"
           }
          ],
          "choropleth": [
           {
            "colorbar": {
             "outlinewidth": 0,
             "ticks": ""
            },
            "type": "choropleth"
           }
          ],
          "contour": [
           {
            "colorbar": {
             "outlinewidth": 0,
             "ticks": ""
            },
            "colorscale": [
             [
              0,
              "#0d0887"
             ],
             [
              0.1111111111111111,
              "#46039f"
             ],
             [
              0.2222222222222222,
              "#7201a8"
             ],
             [
              0.3333333333333333,
              "#9c179e"
             ],
             [
              0.4444444444444444,
              "#bd3786"
             ],
             [
              0.5555555555555556,
              "#d8576b"
             ],
             [
              0.6666666666666666,
              "#ed7953"
             ],
             [
              0.7777777777777778,
              "#fb9f3a"
             ],
             [
              0.8888888888888888,
              "#fdca26"
             ],
             [
              1,
              "#f0f921"
             ]
            ],
            "type": "contour"
           }
          ],
          "contourcarpet": [
           {
            "colorbar": {
             "outlinewidth": 0,
             "ticks": ""
            },
            "type": "contourcarpet"
           }
          ],
          "heatmap": [
           {
            "colorbar": {
             "outlinewidth": 0,
             "ticks": ""
            },
            "colorscale": [
             [
              0,
              "#0d0887"
             ],
             [
              0.1111111111111111,
              "#46039f"
             ],
             [
              0.2222222222222222,
              "#7201a8"
             ],
             [
              0.3333333333333333,
              "#9c179e"
             ],
             [
              0.4444444444444444,
              "#bd3786"
             ],
             [
              0.5555555555555556,
              "#d8576b"
             ],
             [
              0.6666666666666666,
              "#ed7953"
             ],
             [
              0.7777777777777778,
              "#fb9f3a"
             ],
             [
              0.8888888888888888,
              "#fdca26"
             ],
             [
              1,
              "#f0f921"
             ]
            ],
            "type": "heatmap"
           }
          ],
          "histogram": [
           {
            "marker": {
             "pattern": {
              "fillmode": "overlay",
              "size": 10,
              "solidity": 0.2
             }
            },
            "type": "histogram"
           }
          ],
          "histogram2d": [
           {
            "colorbar": {
             "outlinewidth": 0,
             "ticks": ""
            },
            "colorscale": [
             [
              0,
              "#0d0887"
             ],
             [
              0.1111111111111111,
              "#46039f"
             ],
             [
              0.2222222222222222,
              "#7201a8"
             ],
             [
              0.3333333333333333,
              "#9c179e"
             ],
             [
              0.4444444444444444,
              "#bd3786"
             ],
             [
              0.5555555555555556,
              "#d8576b"
             ],
             [
              0.6666666666666666,
              "#ed7953"
             ],
             [
              0.7777777777777778,
              "#fb9f3a"
             ],
             [
              0.8888888888888888,
              "#fdca26"
             ],
             [
              1,
              "#f0f921"
             ]
            ],
            "type": "histogram2d"
           }
          ],
          "histogram2dcontour": [
           {
            "colorbar": {
             "outlinewidth": 0,
             "ticks": ""
            },
            "colorscale": [
             [
              0,
              "#0d0887"
             ],
             [
              0.1111111111111111,
              "#46039f"
             ],
             [
              0.2222222222222222,
              "#7201a8"
             ],
             [
              0.3333333333333333,
              "#9c179e"
             ],
             [
              0.4444444444444444,
              "#bd3786"
             ],
             [
              0.5555555555555556,
              "#d8576b"
             ],
             [
              0.6666666666666666,
              "#ed7953"
             ],
             [
              0.7777777777777778,
              "#fb9f3a"
             ],
             [
              0.8888888888888888,
              "#fdca26"
             ],
             [
              1,
              "#f0f921"
             ]
            ],
            "type": "histogram2dcontour"
           }
          ],
          "mesh3d": [
           {
            "colorbar": {
             "outlinewidth": 0,
             "ticks": ""
            },
            "type": "mesh3d"
           }
          ],
          "parcoords": [
           {
            "line": {
             "colorbar": {
              "outlinewidth": 0,
              "ticks": ""
             }
            },
            "type": "parcoords"
           }
          ],
          "pie": [
           {
            "automargin": true,
            "type": "pie"
           }
          ],
          "scatter": [
           {
            "fillpattern": {
             "fillmode": "overlay",
             "size": 10,
             "solidity": 0.2
            },
            "type": "scatter"
           }
          ],
          "scatter3d": [
           {
            "line": {
             "colorbar": {
              "outlinewidth": 0,
              "ticks": ""
             }
            },
            "marker": {
             "colorbar": {
              "outlinewidth": 0,
              "ticks": ""
             }
            },
            "type": "scatter3d"
           }
          ],
          "scattercarpet": [
           {
            "marker": {
             "colorbar": {
              "outlinewidth": 0,
              "ticks": ""
             }
            },
            "type": "scattercarpet"
           }
          ],
          "scattergeo": [
           {
            "marker": {
             "colorbar": {
              "outlinewidth": 0,
              "ticks": ""
             }
            },
            "type": "scattergeo"
           }
          ],
          "scattergl": [
           {
            "marker": {
             "colorbar": {
              "outlinewidth": 0,
              "ticks": ""
             }
            },
            "type": "scattergl"
           }
          ],
          "scattermap": [
           {
            "marker": {
             "colorbar": {
              "outlinewidth": 0,
              "ticks": ""
             }
            },
            "type": "scattermap"
           }
          ],
          "scattermapbox": [
           {
            "marker": {
             "colorbar": {
              "outlinewidth": 0,
              "ticks": ""
             }
            },
            "type": "scattermapbox"
           }
          ],
          "scatterpolar": [
           {
            "marker": {
             "colorbar": {
              "outlinewidth": 0,
              "ticks": ""
             }
            },
            "type": "scatterpolar"
           }
          ],
          "scatterpolargl": [
           {
            "marker": {
             "colorbar": {
              "outlinewidth": 0,
              "ticks": ""
             }
            },
            "type": "scatterpolargl"
           }
          ],
          "scatterternary": [
           {
            "marker": {
             "colorbar": {
              "outlinewidth": 0,
              "ticks": ""
             }
            },
            "type": "scatterternary"
           }
          ],
          "surface": [
           {
            "colorbar": {
             "outlinewidth": 0,
             "ticks": ""
            },
            "colorscale": [
             [
              0,
              "#0d0887"
             ],
             [
              0.1111111111111111,
              "#46039f"
             ],
             [
              0.2222222222222222,
              "#7201a8"
             ],
             [
              0.3333333333333333,
              "#9c179e"
             ],
             [
              0.4444444444444444,
              "#bd3786"
             ],
             [
              0.5555555555555556,
              "#d8576b"
             ],
             [
              0.6666666666666666,
              "#ed7953"
             ],
             [
              0.7777777777777778,
              "#fb9f3a"
             ],
             [
              0.8888888888888888,
              "#fdca26"
             ],
             [
              1,
              "#f0f921"
             ]
            ],
            "type": "surface"
           }
          ],
          "table": [
           {
            "cells": {
             "fill": {
              "color": "#EBF0F8"
             },
             "line": {
              "color": "white"
             }
            },
            "header": {
             "fill": {
              "color": "#C8D4E3"
             },
             "line": {
              "color": "white"
             }
            },
            "type": "table"
           }
          ]
         },
         "layout": {
          "annotationdefaults": {
           "arrowcolor": "#2a3f5f",
           "arrowhead": 0,
           "arrowwidth": 1
          },
          "autotypenumbers": "strict",
          "coloraxis": {
           "colorbar": {
            "outlinewidth": 0,
            "ticks": ""
           }
          },
          "colorscale": {
           "diverging": [
            [
             0,
             "#8e0152"
            ],
            [
             0.1,
             "#c51b7d"
            ],
            [
             0.2,
             "#de77ae"
            ],
            [
             0.3,
             "#f1b6da"
            ],
            [
             0.4,
             "#fde0ef"
            ],
            [
             0.5,
             "#f7f7f7"
            ],
            [
             0.6,
             "#e6f5d0"
            ],
            [
             0.7,
             "#b8e186"
            ],
            [
             0.8,
             "#7fbc41"
            ],
            [
             0.9,
             "#4d9221"
            ],
            [
             1,
             "#276419"
            ]
           ],
           "sequential": [
            [
             0,
             "#0d0887"
            ],
            [
             0.1111111111111111,
             "#46039f"
            ],
            [
             0.2222222222222222,
             "#7201a8"
            ],
            [
             0.3333333333333333,
             "#9c179e"
            ],
            [
             0.4444444444444444,
             "#bd3786"
            ],
            [
             0.5555555555555556,
             "#d8576b"
            ],
            [
             0.6666666666666666,
             "#ed7953"
            ],
            [
             0.7777777777777778,
             "#fb9f3a"
            ],
            [
             0.8888888888888888,
             "#fdca26"
            ],
            [
             1,
             "#f0f921"
            ]
           ],
           "sequentialminus": [
            [
             0,
             "#0d0887"
            ],
            [
             0.1111111111111111,
             "#46039f"
            ],
            [
             0.2222222222222222,
             "#7201a8"
            ],
            [
             0.3333333333333333,
             "#9c179e"
            ],
            [
             0.4444444444444444,
             "#bd3786"
            ],
            [
             0.5555555555555556,
             "#d8576b"
            ],
            [
             0.6666666666666666,
             "#ed7953"
            ],
            [
             0.7777777777777778,
             "#fb9f3a"
            ],
            [
             0.8888888888888888,
             "#fdca26"
            ],
            [
             1,
             "#f0f921"
            ]
           ]
          },
          "colorway": [
           "#636efa",
           "#EF553B",
           "#00cc96",
           "#ab63fa",
           "#FFA15A",
           "#19d3f3",
           "#FF6692",
           "#B6E880",
           "#FF97FF",
           "#FECB52"
          ],
          "font": {
           "color": "#2a3f5f"
          },
          "geo": {
           "bgcolor": "white",
           "lakecolor": "white",
           "landcolor": "#E5ECF6",
           "showlakes": true,
           "showland": true,
           "subunitcolor": "white"
          },
          "hoverlabel": {
           "align": "left"
          },
          "hovermode": "closest",
          "mapbox": {
           "style": "light"
          },
          "paper_bgcolor": "white",
          "plot_bgcolor": "#E5ECF6",
          "polar": {
           "angularaxis": {
            "gridcolor": "white",
            "linecolor": "white",
            "ticks": ""
           },
           "bgcolor": "#E5ECF6",
           "radialaxis": {
            "gridcolor": "white",
            "linecolor": "white",
            "ticks": ""
           }
          },
          "scene": {
           "xaxis": {
            "backgroundcolor": "#E5ECF6",
            "gridcolor": "white",
            "gridwidth": 2,
            "linecolor": "white",
            "showbackground": true,
            "ticks": "",
            "zerolinecolor": "white"
           },
           "yaxis": {
            "backgroundcolor": "#E5ECF6",
            "gridcolor": "white",
            "gridwidth": 2,
            "linecolor": "white",
            "showbackground": true,
            "ticks": "",
            "zerolinecolor": "white"
           },
           "zaxis": {
            "backgroundcolor": "#E5ECF6",
            "gridcolor": "white",
            "gridwidth": 2,
            "linecolor": "white",
            "showbackground": true,
            "ticks": "",
            "zerolinecolor": "white"
           }
          },
          "shapedefaults": {
           "line": {
            "color": "#2a3f5f"
           }
          },
          "ternary": {
           "aaxis": {
            "gridcolor": "white",
            "linecolor": "white",
            "ticks": ""
           },
           "baxis": {
            "gridcolor": "white",
            "linecolor": "white",
            "ticks": ""
           },
           "bgcolor": "#E5ECF6",
           "caxis": {
            "gridcolor": "white",
            "linecolor": "white",
            "ticks": ""
           }
          },
          "title": {
           "x": 0.05
          },
          "xaxis": {
           "automargin": true,
           "gridcolor": "white",
           "linecolor": "white",
           "ticks": "",
           "title": {
            "standoff": 15
           },
           "zerolinecolor": "white",
           "zerolinewidth": 2
          },
          "yaxis": {
           "automargin": true,
           "gridcolor": "white",
           "linecolor": "white",
           "ticks": "",
           "title": {
            "standoff": 15
           },
           "zerolinecolor": "white",
           "zerolinewidth": 2
          }
         }
        },
        "xaxis": {
         "anchor": "y2",
         "domain": [
          0,
          1
         ],
         "zeroline": false
        },
        "yaxis": {
         "anchor": "free",
         "domain": [
          0,
          1
         ],
         "position": 0
        }
       }
      }
     },
     "metadata": {},
     "output_type": "display_data"
    }
   ],
   "source": [
    "fig=ff.create_distplot([x1,x2,x3,x4],['Overall Age','Gold Medallist','Silver Medallist','Bronze Medallist'],show_hist=False,show_rug=False)\n",
    "fig.show()"
   ]
  },
  {
   "cell_type": "code",
   "execution_count": 148,
   "id": "e1f995b6",
   "metadata": {},
   "outputs": [
    {
     "name": "stderr",
     "output_type": "stream",
     "text": [
      "C:\\Users\\prava\\AppData\\Local\\Temp\\ipykernel_18700\\4160890072.py:1: FutureWarning:\n",
      "\n",
      "A value is trying to be set on a copy of a DataFrame or Series through chained assignment using an inplace method.\n",
      "The behavior will change in pandas 3.0. This inplace method will never work because the intermediate object on which we are setting values always behaves as a copy.\n",
      "\n",
      "For example, when doing 'df[col].method(value, inplace=True)', try using 'df.method({col: value}, inplace=True)' or df[col] = df[col].method(value) instead, to perform the operation inplace on the original object.\n",
      "\n",
      "\n",
      "\n"
     ]
    }
   ],
   "source": [
    "athlete_df['Medal'].fillna('No Medal',inplace=True)"
   ]
  },
  {
   "cell_type": "code",
   "execution_count": 149,
   "id": "310ebb12",
   "metadata": {},
   "outputs": [
    {
     "data": {
      "text/plain": [
       "<Axes: xlabel='Weight', ylabel='Height'>"
      ]
     },
     "execution_count": 149,
     "metadata": {},
     "output_type": "execute_result"
    },
    {
     "data": {
      "image/png": "[encoded data removed]",
      "text/plain": [
       "<Figure size 1000x1000 with 1 Axes>"
      ]
     },
     "metadata": {},
     "output_type": "display_data"
    }
   ],
   "source": [
    "plt.figure(figsize=(10,10))\n",
    "temp_df = athlete_df[(athlete_df['Sport']=='Athletics') & (athlete_df['Medal']!='No Medal')]\n",
    "\n",
    "palette = {\n",
    "    'Gold': '#FFD700',        # gold color\n",
    "    'Silver': '#A9A9A9',      # dark grey\n",
    "    'Bronze': '#8B0000',       # dark red (red-black)\n",
    "    'No Medal': \"#035A14\"\n",
    "}\n",
    "\n",
    "sns.scatterplot(\n",
    "    x=temp_df['Weight'],\n",
    "    y=temp_df['Height'],\n",
    "    hue=temp_df['Medal'],\n",
    "    style=temp_df['Sex'],\n",
    "    palette=palette\n",
    ")"
   ]
  },
  {
   "cell_type": "code",
   "execution_count": 150,
   "id": "41aeb7c2",
   "metadata": {},
   "outputs": [],
   "source": [
    "men=athlete_df[athlete_df['Sex']=='M'].groupby('Year').count()['Name'].reset_index()\n",
    "women=athlete_df[athlete_df['Sex']=='F'].groupby('Year').count()['Name'].reset_index()"
   ]
  },
  {
   "cell_type": "code",
   "execution_count": 161,
   "id": "0f699a47",
   "metadata": {},
   "outputs": [
    {
     "data": {
      "application/vnd.plotly.v1+json": {
       "config": {
        "plotlyServerURL": "https://plot.ly"
       },
       "data": [
        {
         "hovertemplate": "variable=Male<br>Year=%{x}<br>value=%{y}<extra></extra>",
         "legendgroup": "Male",
         "line": {
          "color": "#636efa",
          "dash": "solid"
         },
         "marker": {
          "symbol": "circle"
         },
         "mode": "lines",
         "name": "Male",
         "orientation": "v",
         "showlegend": true,
         "type": "scatter",
         "x": {
          "bdata": "aAdsB3AHcgd0B3gHgAeEB4gHjAeQB5wHoAekB6gHrAewB7QHuAe8B8AHxAfIB8wH0AfUB9gH3AfgBw==",
          "dtype": "i2"
         },
         "xaxis": "x",
         "y": {
          "bdata": "AAAAAADAd0AAAAAAACSdQAAAAAAAFJRAAAAAAADomkAAAAAAAJynQAAAAAAA4q5AAAAAAAA+sEAAAAAAAAyzQAAAAAAAqbBAAAAAAAAwoUAAAAAAAKy2QAAAAAAAQrZAAAAAAAB1ukAAAAAAAIqwQAAAAAAAHLpAAAAAAADSuEAAAAAAAJu6QAAAAAAAr79AAAAAAABFuUAAAAAAADu1QAAAAAAAX7tAAAAAAACXwEAAAAAAgErBQAAAAAAAIsFAAAAAAABjwEAAAAAAANm+QAAAAAAAar5AAAAAAADBu0AAAAAAACm9QA==",
          "dtype": "f8"
         },
         "yaxis": "y"
        },
        {
         "hovertemplate": "variable=Female<br>Year=%{x}<br>value=%{y}<extra></extra>",
         "legendgroup": "Female",
         "line": {
          "color": "#EF553B",
          "dash": "solid"
         },
         "marker": {
          "symbol": "circle"
         },
         "mode": "lines",
         "name": "Female",
         "orientation": "v",
         "showlegend": true,
         "type": "scatter",
         "x": {
          "bdata": "aAdsB3AHcgd0B3gHgAeEB4gHjAeQB5wHoAekB6gHrAewB7QHuAe8B8AHxAfIB8wH0AfUB9gH3AfgBw==",
          "dtype": "i2"
         },
         "xaxis": "x",
         "y": {
          "bdata": "AAAAAAAAAAAAAAAAAIBAQAAAAAAAADBAAAAAAAAAJkAAAAAAAIBHQAAAAAAAwFVAAAAAAADAYEAAAAAAAEBtQAAAAAAAcHhAAAAAAACQcEAAAAAAAPB7QAAAAAAAEINAAAAAAABkl0AAAAAAAOiLQAAAAAAAbJZAAAAAAAAQlUAAAAAAAMSbQAAAAAAAIqFAAAAAAAD4oEAAAAAAAHCbQAAAAAAAHqNAAAAAAACuq0AAAAAAABywQAAAAAAAkLNAAAAAAAA3tUAAAAAAAKq1QAAAAAAAuLZAAAAAAAC3tkAAAAAAAE+4QA==",
          "dtype": "f8"
         },
         "yaxis": "y"
        }
       ],
       "layout": {
        "legend": {
         "title": {
          "text": "variable"
         },
         "tracegroupgap": 0
        },
        "margin": {
         "t": 60
        },
        "template": {
         "data": {
          "bar": [
           {
            "error_x": {
             "color": "#2a3f5f"
            },
            "error_y": {
             "color": "#2a3f5f"
            },
            "marker": {
             "line": {
              "color": "#E5ECF6",
              "width": 0.5
             },
             "pattern": {
              "fillmode": "overlay",
              "size": 10,
              "solidity": 0.2
             }
            },
            "type": "bar"
           }
          ],
          "barpolar": [
           {
            "marker": {
             "line": {
              "color": "#E5ECF6",
              "width": 0.5
             },
             "pattern": {
              "fillmode": "overlay",
              "size": 10,
              "solidity": 0.2
             }
            },
            "type": "barpolar"
           }
          ],
          "carpet": [
           {
            "aaxis": {
             "endlinecolor": "#2a3f5f",
             "gridcolor": "white",
             "linecolor": "white",
             "minorgridcolor": "white",
             "startlinecolor": "#2a3f5f"
            },
            "baxis": {
             "endlinecolor": "#2a3f5f",
             "gridcolor": "white",
             "linecolor": "white",
             "minorgridcolor": "white",
             "startlinecolor": "#2a3f5f"
            },
            "type": "carpet"
           }
          ],
          "choropleth": [
           {
            "colorbar": {
             "outlinewidth": 0,
             "ticks": ""
            },
            "type": "choropleth"
           }
          ],
          "contour": [
           {
            "colorbar": {
             "outlinewidth": 0,
             "ticks": ""
            },
            "colorscale": [
             [
              0,
              "#0d0887"
             ],
             [
              0.1111111111111111,
              "#46039f"
             ],
             [
              0.2222222222222222,
              "#7201a8"
             ],
             [
              0.3333333333333333,
              "#9c179e"
             ],
             [
              0.4444444444444444,
              "#bd3786"
             ],
             [
              0.5555555555555556,
              "#d8576b"
             ],
             [
              0.6666666666666666,
              "#ed7953"
             ],
             [
              0.7777777777777778,
              "#fb9f3a"
             ],
             [
              0.8888888888888888,
              "#fdca26"
             ],
             [
              1,
              "#f0f921"
             ]
            ],
            "type": "contour"
           }
          ],
          "contourcarpet": [
           {
            "colorbar": {
             "outlinewidth": 0,
             "ticks": ""
            },
            "type": "contourcarpet"
           }
          ],
          "heatmap": [
           {
            "colorbar": {
             "outlinewidth": 0,
             "ticks": ""
            },
            "colorscale": [
             [
              0,
              "#0d0887"
             ],
             [
              0.1111111111111111,
              "#46039f"
             ],
             [
              0.2222222222222222,
              "#7201a8"
             ],
             [
              0.3333333333333333,
              "#9c179e"
             ],
             [
              0.4444444444444444,
              "#bd3786"
             ],
             [
              0.5555555555555556,
              "#d8576b"
             ],
             [
              0.6666666666666666,
              "#ed7953"
             ],
             [
              0.7777777777777778,
              "#fb9f3a"
             ],
             [
              0.8888888888888888,
              "#fdca26"
             ],
             [
              1,
              "#f0f921"
             ]
            ],
            "type": "heatmap"
           }
          ],
          "histogram": [
           {
            "marker": {
             "pattern": {
              "fillmode": "overlay",
              "size": 10,
              "solidity": 0.2
             }
            },
            "type": "histogram"
           }
          ],
          "histogram2d": [
           {
            "colorbar": {
             "outlinewidth": 0,
             "ticks": ""
            },
            "colorscale": [
             [
              0,
              "#0d0887"
             ],
             [
              0.1111111111111111,
              "#46039f"
             ],
             [
              0.2222222222222222,
              "#7201a8"
             ],
             [
              0.3333333333333333,
              "#9c179e"
             ],
             [
              0.4444444444444444,
              "#bd3786"
             ],
             [
              0.5555555555555556,
              "#d8576b"
             ],
             [
              0.6666666666666666,
              "#ed7953"
             ],
             [
              0.7777777777777778,
              "#fb9f3a"
             ],
             [
              0.8888888888888888,
              "#fdca26"
             ],
             [
              1,
              "#f0f921"
             ]
            ],
            "type": "histogram2d"
           }
          ],
          "histogram2dcontour": [
           {
            "colorbar": {
             "outlinewidth": 0,
             "ticks": ""
            },
            "colorscale": [
             [
              0,
              "#0d0887"
             ],
             [
              0.1111111111111111,
              "#46039f"
             ],
             [
              0.2222222222222222,
              "#7201a8"
             ],
             [
              0.3333333333333333,
              "#9c179e"
             ],
             [
              0.4444444444444444,
              "#bd3786"
             ],
             [
              0.5555555555555556,
              "#d8576b"
             ],
             [
              0.6666666666666666,
              "#ed7953"
             ],
             [
              0.7777777777777778,
              "#fb9f3a"
             ],
             [
              0.8888888888888888,
              "#fdca26"
             ],
             [
              1,
              "#f0f921"
             ]
            ],
            "type": "histogram2dcontour"
           }
          ],
          "mesh3d": [
           {
            "colorbar": {
             "outlinewidth": 0,
             "ticks": ""
            },
            "type": "mesh3d"
           }
          ],
          "parcoords": [
           {
            "line": {
             "colorbar": {
              "outlinewidth": 0,
              "ticks": ""
             }
            },
            "type": "parcoords"
           }
          ],
          "pie": [
           {
            "automargin": true,
            "type": "pie"
           }
          ],
          "scatter": [
           {
            "fillpattern": {
             "fillmode": "overlay",
             "size": 10,
             "solidity": 0.2
            },
            "type": "scatter"
           }
          ],
          "scatter3d": [
           {
            "line": {
             "colorbar": {
              "outlinewidth": 0,
              "ticks": ""
             }
            },
            "marker": {
             "colorbar": {
              "outlinewidth": 0,
              "ticks": ""
             }
            },
            "type": "scatter3d"
           }
          ],
          "scattercarpet": [
           {
            "marker": {
             "colorbar": {
              "outlinewidth": 0,
              "ticks": ""
             }
            },
            "type": "scattercarpet"
           }
          ],
          "scattergeo": [
           {
            "marker": {
             "colorbar": {
              "outlinewidth": 0,
              "ticks": ""
             }
            },
            "type": "scattergeo"
           }
          ],
          "scattergl": [
           {
            "marker": {
             "colorbar": {
              "outlinewidth": 0,
              "ticks": ""
             }
            },
            "type": "scattergl"
           }
          ],
          "scattermap": [
           {
            "marker": {
             "colorbar": {
              "outlinewidth": 0,
              "ticks": ""
             }
            },
            "type": "scattermap"
           }
          ],
          "scattermapbox": [
           {
            "marker": {
             "colorbar": {
              "outlinewidth": 0,
              "ticks": ""
             }
            },
            "type": "scattermapbox"
           }
          ],
          "scatterpolar": [
           {
            "marker": {
             "colorbar": {
              "outlinewidth": 0,
              "ticks": ""
             }
            },
            "type": "scatterpolar"
           }
          ],
          "scatterpolargl": [
           {
            "marker": {
             "colorbar": {
              "outlinewidth": 0,
              "ticks": ""
             }
            },
            "type": "scatterpolargl"
           }
          ],
          "scatterternary": [
           {
            "marker": {
             "colorbar": {
              "outlinewidth": 0,
              "ticks": ""
             }
            },
            "type": "scatterternary"
           }
          ],
          "surface": [
           {
            "colorbar": {
             "outlinewidth": 0,
             "ticks": ""
            },
            "colorscale": [
             [
              0,
              "#0d0887"
             ],
             [
              0.1111111111111111,
              "#46039f"
             ],
             [
              0.2222222222222222,
              "#7201a8"
             ],
             [
              0.3333333333333333,
              "#9c179e"
             ],
             [
              0.4444444444444444,
              "#bd3786"
             ],
             [
              0.5555555555555556,
              "#d8576b"
             ],
             [
              0.6666666666666666,
              "#ed7953"
             ],
             [
              0.7777777777777778,
              "#fb9f3a"
             ],
             [
              0.8888888888888888,
              "#fdca26"
             ],
             [
              1,
              "#f0f921"
             ]
            ],
            "type": "surface"
           }
          ],
          "table": [
           {
            "cells": {
             "fill": {
              "color": "#EBF0F8"
             },
             "line": {
              "color": "white"
             }
            },
            "header": {
             "fill": {
              "color": "#C8D4E3"
             },
             "line": {
              "color": "white"
             }
            },
            "type": "table"
           }
          ]
         },
         "layout": {
          "annotationdefaults": {
           "arrowcolor": "#2a3f5f",
           "arrowhead": 0,
           "arrowwidth": 1
          },
          "autotypenumbers": "strict",
          "coloraxis": {
           "colorbar": {
            "outlinewidth": 0,
            "ticks": ""
           }
          },
          "colorscale": {
           "diverging": [
            [
             0,
             "#8e0152"
            ],
            [
             0.1,
             "#c51b7d"
            ],
            [
             0.2,
             "#de77ae"
            ],
            [
             0.3,
             "#f1b6da"
            ],
            [
             0.4,
             "#fde0ef"
            ],
            [
             0.5,
             "#f7f7f7"
            ],
            [
             0.6,
             "#e6f5d0"
            ],
            [
             0.7,
             "#b8e186"
            ],
            [
             0.8,
             "#7fbc41"
            ],
            [
             0.9,
             "#4d9221"
            ],
            [
             1,
             "#276419"
            ]
           ],
           "sequential": [
            [
             0,
             "#0d0887"
            ],
            [
             0.1111111111111111,
             "#46039f"
            ],
            [
             0.2222222222222222,
             "#7201a8"
            ],
            [
             0.3333333333333333,
             "#9c179e"
            ],
            [
             0.4444444444444444,
             "#bd3786"
            ],
            [
             0.5555555555555556,
             "#d8576b"
            ],
            [
             0.6666666666666666,
             "#ed7953"
            ],
            [
             0.7777777777777778,
             "#fb9f3a"
            ],
            [
             0.8888888888888888,
             "#fdca26"
            ],
            [
             1,
             "#f0f921"
            ]
           ],
           "sequentialminus": [
            [
             0,
             "#0d0887"
            ],
            [
             0.1111111111111111,
             "#46039f"
            ],
            [
             0.2222222222222222,
             "#7201a8"
            ],
            [
             0.3333333333333333,
             "#9c179e"
            ],
            [
             0.4444444444444444,
             "#bd3786"
            ],
            [
             0.5555555555555556,
             "#d8576b"
            ],
            [
             0.6666666666666666,
             "#ed7953"
            ],
            [
             0.7777777777777778,
             "#fb9f3a"
            ],
            [
             0.8888888888888888,
             "#fdca26"
            ],
            [
             1,
             "#f0f921"
            ]
           ]
          },
          "colorway": [
           "#636efa",
           "#EF553B",
           "#00cc96",
           "#ab63fa",
           "#FFA15A",
           "#19d3f3",
           "#FF6692",
           "#B6E880",
           "#FF97FF",
           "#FECB52"
          ],
          "font": {
           "color": "#2a3f5f"
          },
          "geo": {
           "bgcolor": "white",
           "lakecolor": "white",
           "landcolor": "#E5ECF6",
           "showlakes": true,
           "showland": true,
           "subunitcolor": "white"
          },
          "hoverlabel": {
           "align": "left"
          },
          "hovermode": "closest",
          "mapbox": {
           "style": "light"
          },
          "paper_bgcolor": "white",
          "plot_bgcolor": "#E5ECF6",
          "polar": {
           "angularaxis": {
            "gridcolor": "white",
            "linecolor": "white",
            "ticks": ""
           },
           "bgcolor": "#E5ECF6",
           "radialaxis": {
            "gridcolor": "white",
            "linecolor": "white",
            "ticks": ""
           }
          },
          "scene": {
           "xaxis": {
            "backgroundcolor": "#E5ECF6",
            "gridcolor": "white",
            "gridwidth": 2,
            "linecolor": "white",
            "showbackground": true,
            "ticks": "",
            "zerolinecolor": "white"
           },
           "yaxis": {
            "backgroundcolor": "#E5ECF6",
            "gridcolor": "white",
            "gridwidth": 2,
            "linecolor": "white",
            "showbackground": true,
            "ticks": "",
            "zerolinecolor": "white"
           },
           "zaxis": {
            "backgroundcolor": "#E5ECF6",
            "gridcolor": "white",
            "gridwidth": 2,
            "linecolor": "white",
            "showbackground": true,
            "ticks": "",
            "zerolinecolor": "white"
           }
          },
          "shapedefaults": {
           "line": {
            "color": "#2a3f5f"
           }
          },
          "ternary": {
           "aaxis": {
            "gridcolor": "white",
            "linecolor": "white",
            "ticks": ""
           },
           "baxis": {
            "gridcolor": "white",
            "linecolor": "white",
            "ticks": ""
           },
           "bgcolor": "#E5ECF6",
           "caxis": {
            "gridcolor": "white",
            "linecolor": "white",
            "ticks": ""
           }
          },
          "title": {
           "x": 0.05
          },
          "xaxis": {
           "automargin": true,
           "gridcolor": "white",
           "linecolor": "white",
           "ticks": "",
           "title": {
            "standoff": 15
           },
           "zerolinecolor": "white",
           "zerolinewidth": 2
          },
          "yaxis": {
           "automargin": true,
           "gridcolor": "white",
           "linecolor": "white",
           "ticks": "",
           "title": {
            "standoff": 15
           },
           "zerolinecolor": "white",
           "zerolinewidth": 2
          }
         }
        },
        "xaxis": {
         "anchor": "y",
         "domain": [
          0,
          1
         ],
         "title": {
          "text": "Year"
         }
        },
        "yaxis": {
         "anchor": "x",
         "domain": [
          0,
          1
         ],
         "title": {
          "text": "value"
         }
        }
       }
      }
     },
     "metadata": {},
     "output_type": "display_data"
    }
   ],
   "source": [
    "final = men.merge(women, on='Year', how='left')\n",
    "final = final.rename(columns={'Name_x':'Male','Name_y':'Female'})\n",
    "final = final.fillna(0)\n",
    "fig = px.line(final, x='Year', y=['Male', 'Female'])\n",
    "fig.show()"
   ]
  },
  {
   "cell_type": "code",
   "execution_count": null,
   "id": "6a40cafc",
   "metadata": {},
   "outputs": [],
   "source": []
  }
 ],
 "metadata": {
  "kernelspec": {
   "display_name": ".venv",
   "language": "python",
   "name": "python3"
  },
  "language_info": {
   "codemirror_mode": {
    "name": "ipython",
    "version": 3
   },
   "file_extension": ".py",
   "mimetype": "text/x-python",
   "name": "python",
   "nbconvert_exporter": "python",
   "pygments_lexer": "ipython3",
   "version": "3.12.10"
  }
 },
 "nbformat": 4,
 "nbformat_minor": 5
}
